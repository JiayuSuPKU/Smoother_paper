{
 "cells": [
  {
   "cell_type": "markdown",
   "id": "4cd56dc8-38b8-4ce2-b52e-55f4df70428e",
   "metadata": {},
   "source": [
    "# Dimensionality reduction benchmark on DLPFC slides (Fig S26)"
   ]
  },
  {
   "cell_type": "code",
   "execution_count": 1,
   "id": "5ebf4422-968a-4bd8-a742-2c4e852a47a8",
   "metadata": {},
   "outputs": [
    {
     "name": "stderr",
     "output_type": "stream",
     "text": [
      "/Users/jysumac/miniforge3/envs/spaceflow/lib/python3.11/site-packages/scvi/_settings.py:63: UserWarning: Since v1.0.0, scvi-tools no longer uses a random seed by default. Run `scvi.settings.seed = 0` to reproduce results from previous versions.\n",
      "/Users/jysumac/miniforge3/envs/spaceflow/lib/python3.11/site-packages/scvi/_settings.py:70: UserWarning: Setting `dl_pin_memory_gpu_training` is deprecated in v1.0 and will be removed in v1.1. Please pass in `pin_memory` to the data loaders instead.\n",
      "/Users/jysumac/miniforge3/envs/spaceflow/lib/python3.11/site-packages/tqdm/auto.py:21: TqdmWarning: IProgress not found. Please update jupyter and ipywidgets. See https://ipywidgets.readthedocs.io/en/stable/user_install.html\n"
     ]
    }
   ],
   "source": [
    "import warnings\n",
    "import numpy as np\n",
    "import torch\n",
    "import torch.nn as nn\n",
    "import pandas as pd\n",
    "from sklearn.metrics import silhouette_score\n",
    "from sklearn.metrics.cluster import adjusted_rand_score\n",
    "import matplotlib.pyplot as plt\n",
    "from plotnine import *\n",
    "\n",
    "from smoother import SpatialWeightMatrix, SpatialLoss, ContrastiveSpatialLoss\n",
    "from smoother.models.reduction import SpatialPCA, SpatialAutoEncoder\n",
    "\n",
    "import scanpy as sc\n",
    "import anndata"
   ]
  },
  {
   "cell_type": "code",
   "execution_count": 2,
   "id": "9ebc83d0-8ca8-4da9-9d01-a177832b4801",
   "metadata": {},
   "outputs": [],
   "source": [
    "def _load_adata_and_loss(data_dir):\n",
    "    data = sc.read_h5ad(data_dir)\n",
    "\n",
    "    # preprocessing\n",
    "    sc.pp.filter_genes(data, min_counts=3)\n",
    "    data.layers['raw'] = data.X.copy()\n",
    "    \n",
    "    sc.pp.normalize_total(data, target_sum=1e4)\n",
    "    sc.pp.log1p(data)\n",
    "    data.layers['log1p'] = data.X.copy()\n",
    "    \n",
    "    sc.pp.highly_variable_genes(\n",
    "        data, subset=True, n_top_genes=2000, layer=\"log1p\"\n",
    "    )\n",
    "\n",
    "    sc.pp.scale(data, layer='log1p', \n",
    "                zero_center=True, max_value=10, copy=False)\n",
    "    data.layers['scaled'] = data.X.copy()\n",
    "\n",
    "    # prepare spatial loss\n",
    "    y = data.layers['log1p']\n",
    "    y = torch.tensor(y).T\n",
    "    coords = data.obsm['spatial']\n",
    "    \n",
    "    weights = SpatialWeightMatrix()\n",
    "    weights.calc_weights_knn(coords)\n",
    "    weights.scale_by_expr(y)\n",
    "\n",
    "    sp_loss = SpatialLoss('icar', weights, 0.99, standardize_cov=False)\n",
    "    cont_sp_loss = ContrastiveSpatialLoss('icar', weights, 0.99, standardize_cov=False)\n",
    "\n",
    "    return data, sp_loss, cont_sp_loss"
   ]
  },
  {
   "cell_type": "markdown",
   "id": "5143c101-61d4-4f32-8974-7d09aecf2ec7",
   "metadata": {},
   "source": [
    "## Spatial PCA"
   ]
  },
  {
   "cell_type": "code",
   "execution_count": 3,
   "id": "6fd67c5f-8796-4032-b265-7beeb18e1d37",
   "metadata": {},
   "outputs": [],
   "source": [
    "def _run_pca(data, sp_loss, cont_sp_loss, l_sp_losses = [0, 1]):\n",
    "    torch.manual_seed(20230710)\n",
    "\n",
    "    baseline = SpatialPCA(data, layer='scaled', n_latent=30)\n",
    "    baseline.reduce(lr=1, max_epochs=-1, verbose=False, init_with_svd=True, quite=True)\n",
    "\n",
    "    model_list = []\n",
    "    names_list = []\n",
    "    for l_sp in l_sp_losses:\n",
    "        model_sp = SpatialPCA.from_rna_model(\n",
    "            rna_model=baseline, st_adata=data, layer='scaled',\n",
    "            spatial_loss=sp_loss, lambda_spatial_loss=l_sp\n",
    "        )\n",
    "        model_list.append(model_sp)\n",
    "        names_list.append(f\"PCA_sp_{l_sp}\")\n",
    "\n",
    "        model_csp = SpatialPCA.from_rna_model(\n",
    "            rna_model=baseline, st_adata=data, layer='scaled',\n",
    "            spatial_loss=cont_sp_loss, lambda_spatial_loss=l_sp\n",
    "        )\n",
    "        model_list.append(model_csp)\n",
    "        names_list.append(f\"PCA_csp_{l_sp}\")\n",
    "\n",
    "    X_latent = []\n",
    "    dr_time = []\n",
    "    # run reduction\n",
    "    for m, n in zip(model_list, names_list):\n",
    "        m.reduce(lr=1e-1, max_epochs=-1, verbose=False, init_with_svd=False, quite=True)\n",
    "        X_latent.append(m.get_latent_representation())\n",
    "        dr_time.append(m.dr_logs['elapsed_time'] + baseline.dr_logs['elapsed_time'])\n",
    "\n",
    "    dr_time = pd.DataFrame({'base':'PCA',\n",
    "                            'model': names_list,\n",
    "                            'l_sp': np.repeat(l_sp_losses, 2),\n",
    "                            'runtime': dr_time\n",
    "                           })\n",
    "    \n",
    "    return X_latent, dr_time\n",
    "\n",
    "def run_all_pca(sample_id, l_sp_losses = [0, 1, 3, 10]):\n",
    "    data_dir = \"/Users/jysumac/Projects/Smoother_paper/data/dlpfc_sodb/\" \\\n",
    "                    f\"10X_Visium_maynard2021trans_{sample_id}_data.h5ad\"\n",
    "    res_dir = \"/Users/jysumac/Projects/Smoother_paper/results/dlpfc_dr_benchmark/PCA\"\n",
    "\n",
    "    # run dr\n",
    "    data, sp_loss, cont_sp_loss = _load_adata_and_loss(data_dir)\n",
    "    print('Running PCA ...')\n",
    "    X_latent, dr_time = _run_pca(data, sp_loss, cont_sp_loss, l_sp_losses)\n",
    "\n",
    "    # save results\n",
    "    for m, x in zip(dr_time['model'], X_latent):\n",
    "        np.savetxt(f\"{res_dir}/{sample_id}_{m}.txt\", x)\n",
    "    \n",
    "    dr_time['sample_id'] = sample_id\n",
    "    dr_time.to_csv(res_dir + f\"{sample_id}_runtime_PCA.csv\")"
   ]
  },
  {
   "cell_type": "markdown",
   "id": "0ef02bf4-5cde-4eaf-915c-7296a79f93ca",
   "metadata": {},
   "source": [
    "### Single sample"
   ]
  },
  {
   "cell_type": "code",
   "execution_count": 5,
   "id": "841304b8-f381-49ab-8491-a9a08acd62b8",
   "metadata": {},
   "outputs": [
    {
     "name": "stdout",
     "output_type": "stream",
     "text": [
      "WARNING: adata.X seems to be already log-transformed.\n"
     ]
    },
    {
     "name": "stderr",
     "output_type": "stream",
     "text": [
      "/Users/jysumac/miniforge3/envs/stagate/lib/python3.11/site-packages/anndata/_core/anndata.py:1105: FutureWarning: is_categorical_dtype is deprecated and will be removed in a future version. Use isinstance(dtype, CategoricalDtype) instead\n",
      "/Users/jysumac/miniforge3/envs/stagate/lib/python3.11/site-packages/scanpy/preprocessing/_highly_variable_genes.py:216: FutureWarning: The default of observed=False is deprecated and will be changed to True in a future version of pandas. Pass observed=False to retain current behavior or observed=True to adopt the future default and silence this warning.\n",
      "/Users/jysumac/miniforge3/envs/stagate/lib/python3.11/site-packages/anndata/_core/anndata.py:1105: FutureWarning: is_categorical_dtype is deprecated and will be removed in a future version. Use isinstance(dtype, CategoricalDtype) instead\n"
     ]
    },
    {
     "name": "stdout",
     "output_type": "stream",
     "text": [
      "Number of spots: 4789. Average number of neighbors per spot:  5.90.\n",
      "Number of spots: 4789. Average number of neighbors per spot:  5.90.\n",
      "Running PCA ...\n"
     ]
    }
   ],
   "source": [
    "run_all_pca('151509')"
   ]
  },
  {
   "cell_type": "markdown",
   "id": "86c48242-4291-4427-b06b-5863e6fb6f9e",
   "metadata": {},
   "source": [
    "### All samples"
   ]
  },
  {
   "cell_type": "code",
   "execution_count": 6,
   "id": "f7c9375a-c48c-4d94-b1f9-bb594d143b7a",
   "metadata": {},
   "outputs": [
    {
     "name": "stdout",
     "output_type": "stream",
     "text": [
      "WARNING: adata.X seems to be already log-transformed.\n"
     ]
    },
    {
     "name": "stderr",
     "output_type": "stream",
     "text": [
      "/Users/jysumac/miniforge3/envs/stagate/lib/python3.11/site-packages/anndata/_core/anndata.py:1105: FutureWarning: is_categorical_dtype is deprecated and will be removed in a future version. Use isinstance(dtype, CategoricalDtype) instead\n",
      "/Users/jysumac/miniforge3/envs/stagate/lib/python3.11/site-packages/scanpy/preprocessing/_highly_variable_genes.py:216: FutureWarning: The default of observed=False is deprecated and will be changed to True in a future version of pandas. Pass observed=False to retain current behavior or observed=True to adopt the future default and silence this warning.\n",
      "/Users/jysumac/miniforge3/envs/stagate/lib/python3.11/site-packages/anndata/_core/anndata.py:1105: FutureWarning: is_categorical_dtype is deprecated and will be removed in a future version. Use isinstance(dtype, CategoricalDtype) instead\n"
     ]
    },
    {
     "name": "stdout",
     "output_type": "stream",
     "text": [
      "Number of spots: 4226. Average number of neighbors per spot:  5.89.\n",
      "Number of spots: 4226. Average number of neighbors per spot:  5.89.\n",
      "Running PCA ...\n"
     ]
    },
    {
     "name": "stderr",
     "output_type": "stream",
     "text": [
      "/Users/jysumac/Projects/Smoother/smoother/models/reduction/_sppca.py:201: UserWarning: Fail to converge. Try to increase 'max_epochs'.\n"
     ]
    },
    {
     "name": "stdout",
     "output_type": "stream",
     "text": [
      "WARNING: adata.X seems to be already log-transformed.\n"
     ]
    },
    {
     "name": "stderr",
     "output_type": "stream",
     "text": [
      "/Users/jysumac/miniforge3/envs/stagate/lib/python3.11/site-packages/anndata/_core/anndata.py:1105: FutureWarning: is_categorical_dtype is deprecated and will be removed in a future version. Use isinstance(dtype, CategoricalDtype) instead\n",
      "/Users/jysumac/miniforge3/envs/stagate/lib/python3.11/site-packages/scanpy/preprocessing/_highly_variable_genes.py:216: FutureWarning: The default of observed=False is deprecated and will be changed to True in a future version of pandas. Pass observed=False to retain current behavior or observed=True to adopt the future default and silence this warning.\n",
      "/Users/jysumac/miniforge3/envs/stagate/lib/python3.11/site-packages/anndata/_core/anndata.py:1105: FutureWarning: is_categorical_dtype is deprecated and will be removed in a future version. Use isinstance(dtype, CategoricalDtype) instead\n"
     ]
    },
    {
     "name": "stdout",
     "output_type": "stream",
     "text": [
      "Number of spots: 4384. Average number of neighbors per spot:  5.88.\n",
      "Number of spots: 4384. Average number of neighbors per spot:  5.89.\n",
      "Running PCA ...\n",
      "WARNING: adata.X seems to be already log-transformed.\n"
     ]
    },
    {
     "name": "stderr",
     "output_type": "stream",
     "text": [
      "/Users/jysumac/miniforge3/envs/stagate/lib/python3.11/site-packages/anndata/_core/anndata.py:1105: FutureWarning: is_categorical_dtype is deprecated and will be removed in a future version. Use isinstance(dtype, CategoricalDtype) instead\n",
      "/Users/jysumac/miniforge3/envs/stagate/lib/python3.11/site-packages/scanpy/preprocessing/_highly_variable_genes.py:216: FutureWarning: The default of observed=False is deprecated and will be changed to True in a future version of pandas. Pass observed=False to retain current behavior or observed=True to adopt the future default and silence this warning.\n",
      "/Users/jysumac/miniforge3/envs/stagate/lib/python3.11/site-packages/anndata/_core/anndata.py:1105: FutureWarning: is_categorical_dtype is deprecated and will be removed in a future version. Use isinstance(dtype, CategoricalDtype) instead\n"
     ]
    },
    {
     "name": "stdout",
     "output_type": "stream",
     "text": [
      "Number of spots: 4789. Average number of neighbors per spot:  5.90.\n",
      "Number of spots: 4789. Average number of neighbors per spot:  5.90.\n",
      "Running PCA ...\n",
      "WARNING: adata.X seems to be already log-transformed.\n"
     ]
    },
    {
     "name": "stderr",
     "output_type": "stream",
     "text": [
      "/Users/jysumac/miniforge3/envs/stagate/lib/python3.11/site-packages/anndata/_core/anndata.py:1105: FutureWarning: is_categorical_dtype is deprecated and will be removed in a future version. Use isinstance(dtype, CategoricalDtype) instead\n",
      "/Users/jysumac/miniforge3/envs/stagate/lib/python3.11/site-packages/scanpy/preprocessing/_highly_variable_genes.py:216: FutureWarning: The default of observed=False is deprecated and will be changed to True in a future version of pandas. Pass observed=False to retain current behavior or observed=True to adopt the future default and silence this warning.\n",
      "/Users/jysumac/miniforge3/envs/stagate/lib/python3.11/site-packages/anndata/_core/anndata.py:1105: FutureWarning: is_categorical_dtype is deprecated and will be removed in a future version. Use isinstance(dtype, CategoricalDtype) instead\n"
     ]
    },
    {
     "name": "stdout",
     "output_type": "stream",
     "text": [
      "Number of spots: 4634. Average number of neighbors per spot:  5.89.\n",
      "Number of spots: 4634. Average number of neighbors per spot:  5.89.\n",
      "Running PCA ...\n",
      "WARNING: adata.X seems to be already log-transformed.\n"
     ]
    },
    {
     "name": "stderr",
     "output_type": "stream",
     "text": [
      "/Users/jysumac/miniforge3/envs/stagate/lib/python3.11/site-packages/anndata/_core/anndata.py:1105: FutureWarning: is_categorical_dtype is deprecated and will be removed in a future version. Use isinstance(dtype, CategoricalDtype) instead\n",
      "/Users/jysumac/miniforge3/envs/stagate/lib/python3.11/site-packages/scanpy/preprocessing/_highly_variable_genes.py:216: FutureWarning: The default of observed=False is deprecated and will be changed to True in a future version of pandas. Pass observed=False to retain current behavior or observed=True to adopt the future default and silence this warning.\n",
      "/Users/jysumac/miniforge3/envs/stagate/lib/python3.11/site-packages/anndata/_core/anndata.py:1105: FutureWarning: is_categorical_dtype is deprecated and will be removed in a future version. Use isinstance(dtype, CategoricalDtype) instead\n"
     ]
    },
    {
     "name": "stdout",
     "output_type": "stream",
     "text": [
      "Number of spots: 3661. Average number of neighbors per spot:  5.85.\n",
      "Number of spots: 3661. Average number of neighbors per spot:  5.85.\n",
      "Running PCA ...\n",
      "WARNING: adata.X seems to be already log-transformed.\n"
     ]
    },
    {
     "name": "stderr",
     "output_type": "stream",
     "text": [
      "/Users/jysumac/miniforge3/envs/stagate/lib/python3.11/site-packages/anndata/_core/anndata.py:1105: FutureWarning: is_categorical_dtype is deprecated and will be removed in a future version. Use isinstance(dtype, CategoricalDtype) instead\n",
      "/Users/jysumac/miniforge3/envs/stagate/lib/python3.11/site-packages/scanpy/preprocessing/_highly_variable_genes.py:216: FutureWarning: The default of observed=False is deprecated and will be changed to True in a future version of pandas. Pass observed=False to retain current behavior or observed=True to adopt the future default and silence this warning.\n",
      "/Users/jysumac/miniforge3/envs/stagate/lib/python3.11/site-packages/anndata/_core/anndata.py:1105: FutureWarning: is_categorical_dtype is deprecated and will be removed in a future version. Use isinstance(dtype, CategoricalDtype) instead\n"
     ]
    },
    {
     "name": "stdout",
     "output_type": "stream",
     "text": [
      "Number of spots: 3498. Average number of neighbors per spot:  5.87.\n",
      "Number of spots: 3498. Average number of neighbors per spot:  5.88.\n",
      "Running PCA ...\n",
      "WARNING: adata.X seems to be already log-transformed.\n"
     ]
    },
    {
     "name": "stderr",
     "output_type": "stream",
     "text": [
      "/Users/jysumac/miniforge3/envs/stagate/lib/python3.11/site-packages/anndata/_core/anndata.py:1105: FutureWarning: is_categorical_dtype is deprecated and will be removed in a future version. Use isinstance(dtype, CategoricalDtype) instead\n",
      "/Users/jysumac/miniforge3/envs/stagate/lib/python3.11/site-packages/scanpy/preprocessing/_highly_variable_genes.py:216: FutureWarning: The default of observed=False is deprecated and will be changed to True in a future version of pandas. Pass observed=False to retain current behavior or observed=True to adopt the future default and silence this warning.\n",
      "/Users/jysumac/miniforge3/envs/stagate/lib/python3.11/site-packages/anndata/_core/anndata.py:1105: FutureWarning: is_categorical_dtype is deprecated and will be removed in a future version. Use isinstance(dtype, CategoricalDtype) instead\n"
     ]
    },
    {
     "name": "stdout",
     "output_type": "stream",
     "text": [
      "Number of spots: 4110. Average number of neighbors per spot:  5.88.\n",
      "Number of spots: 4110. Average number of neighbors per spot:  5.89.\n",
      "Running PCA ...\n"
     ]
    },
    {
     "name": "stderr",
     "output_type": "stream",
     "text": [
      "/Users/jysumac/Projects/Smoother/smoother/models/reduction/_sppca.py:201: UserWarning: Fail to converge. Try to increase 'max_epochs'.\n"
     ]
    },
    {
     "name": "stdout",
     "output_type": "stream",
     "text": [
      "WARNING: adata.X seems to be already log-transformed.\n"
     ]
    },
    {
     "name": "stderr",
     "output_type": "stream",
     "text": [
      "/Users/jysumac/miniforge3/envs/stagate/lib/python3.11/site-packages/anndata/_core/anndata.py:1105: FutureWarning: is_categorical_dtype is deprecated and will be removed in a future version. Use isinstance(dtype, CategoricalDtype) instead\n",
      "/Users/jysumac/miniforge3/envs/stagate/lib/python3.11/site-packages/scanpy/preprocessing/_highly_variable_genes.py:216: FutureWarning: The default of observed=False is deprecated and will be changed to True in a future version of pandas. Pass observed=False to retain current behavior or observed=True to adopt the future default and silence this warning.\n",
      "/Users/jysumac/miniforge3/envs/stagate/lib/python3.11/site-packages/anndata/_core/anndata.py:1105: FutureWarning: is_categorical_dtype is deprecated and will be removed in a future version. Use isinstance(dtype, CategoricalDtype) instead\n"
     ]
    },
    {
     "name": "stdout",
     "output_type": "stream",
     "text": [
      "Number of spots: 4015. Average number of neighbors per spot:  5.87.\n",
      "Number of spots: 4015. Average number of neighbors per spot:  5.88.\n",
      "Running PCA ...\n",
      "WARNING: adata.X seems to be already log-transformed.\n"
     ]
    },
    {
     "name": "stderr",
     "output_type": "stream",
     "text": [
      "/Users/jysumac/miniforge3/envs/stagate/lib/python3.11/site-packages/anndata/_core/anndata.py:1105: FutureWarning: is_categorical_dtype is deprecated and will be removed in a future version. Use isinstance(dtype, CategoricalDtype) instead\n",
      "/Users/jysumac/miniforge3/envs/stagate/lib/python3.11/site-packages/scanpy/preprocessing/_highly_variable_genes.py:216: FutureWarning: The default of observed=False is deprecated and will be changed to True in a future version of pandas. Pass observed=False to retain current behavior or observed=True to adopt the future default and silence this warning.\n",
      "/Users/jysumac/miniforge3/envs/stagate/lib/python3.11/site-packages/anndata/_core/anndata.py:1105: FutureWarning: is_categorical_dtype is deprecated and will be removed in a future version. Use isinstance(dtype, CategoricalDtype) instead\n"
     ]
    },
    {
     "name": "stdout",
     "output_type": "stream",
     "text": [
      "Number of spots: 3639. Average number of neighbors per spot:  5.85.\n",
      "Number of spots: 3639. Average number of neighbors per spot:  5.86.\n",
      "Running PCA ...\n",
      "WARNING: adata.X seems to be already log-transformed.\n"
     ]
    },
    {
     "name": "stderr",
     "output_type": "stream",
     "text": [
      "/Users/jysumac/miniforge3/envs/stagate/lib/python3.11/site-packages/anndata/_core/anndata.py:1105: FutureWarning: is_categorical_dtype is deprecated and will be removed in a future version. Use isinstance(dtype, CategoricalDtype) instead\n",
      "/Users/jysumac/miniforge3/envs/stagate/lib/python3.11/site-packages/scanpy/preprocessing/_highly_variable_genes.py:216: FutureWarning: The default of observed=False is deprecated and will be changed to True in a future version of pandas. Pass observed=False to retain current behavior or observed=True to adopt the future default and silence this warning.\n",
      "/Users/jysumac/miniforge3/envs/stagate/lib/python3.11/site-packages/anndata/_core/anndata.py:1105: FutureWarning: is_categorical_dtype is deprecated and will be removed in a future version. Use isinstance(dtype, CategoricalDtype) instead\n"
     ]
    },
    {
     "name": "stdout",
     "output_type": "stream",
     "text": [
      "Number of spots: 3673. Average number of neighbors per spot:  5.85.\n",
      "Number of spots: 3673. Average number of neighbors per spot:  5.85.\n",
      "Running PCA ...\n",
      "WARNING: adata.X seems to be already log-transformed.\n"
     ]
    },
    {
     "name": "stderr",
     "output_type": "stream",
     "text": [
      "/Users/jysumac/miniforge3/envs/stagate/lib/python3.11/site-packages/anndata/_core/anndata.py:1105: FutureWarning: is_categorical_dtype is deprecated and will be removed in a future version. Use isinstance(dtype, CategoricalDtype) instead\n",
      "/Users/jysumac/miniforge3/envs/stagate/lib/python3.11/site-packages/scanpy/preprocessing/_highly_variable_genes.py:216: FutureWarning: The default of observed=False is deprecated and will be changed to True in a future version of pandas. Pass observed=False to retain current behavior or observed=True to adopt the future default and silence this warning.\n",
      "/Users/jysumac/miniforge3/envs/stagate/lib/python3.11/site-packages/anndata/_core/anndata.py:1105: FutureWarning: is_categorical_dtype is deprecated and will be removed in a future version. Use isinstance(dtype, CategoricalDtype) instead\n"
     ]
    },
    {
     "name": "stdout",
     "output_type": "stream",
     "text": [
      "Number of spots: 3592. Average number of neighbors per spot:  5.85.\n",
      "Number of spots: 3592. Average number of neighbors per spot:  5.85.\n",
      "Running PCA ...\n",
      "WARNING: adata.X seems to be already log-transformed.\n"
     ]
    },
    {
     "name": "stderr",
     "output_type": "stream",
     "text": [
      "/Users/jysumac/miniforge3/envs/stagate/lib/python3.11/site-packages/anndata/_core/anndata.py:1105: FutureWarning: is_categorical_dtype is deprecated and will be removed in a future version. Use isinstance(dtype, CategoricalDtype) instead\n",
      "/Users/jysumac/miniforge3/envs/stagate/lib/python3.11/site-packages/scanpy/preprocessing/_highly_variable_genes.py:216: FutureWarning: The default of observed=False is deprecated and will be changed to True in a future version of pandas. Pass observed=False to retain current behavior or observed=True to adopt the future default and silence this warning.\n",
      "/Users/jysumac/miniforge3/envs/stagate/lib/python3.11/site-packages/anndata/_core/anndata.py:1105: FutureWarning: is_categorical_dtype is deprecated and will be removed in a future version. Use isinstance(dtype, CategoricalDtype) instead\n"
     ]
    },
    {
     "name": "stdout",
     "output_type": "stream",
     "text": [
      "Number of spots: 3460. Average number of neighbors per spot:  5.85.\n",
      "Number of spots: 3460. Average number of neighbors per spot:  5.85.\n",
      "Running PCA ...\n"
     ]
    }
   ],
   "source": [
    "sample_ids = [\n",
    "    '151507', '151508', '151509', '151510',\n",
    "    '151669', '151670', '151671', '151672',\n",
    "    '151673', '151674', '151675', '151676'\n",
    "]\n",
    "l_sp_losses = [0, 1, 3, 10]\n",
    "\n",
    "for s in sample_ids:\n",
    "    run_all_pca(s, l_sp_losses)"
   ]
  },
  {
   "cell_type": "markdown",
   "id": "794754a0-3b30-487f-b247-45bdbd3f3ae4",
   "metadata": {},
   "source": [
    "## Spatial AE"
   ]
  },
  {
   "cell_type": "code",
   "execution_count": 7,
   "id": "558188e3-31f3-487d-8170-b3f4a0f9435b",
   "metadata": {},
   "outputs": [],
   "source": [
    "def _run_ae(data, sp_loss, cont_sp_loss, l_sp_losses = [0, 1]):\n",
    "    torch.manual_seed(20230710)\n",
    "\n",
    "    baseline = SpatialAutoEncoder(\n",
    "            data, layer='log1p', \n",
    "            n_layers=2, n_latent=30,\n",
    "            lambda_orth_loss=0.01,\n",
    "            recon_loss_mode='mse',\n",
    "            activation_fn=torch.nn.ELU\n",
    "    )\n",
    "    baseline.reduce(lr = 3e-3, max_epochs=200, verbose=False, quite=True)\n",
    "\n",
    "    model_list = []\n",
    "    names_list = []\n",
    "    for l_sp in l_sp_losses:\n",
    "        model_sp = SpatialAutoEncoder.from_rna_model(\n",
    "            rna_model=baseline, st_adata=data, layer='log1p',\n",
    "            spatial_loss=sp_loss, lambda_spatial_loss=l_sp\n",
    "        )\n",
    "        model_list.append(model_sp)\n",
    "        names_list.append(f\"AE_sp_{l_sp}\")\n",
    "        \n",
    "        model_csp = SpatialAutoEncoder.from_rna_model(\n",
    "            rna_model=baseline, st_adata=data, layer='log1p',\n",
    "            spatial_loss=cont_sp_loss, lambda_spatial_loss=l_sp\n",
    "        )\n",
    "        model_list.append(model_csp)\n",
    "        names_list.append(f\"AE_csp_{l_sp}\")\n",
    "\n",
    "    X_latent = []\n",
    "    dr_time = []\n",
    "    # run reduction\n",
    "    for m, n in zip(model_list, names_list):\n",
    "        m.reduce(lr=3e-4, max_epochs=200, verbose=False, quite=True)\n",
    "        X_latent.append(m.get_latent_representation())\n",
    "        dr_time.append(m.dr_logs['elapsed_time'] + baseline.dr_logs['elapsed_time'])\n",
    "\n",
    "    dr_time = pd.DataFrame({'base':'AE',\n",
    "                            'model': names_list,\n",
    "                            'l_sp': np.repeat(l_sp_losses, 2),\n",
    "                            'runtime': dr_time\n",
    "                           })\n",
    "    \n",
    "    return X_latent, dr_time\n",
    "\n",
    "def run_all_ae(sample_id, l_sp_losses = [0, 1, 3, 10]):\n",
    "    data_dir = \"/Users/jysumac/Projects/Smoother_paper/data/dlpfc_sodb/\" \\\n",
    "                    f\"10X_Visium_maynard2021trans_{sample_id}_data.h5ad\"\n",
    "    res_dir = \"/Users/jysumac/Projects/Smoother_paper/results/dlpfc_dr_benchmark/AE/\"\n",
    "\n",
    "    # run dr\n",
    "    data, sp_loss, cont_sp_loss = _load_adata_and_loss(data_dir)\n",
    "    print('Running AE ...')\n",
    "    X_latent, dr_time = _run_ae(data, sp_loss, cont_sp_loss, l_sp_losses)\n",
    "\n",
    "    # save results\n",
    "    for m, x in zip(dr_time['model'], X_latent):\n",
    "        np.savetxt(f\"{res_dir}/{sample_id}_{m}.txt\", x)\n",
    "    \n",
    "    dr_time['sample_id'] = sample_id\n",
    "    dr_time.to_csv(res_dir + f\"{sample_id}_runtime_AE.csv\")\n"
   ]
  },
  {
   "cell_type": "markdown",
   "id": "7b3c6450-3abc-4739-92a2-039b4c04e794",
   "metadata": {},
   "source": [
    "### Single sample"
   ]
  },
  {
   "cell_type": "code",
   "execution_count": 8,
   "id": "a78bc289-6fc5-4e7a-bd31-9d6c76b75ec7",
   "metadata": {},
   "outputs": [
    {
     "name": "stdout",
     "output_type": "stream",
     "text": [
      "WARNING: adata.X seems to be already log-transformed.\n"
     ]
    },
    {
     "name": "stderr",
     "output_type": "stream",
     "text": [
      "/Users/jysumac/miniforge3/envs/stagate/lib/python3.11/site-packages/anndata/_core/anndata.py:1105: FutureWarning: is_categorical_dtype is deprecated and will be removed in a future version. Use isinstance(dtype, CategoricalDtype) instead\n",
      "/Users/jysumac/miniforge3/envs/stagate/lib/python3.11/site-packages/scanpy/preprocessing/_highly_variable_genes.py:216: FutureWarning: The default of observed=False is deprecated and will be changed to True in a future version of pandas. Pass observed=False to retain current behavior or observed=True to adopt the future default and silence this warning.\n",
      "/Users/jysumac/miniforge3/envs/stagate/lib/python3.11/site-packages/anndata/_core/anndata.py:1105: FutureWarning: is_categorical_dtype is deprecated and will be removed in a future version. Use isinstance(dtype, CategoricalDtype) instead\n"
     ]
    },
    {
     "name": "stdout",
     "output_type": "stream",
     "text": [
      "Number of spots: 4789. Average number of neighbors per spot:  5.90.\n",
      "Number of spots: 4789. Average number of neighbors per spot:  5.90.\n",
      "Running AE ...\n"
     ]
    },
    {
     "name": "stderr",
     "output_type": "stream",
     "text": [
      "/Users/jysumac/Projects/Smoother/smoother/models/reduction/_spae.py:224: UserWarning: Fail to converge. Try to increase 'max_epochs'.\n"
     ]
    }
   ],
   "source": [
    "run_all_ae('151509')"
   ]
  },
  {
   "cell_type": "markdown",
   "id": "8aa9bc41-0b5c-4193-afb6-7bb5bd9c0d46",
   "metadata": {},
   "source": [
    "### All samples"
   ]
  },
  {
   "cell_type": "code",
   "execution_count": 9,
   "id": "2e203539-1414-4e2a-8334-9c53cb27295f",
   "metadata": {},
   "outputs": [
    {
     "name": "stdout",
     "output_type": "stream",
     "text": [
      "WARNING: adata.X seems to be already log-transformed.\n"
     ]
    },
    {
     "name": "stderr",
     "output_type": "stream",
     "text": [
      "/Users/jysumac/miniforge3/envs/stagate/lib/python3.11/site-packages/anndata/_core/anndata.py:1105: FutureWarning: is_categorical_dtype is deprecated and will be removed in a future version. Use isinstance(dtype, CategoricalDtype) instead\n",
      "/Users/jysumac/miniforge3/envs/stagate/lib/python3.11/site-packages/scanpy/preprocessing/_highly_variable_genes.py:216: FutureWarning: The default of observed=False is deprecated and will be changed to True in a future version of pandas. Pass observed=False to retain current behavior or observed=True to adopt the future default and silence this warning.\n",
      "/Users/jysumac/miniforge3/envs/stagate/lib/python3.11/site-packages/anndata/_core/anndata.py:1105: FutureWarning: is_categorical_dtype is deprecated and will be removed in a future version. Use isinstance(dtype, CategoricalDtype) instead\n"
     ]
    },
    {
     "name": "stdout",
     "output_type": "stream",
     "text": [
      "Number of spots: 4226. Average number of neighbors per spot:  5.89.\n",
      "Number of spots: 4226. Average number of neighbors per spot:  5.89.\n",
      "Running AE ...\n"
     ]
    },
    {
     "name": "stderr",
     "output_type": "stream",
     "text": [
      "/Users/jysumac/Projects/Smoother/smoother/models/reduction/_spae.py:224: UserWarning: Fail to converge. Try to increase 'max_epochs'.\n"
     ]
    },
    {
     "name": "stdout",
     "output_type": "stream",
     "text": [
      "WARNING: adata.X seems to be already log-transformed.\n"
     ]
    },
    {
     "name": "stderr",
     "output_type": "stream",
     "text": [
      "/Users/jysumac/miniforge3/envs/stagate/lib/python3.11/site-packages/anndata/_core/anndata.py:1105: FutureWarning: is_categorical_dtype is deprecated and will be removed in a future version. Use isinstance(dtype, CategoricalDtype) instead\n",
      "/Users/jysumac/miniforge3/envs/stagate/lib/python3.11/site-packages/scanpy/preprocessing/_highly_variable_genes.py:216: FutureWarning: The default of observed=False is deprecated and will be changed to True in a future version of pandas. Pass observed=False to retain current behavior or observed=True to adopt the future default and silence this warning.\n",
      "/Users/jysumac/miniforge3/envs/stagate/lib/python3.11/site-packages/anndata/_core/anndata.py:1105: FutureWarning: is_categorical_dtype is deprecated and will be removed in a future version. Use isinstance(dtype, CategoricalDtype) instead\n"
     ]
    },
    {
     "name": "stdout",
     "output_type": "stream",
     "text": [
      "Number of spots: 4384. Average number of neighbors per spot:  5.88.\n",
      "Number of spots: 4384. Average number of neighbors per spot:  5.89.\n",
      "Running AE ...\n"
     ]
    },
    {
     "name": "stderr",
     "output_type": "stream",
     "text": [
      "/Users/jysumac/Projects/Smoother/smoother/models/reduction/_spae.py:224: UserWarning: Fail to converge. Try to increase 'max_epochs'.\n"
     ]
    },
    {
     "name": "stdout",
     "output_type": "stream",
     "text": [
      "WARNING: adata.X seems to be already log-transformed.\n"
     ]
    },
    {
     "name": "stderr",
     "output_type": "stream",
     "text": [
      "/Users/jysumac/miniforge3/envs/stagate/lib/python3.11/site-packages/anndata/_core/anndata.py:1105: FutureWarning: is_categorical_dtype is deprecated and will be removed in a future version. Use isinstance(dtype, CategoricalDtype) instead\n",
      "/Users/jysumac/miniforge3/envs/stagate/lib/python3.11/site-packages/scanpy/preprocessing/_highly_variable_genes.py:216: FutureWarning: The default of observed=False is deprecated and will be changed to True in a future version of pandas. Pass observed=False to retain current behavior or observed=True to adopt the future default and silence this warning.\n",
      "/Users/jysumac/miniforge3/envs/stagate/lib/python3.11/site-packages/anndata/_core/anndata.py:1105: FutureWarning: is_categorical_dtype is deprecated and will be removed in a future version. Use isinstance(dtype, CategoricalDtype) instead\n"
     ]
    },
    {
     "name": "stdout",
     "output_type": "stream",
     "text": [
      "Number of spots: 4789. Average number of neighbors per spot:  5.90.\n",
      "Number of spots: 4789. Average number of neighbors per spot:  5.90.\n",
      "Running AE ...\n"
     ]
    },
    {
     "name": "stderr",
     "output_type": "stream",
     "text": [
      "/Users/jysumac/Projects/Smoother/smoother/models/reduction/_spae.py:224: UserWarning: Fail to converge. Try to increase 'max_epochs'.\n"
     ]
    },
    {
     "name": "stdout",
     "output_type": "stream",
     "text": [
      "WARNING: adata.X seems to be already log-transformed.\n"
     ]
    },
    {
     "name": "stderr",
     "output_type": "stream",
     "text": [
      "/Users/jysumac/miniforge3/envs/stagate/lib/python3.11/site-packages/anndata/_core/anndata.py:1105: FutureWarning: is_categorical_dtype is deprecated and will be removed in a future version. Use isinstance(dtype, CategoricalDtype) instead\n",
      "/Users/jysumac/miniforge3/envs/stagate/lib/python3.11/site-packages/scanpy/preprocessing/_highly_variable_genes.py:216: FutureWarning: The default of observed=False is deprecated and will be changed to True in a future version of pandas. Pass observed=False to retain current behavior or observed=True to adopt the future default and silence this warning.\n",
      "/Users/jysumac/miniforge3/envs/stagate/lib/python3.11/site-packages/anndata/_core/anndata.py:1105: FutureWarning: is_categorical_dtype is deprecated and will be removed in a future version. Use isinstance(dtype, CategoricalDtype) instead\n"
     ]
    },
    {
     "name": "stdout",
     "output_type": "stream",
     "text": [
      "Number of spots: 4634. Average number of neighbors per spot:  5.89.\n",
      "Number of spots: 4634. Average number of neighbors per spot:  5.89.\n",
      "Running AE ...\n"
     ]
    },
    {
     "name": "stderr",
     "output_type": "stream",
     "text": [
      "/Users/jysumac/Projects/Smoother/smoother/models/reduction/_spae.py:224: UserWarning: Fail to converge. Try to increase 'max_epochs'.\n"
     ]
    },
    {
     "name": "stdout",
     "output_type": "stream",
     "text": [
      "WARNING: adata.X seems to be already log-transformed.\n"
     ]
    },
    {
     "name": "stderr",
     "output_type": "stream",
     "text": [
      "/Users/jysumac/miniforge3/envs/stagate/lib/python3.11/site-packages/anndata/_core/anndata.py:1105: FutureWarning: is_categorical_dtype is deprecated and will be removed in a future version. Use isinstance(dtype, CategoricalDtype) instead\n",
      "/Users/jysumac/miniforge3/envs/stagate/lib/python3.11/site-packages/scanpy/preprocessing/_highly_variable_genes.py:216: FutureWarning: The default of observed=False is deprecated and will be changed to True in a future version of pandas. Pass observed=False to retain current behavior or observed=True to adopt the future default and silence this warning.\n",
      "/Users/jysumac/miniforge3/envs/stagate/lib/python3.11/site-packages/anndata/_core/anndata.py:1105: FutureWarning: is_categorical_dtype is deprecated and will be removed in a future version. Use isinstance(dtype, CategoricalDtype) instead\n"
     ]
    },
    {
     "name": "stdout",
     "output_type": "stream",
     "text": [
      "Number of spots: 3661. Average number of neighbors per spot:  5.85.\n",
      "Number of spots: 3661. Average number of neighbors per spot:  5.85.\n",
      "Running AE ...\n"
     ]
    },
    {
     "name": "stderr",
     "output_type": "stream",
     "text": [
      "/Users/jysumac/Projects/Smoother/smoother/models/reduction/_spae.py:224: UserWarning: Fail to converge. Try to increase 'max_epochs'.\n"
     ]
    },
    {
     "name": "stdout",
     "output_type": "stream",
     "text": [
      "WARNING: adata.X seems to be already log-transformed.\n"
     ]
    },
    {
     "name": "stderr",
     "output_type": "stream",
     "text": [
      "/Users/jysumac/miniforge3/envs/stagate/lib/python3.11/site-packages/anndata/_core/anndata.py:1105: FutureWarning: is_categorical_dtype is deprecated and will be removed in a future version. Use isinstance(dtype, CategoricalDtype) instead\n",
      "/Users/jysumac/miniforge3/envs/stagate/lib/python3.11/site-packages/scanpy/preprocessing/_highly_variable_genes.py:216: FutureWarning: The default of observed=False is deprecated and will be changed to True in a future version of pandas. Pass observed=False to retain current behavior or observed=True to adopt the future default and silence this warning.\n",
      "/Users/jysumac/miniforge3/envs/stagate/lib/python3.11/site-packages/anndata/_core/anndata.py:1105: FutureWarning: is_categorical_dtype is deprecated and will be removed in a future version. Use isinstance(dtype, CategoricalDtype) instead\n"
     ]
    },
    {
     "name": "stdout",
     "output_type": "stream",
     "text": [
      "Number of spots: 3498. Average number of neighbors per spot:  5.87.\n",
      "Number of spots: 3498. Average number of neighbors per spot:  5.88.\n",
      "Running AE ...\n"
     ]
    },
    {
     "name": "stderr",
     "output_type": "stream",
     "text": [
      "/Users/jysumac/Projects/Smoother/smoother/models/reduction/_spae.py:224: UserWarning: Fail to converge. Try to increase 'max_epochs'.\n"
     ]
    },
    {
     "name": "stdout",
     "output_type": "stream",
     "text": [
      "WARNING: adata.X seems to be already log-transformed.\n"
     ]
    },
    {
     "name": "stderr",
     "output_type": "stream",
     "text": [
      "/Users/jysumac/miniforge3/envs/stagate/lib/python3.11/site-packages/anndata/_core/anndata.py:1105: FutureWarning: is_categorical_dtype is deprecated and will be removed in a future version. Use isinstance(dtype, CategoricalDtype) instead\n",
      "/Users/jysumac/miniforge3/envs/stagate/lib/python3.11/site-packages/scanpy/preprocessing/_highly_variable_genes.py:216: FutureWarning: The default of observed=False is deprecated and will be changed to True in a future version of pandas. Pass observed=False to retain current behavior or observed=True to adopt the future default and silence this warning.\n",
      "/Users/jysumac/miniforge3/envs/stagate/lib/python3.11/site-packages/anndata/_core/anndata.py:1105: FutureWarning: is_categorical_dtype is deprecated and will be removed in a future version. Use isinstance(dtype, CategoricalDtype) instead\n"
     ]
    },
    {
     "name": "stdout",
     "output_type": "stream",
     "text": [
      "Number of spots: 4110. Average number of neighbors per spot:  5.88.\n",
      "Number of spots: 4110. Average number of neighbors per spot:  5.89.\n",
      "Running AE ...\n"
     ]
    },
    {
     "name": "stderr",
     "output_type": "stream",
     "text": [
      "/Users/jysumac/Projects/Smoother/smoother/models/reduction/_spae.py:224: UserWarning: Fail to converge. Try to increase 'max_epochs'.\n"
     ]
    },
    {
     "name": "stdout",
     "output_type": "stream",
     "text": [
      "WARNING: adata.X seems to be already log-transformed.\n"
     ]
    },
    {
     "name": "stderr",
     "output_type": "stream",
     "text": [
      "/Users/jysumac/miniforge3/envs/stagate/lib/python3.11/site-packages/anndata/_core/anndata.py:1105: FutureWarning: is_categorical_dtype is deprecated and will be removed in a future version. Use isinstance(dtype, CategoricalDtype) instead\n",
      "/Users/jysumac/miniforge3/envs/stagate/lib/python3.11/site-packages/scanpy/preprocessing/_highly_variable_genes.py:216: FutureWarning: The default of observed=False is deprecated and will be changed to True in a future version of pandas. Pass observed=False to retain current behavior or observed=True to adopt the future default and silence this warning.\n",
      "/Users/jysumac/miniforge3/envs/stagate/lib/python3.11/site-packages/anndata/_core/anndata.py:1105: FutureWarning: is_categorical_dtype is deprecated and will be removed in a future version. Use isinstance(dtype, CategoricalDtype) instead\n"
     ]
    },
    {
     "name": "stdout",
     "output_type": "stream",
     "text": [
      "Number of spots: 4015. Average number of neighbors per spot:  5.87.\n",
      "Number of spots: 4015. Average number of neighbors per spot:  5.88.\n",
      "Running AE ...\n"
     ]
    },
    {
     "name": "stderr",
     "output_type": "stream",
     "text": [
      "/Users/jysumac/Projects/Smoother/smoother/models/reduction/_spae.py:224: UserWarning: Fail to converge. Try to increase 'max_epochs'.\n"
     ]
    },
    {
     "name": "stdout",
     "output_type": "stream",
     "text": [
      "WARNING: adata.X seems to be already log-transformed.\n"
     ]
    },
    {
     "name": "stderr",
     "output_type": "stream",
     "text": [
      "/Users/jysumac/miniforge3/envs/stagate/lib/python3.11/site-packages/anndata/_core/anndata.py:1105: FutureWarning: is_categorical_dtype is deprecated and will be removed in a future version. Use isinstance(dtype, CategoricalDtype) instead\n",
      "/Users/jysumac/miniforge3/envs/stagate/lib/python3.11/site-packages/scanpy/preprocessing/_highly_variable_genes.py:216: FutureWarning: The default of observed=False is deprecated and will be changed to True in a future version of pandas. Pass observed=False to retain current behavior or observed=True to adopt the future default and silence this warning.\n",
      "/Users/jysumac/miniforge3/envs/stagate/lib/python3.11/site-packages/anndata/_core/anndata.py:1105: FutureWarning: is_categorical_dtype is deprecated and will be removed in a future version. Use isinstance(dtype, CategoricalDtype) instead\n"
     ]
    },
    {
     "name": "stdout",
     "output_type": "stream",
     "text": [
      "Number of spots: 3639. Average number of neighbors per spot:  5.85.\n",
      "Number of spots: 3639. Average number of neighbors per spot:  5.86.\n",
      "Running AE ...\n"
     ]
    },
    {
     "name": "stderr",
     "output_type": "stream",
     "text": [
      "/Users/jysumac/Projects/Smoother/smoother/models/reduction/_spae.py:224: UserWarning: Fail to converge. Try to increase 'max_epochs'.\n"
     ]
    },
    {
     "name": "stdout",
     "output_type": "stream",
     "text": [
      "WARNING: adata.X seems to be already log-transformed.\n"
     ]
    },
    {
     "name": "stderr",
     "output_type": "stream",
     "text": [
      "/Users/jysumac/miniforge3/envs/stagate/lib/python3.11/site-packages/anndata/_core/anndata.py:1105: FutureWarning: is_categorical_dtype is deprecated and will be removed in a future version. Use isinstance(dtype, CategoricalDtype) instead\n",
      "/Users/jysumac/miniforge3/envs/stagate/lib/python3.11/site-packages/scanpy/preprocessing/_highly_variable_genes.py:216: FutureWarning: The default of observed=False is deprecated and will be changed to True in a future version of pandas. Pass observed=False to retain current behavior or observed=True to adopt the future default and silence this warning.\n",
      "/Users/jysumac/miniforge3/envs/stagate/lib/python3.11/site-packages/anndata/_core/anndata.py:1105: FutureWarning: is_categorical_dtype is deprecated and will be removed in a future version. Use isinstance(dtype, CategoricalDtype) instead\n"
     ]
    },
    {
     "name": "stdout",
     "output_type": "stream",
     "text": [
      "Number of spots: 3673. Average number of neighbors per spot:  5.85.\n",
      "Number of spots: 3673. Average number of neighbors per spot:  5.85.\n",
      "Running AE ...\n"
     ]
    },
    {
     "name": "stderr",
     "output_type": "stream",
     "text": [
      "/Users/jysumac/Projects/Smoother/smoother/models/reduction/_spae.py:224: UserWarning: Fail to converge. Try to increase 'max_epochs'.\n"
     ]
    },
    {
     "name": "stdout",
     "output_type": "stream",
     "text": [
      "WARNING: adata.X seems to be already log-transformed.\n"
     ]
    },
    {
     "name": "stderr",
     "output_type": "stream",
     "text": [
      "/Users/jysumac/miniforge3/envs/stagate/lib/python3.11/site-packages/anndata/_core/anndata.py:1105: FutureWarning: is_categorical_dtype is deprecated and will be removed in a future version. Use isinstance(dtype, CategoricalDtype) instead\n",
      "/Users/jysumac/miniforge3/envs/stagate/lib/python3.11/site-packages/scanpy/preprocessing/_highly_variable_genes.py:216: FutureWarning: The default of observed=False is deprecated and will be changed to True in a future version of pandas. Pass observed=False to retain current behavior or observed=True to adopt the future default and silence this warning.\n",
      "/Users/jysumac/miniforge3/envs/stagate/lib/python3.11/site-packages/anndata/_core/anndata.py:1105: FutureWarning: is_categorical_dtype is deprecated and will be removed in a future version. Use isinstance(dtype, CategoricalDtype) instead\n"
     ]
    },
    {
     "name": "stdout",
     "output_type": "stream",
     "text": [
      "Number of spots: 3592. Average number of neighbors per spot:  5.85.\n",
      "Number of spots: 3592. Average number of neighbors per spot:  5.85.\n",
      "Running AE ...\n"
     ]
    },
    {
     "name": "stderr",
     "output_type": "stream",
     "text": [
      "/Users/jysumac/Projects/Smoother/smoother/models/reduction/_spae.py:224: UserWarning: Fail to converge. Try to increase 'max_epochs'.\n"
     ]
    },
    {
     "name": "stdout",
     "output_type": "stream",
     "text": [
      "WARNING: adata.X seems to be already log-transformed.\n"
     ]
    },
    {
     "name": "stderr",
     "output_type": "stream",
     "text": [
      "/Users/jysumac/miniforge3/envs/stagate/lib/python3.11/site-packages/anndata/_core/anndata.py:1105: FutureWarning: is_categorical_dtype is deprecated and will be removed in a future version. Use isinstance(dtype, CategoricalDtype) instead\n",
      "/Users/jysumac/miniforge3/envs/stagate/lib/python3.11/site-packages/scanpy/preprocessing/_highly_variable_genes.py:216: FutureWarning: The default of observed=False is deprecated and will be changed to True in a future version of pandas. Pass observed=False to retain current behavior or observed=True to adopt the future default and silence this warning.\n",
      "/Users/jysumac/miniforge3/envs/stagate/lib/python3.11/site-packages/anndata/_core/anndata.py:1105: FutureWarning: is_categorical_dtype is deprecated and will be removed in a future version. Use isinstance(dtype, CategoricalDtype) instead\n"
     ]
    },
    {
     "name": "stdout",
     "output_type": "stream",
     "text": [
      "Number of spots: 3460. Average number of neighbors per spot:  5.85.\n",
      "Number of spots: 3460. Average number of neighbors per spot:  5.85.\n",
      "Running AE ...\n"
     ]
    },
    {
     "name": "stderr",
     "output_type": "stream",
     "text": [
      "/Users/jysumac/Projects/Smoother/smoother/models/reduction/_spae.py:224: UserWarning: Fail to converge. Try to increase 'max_epochs'.\n"
     ]
    }
   ],
   "source": [
    "sample_ids = [\n",
    "    '151507', '151508', '151509', '151510',\n",
    "    '151669', '151670', '151671', '151672',\n",
    "    '151673', '151674', '151675', '151676'\n",
    "]\n",
    "l_sp_losses = [0, 1, 3, 10]\n",
    "\n",
    "for s in sample_ids:\n",
    "    run_all_ae(s, l_sp_losses)"
   ]
  },
  {
   "cell_type": "markdown",
   "id": "8e5d6bdf-cb11-4bb9-8d91-3e6afc3d3cc0",
   "metadata": {},
   "source": [
    "## STAGATE"
   ]
  },
  {
   "cell_type": "code",
   "execution_count": 10,
   "id": "e89ec4c8-3c33-4caf-a831-e10af3e6ef03",
   "metadata": {},
   "outputs": [],
   "source": [
    "import STAGATE_pyG as STAGATE\n",
    "\n",
    "def _run_stagate(data_dir):\n",
    "    data = sc.read_h5ad(data_dir)\n",
    "\n",
    "    # preprocessing\n",
    "    sc.pp.filter_genes(data, min_counts=3)\n",
    "    sc.pp.normalize_total(data, target_sum=1e4)\n",
    "    sc.pp.log1p(data)\n",
    "    data.layers['log1p'] = data.X.copy()\n",
    "    sc.pp.highly_variable_genes(\n",
    "        data, subset=True, n_top_genes=2000, layer=\"log1p\"\n",
    "    )\n",
    "\n",
    "    # run STAGATE\n",
    "    STAGATE.Cal_Spatial_Net(data, rad_cutoff=150)\n",
    "    data = STAGATE.train_STAGATE(data, hidden_dims=[128, 30])\n",
    "\n",
    "    return data\n",
    "\n",
    "def run_stagate(sample_id):\n",
    "    data_dir = \"/Users/jysumac/Projects/Smoother_paper/data/dlpfc_sodb/\" \\\n",
    "                    f\"10X_Visium_maynard2021trans_{sample_id}_data.h5ad\"\n",
    "    res_dir = \"/Users/jysumac/Projects/Smoother_paper/results/dlpfc_dr_benchmark/STAGATE/\"\n",
    "\n",
    "    # run dr\n",
    "    data = _run_stagate(data_dir)\n",
    "    # save results\n",
    "    np.savetxt(f\"{res_dir}/{sample_id}_STAGATE.txt\", data.obsm['STAGATE'])"
   ]
  },
  {
   "cell_type": "markdown",
   "id": "996858bc-2ed5-4b2a-aadc-5b24fc0ca51a",
   "metadata": {},
   "source": [
    "### All samples"
   ]
  },
  {
   "cell_type": "code",
   "execution_count": 11,
   "id": "bee02b39-f5c5-4b66-88e4-9031fee1061e",
   "metadata": {},
   "outputs": [
    {
     "name": "stdout",
     "output_type": "stream",
     "text": [
      "WARNING: adata.X seems to be already log-transformed.\n"
     ]
    },
    {
     "name": "stderr",
     "output_type": "stream",
     "text": [
      "/Users/jysumac/miniforge3/envs/stagate/lib/python3.11/site-packages/anndata/_core/anndata.py:1105: FutureWarning: is_categorical_dtype is deprecated and will be removed in a future version. Use isinstance(dtype, CategoricalDtype) instead\n",
      "/Users/jysumac/miniforge3/envs/stagate/lib/python3.11/site-packages/scanpy/preprocessing/_highly_variable_genes.py:216: FutureWarning: The default of observed=False is deprecated and will be changed to True in a future version of pandas. Pass observed=False to retain current behavior or observed=True to adopt the future default and silence this warning.\n"
     ]
    },
    {
     "name": "stdout",
     "output_type": "stream",
     "text": [
      "------Calculating spatial graph...\n"
     ]
    },
    {
     "name": "stderr",
     "output_type": "stream",
     "text": [
      "/Users/jysumac/miniforge3/envs/stagate/lib/python3.11/site-packages/anndata/_core/anndata.py:1105: FutureWarning: is_categorical_dtype is deprecated and will be removed in a future version. Use isinstance(dtype, CategoricalDtype) instead\n",
      "/Users/jysumac/miniforge3/envs/stagate/lib/python3.11/site-packages/anndata/_core/anndata.py:1105: FutureWarning: is_categorical_dtype is deprecated and will be removed in a future version. Use isinstance(dtype, CategoricalDtype) instead\n"
     ]
    },
    {
     "name": "stdout",
     "output_type": "stream",
     "text": [
      "The graph contains 24770 edges, 4226 cells.\n",
      "5.8613 neighbors per cell on average.\n",
      "Size of Input:  (4226, 2000)\n"
     ]
    },
    {
     "name": "stderr",
     "output_type": "stream",
     "text": [
      "100%|███████████████████████████████████████| 1000/1000 [02:25<00:00,  6.87it/s]\n"
     ]
    },
    {
     "name": "stdout",
     "output_type": "stream",
     "text": [
      "WARNING: adata.X seems to be already log-transformed.\n"
     ]
    },
    {
     "name": "stderr",
     "output_type": "stream",
     "text": [
      "/Users/jysumac/miniforge3/envs/stagate/lib/python3.11/site-packages/anndata/_core/anndata.py:1105: FutureWarning: is_categorical_dtype is deprecated and will be removed in a future version. Use isinstance(dtype, CategoricalDtype) instead\n",
      "/Users/jysumac/miniforge3/envs/stagate/lib/python3.11/site-packages/scanpy/preprocessing/_highly_variable_genes.py:216: FutureWarning: The default of observed=False is deprecated and will be changed to True in a future version of pandas. Pass observed=False to retain current behavior or observed=True to adopt the future default and silence this warning.\n"
     ]
    },
    {
     "name": "stdout",
     "output_type": "stream",
     "text": [
      "------Calculating spatial graph...\n"
     ]
    },
    {
     "name": "stderr",
     "output_type": "stream",
     "text": [
      "/Users/jysumac/miniforge3/envs/stagate/lib/python3.11/site-packages/anndata/_core/anndata.py:1105: FutureWarning: is_categorical_dtype is deprecated and will be removed in a future version. Use isinstance(dtype, CategoricalDtype) instead\n",
      "/Users/jysumac/miniforge3/envs/stagate/lib/python3.11/site-packages/anndata/_core/anndata.py:1105: FutureWarning: is_categorical_dtype is deprecated and will be removed in a future version. Use isinstance(dtype, CategoricalDtype) instead\n"
     ]
    },
    {
     "name": "stdout",
     "output_type": "stream",
     "text": [
      "The graph contains 25698 edges, 4384 cells.\n",
      "5.8618 neighbors per cell on average.\n",
      "Size of Input:  (4384, 2000)\n"
     ]
    },
    {
     "name": "stderr",
     "output_type": "stream",
     "text": [
      "100%|███████████████████████████████████████| 1000/1000 [02:16<00:00,  7.33it/s]\n"
     ]
    },
    {
     "name": "stdout",
     "output_type": "stream",
     "text": [
      "WARNING: adata.X seems to be already log-transformed.\n"
     ]
    },
    {
     "name": "stderr",
     "output_type": "stream",
     "text": [
      "/Users/jysumac/miniforge3/envs/stagate/lib/python3.11/site-packages/anndata/_core/anndata.py:1105: FutureWarning: is_categorical_dtype is deprecated and will be removed in a future version. Use isinstance(dtype, CategoricalDtype) instead\n",
      "/Users/jysumac/miniforge3/envs/stagate/lib/python3.11/site-packages/scanpy/preprocessing/_highly_variable_genes.py:216: FutureWarning: The default of observed=False is deprecated and will be changed to True in a future version of pandas. Pass observed=False to retain current behavior or observed=True to adopt the future default and silence this warning.\n",
      "/Users/jysumac/miniforge3/envs/stagate/lib/python3.11/site-packages/anndata/_core/anndata.py:1105: FutureWarning: is_categorical_dtype is deprecated and will be removed in a future version. Use isinstance(dtype, CategoricalDtype) instead\n"
     ]
    },
    {
     "name": "stdout",
     "output_type": "stream",
     "text": [
      "------Calculating spatial graph...\n"
     ]
    },
    {
     "name": "stderr",
     "output_type": "stream",
     "text": [
      "/Users/jysumac/miniforge3/envs/stagate/lib/python3.11/site-packages/anndata/_core/anndata.py:1105: FutureWarning: is_categorical_dtype is deprecated and will be removed in a future version. Use isinstance(dtype, CategoricalDtype) instead\n"
     ]
    },
    {
     "name": "stdout",
     "output_type": "stream",
     "text": [
      "The graph contains 28172 edges, 4789 cells.\n",
      "5.8826 neighbors per cell on average.\n",
      "Size of Input:  (4789, 2000)\n"
     ]
    },
    {
     "name": "stderr",
     "output_type": "stream",
     "text": [
      "100%|███████████████████████████████████████| 1000/1000 [02:28<00:00,  6.73it/s]\n"
     ]
    },
    {
     "name": "stdout",
     "output_type": "stream",
     "text": [
      "WARNING: adata.X seems to be already log-transformed.\n"
     ]
    },
    {
     "name": "stderr",
     "output_type": "stream",
     "text": [
      "/Users/jysumac/miniforge3/envs/stagate/lib/python3.11/site-packages/anndata/_core/anndata.py:1105: FutureWarning: is_categorical_dtype is deprecated and will be removed in a future version. Use isinstance(dtype, CategoricalDtype) instead\n",
      "/Users/jysumac/miniforge3/envs/stagate/lib/python3.11/site-packages/scanpy/preprocessing/_highly_variable_genes.py:216: FutureWarning: The default of observed=False is deprecated and will be changed to True in a future version of pandas. Pass observed=False to retain current behavior or observed=True to adopt the future default and silence this warning.\n",
      "/Users/jysumac/miniforge3/envs/stagate/lib/python3.11/site-packages/anndata/_core/anndata.py:1105: FutureWarning: is_categorical_dtype is deprecated and will be removed in a future version. Use isinstance(dtype, CategoricalDtype) instead\n"
     ]
    },
    {
     "name": "stdout",
     "output_type": "stream",
     "text": [
      "------Calculating spatial graph...\n"
     ]
    },
    {
     "name": "stderr",
     "output_type": "stream",
     "text": [
      "/Users/jysumac/miniforge3/envs/stagate/lib/python3.11/site-packages/anndata/_core/anndata.py:1105: FutureWarning: is_categorical_dtype is deprecated and will be removed in a future version. Use isinstance(dtype, CategoricalDtype) instead\n"
     ]
    },
    {
     "name": "stdout",
     "output_type": "stream",
     "text": [
      "The graph contains 27198 edges, 4634 cells.\n",
      "5.8692 neighbors per cell on average.\n",
      "Size of Input:  (4634, 2000)\n"
     ]
    },
    {
     "name": "stderr",
     "output_type": "stream",
     "text": [
      "100%|███████████████████████████████████████| 1000/1000 [02:36<00:00,  6.40it/s]\n"
     ]
    },
    {
     "name": "stdout",
     "output_type": "stream",
     "text": [
      "WARNING: adata.X seems to be already log-transformed.\n"
     ]
    },
    {
     "name": "stderr",
     "output_type": "stream",
     "text": [
      "/Users/jysumac/miniforge3/envs/stagate/lib/python3.11/site-packages/anndata/_core/anndata.py:1105: FutureWarning: is_categorical_dtype is deprecated and will be removed in a future version. Use isinstance(dtype, CategoricalDtype) instead\n",
      "/Users/jysumac/miniforge3/envs/stagate/lib/python3.11/site-packages/scanpy/preprocessing/_highly_variable_genes.py:216: FutureWarning: The default of observed=False is deprecated and will be changed to True in a future version of pandas. Pass observed=False to retain current behavior or observed=True to adopt the future default and silence this warning.\n",
      "/Users/jysumac/miniforge3/envs/stagate/lib/python3.11/site-packages/anndata/_core/anndata.py:1105: FutureWarning: is_categorical_dtype is deprecated and will be removed in a future version. Use isinstance(dtype, CategoricalDtype) instead\n"
     ]
    },
    {
     "name": "stdout",
     "output_type": "stream",
     "text": [
      "------Calculating spatial graph...\n"
     ]
    },
    {
     "name": "stderr",
     "output_type": "stream",
     "text": [
      "/Users/jysumac/miniforge3/envs/stagate/lib/python3.11/site-packages/anndata/_core/anndata.py:1105: FutureWarning: is_categorical_dtype is deprecated and will be removed in a future version. Use isinstance(dtype, CategoricalDtype) instead\n"
     ]
    },
    {
     "name": "stdout",
     "output_type": "stream",
     "text": [
      "The graph contains 21194 edges, 3661 cells.\n",
      "5.7891 neighbors per cell on average.\n",
      "Size of Input:  (3661, 2000)\n"
     ]
    },
    {
     "name": "stderr",
     "output_type": "stream",
     "text": [
      "100%|███████████████████████████████████████| 1000/1000 [02:07<00:00,  7.85it/s]\n"
     ]
    },
    {
     "name": "stdout",
     "output_type": "stream",
     "text": [
      "WARNING: adata.X seems to be already log-transformed.\n"
     ]
    },
    {
     "name": "stderr",
     "output_type": "stream",
     "text": [
      "/Users/jysumac/miniforge3/envs/stagate/lib/python3.11/site-packages/anndata/_core/anndata.py:1105: FutureWarning: is_categorical_dtype is deprecated and will be removed in a future version. Use isinstance(dtype, CategoricalDtype) instead\n",
      "/Users/jysumac/miniforge3/envs/stagate/lib/python3.11/site-packages/scanpy/preprocessing/_highly_variable_genes.py:216: FutureWarning: The default of observed=False is deprecated and will be changed to True in a future version of pandas. Pass observed=False to retain current behavior or observed=True to adopt the future default and silence this warning.\n",
      "/Users/jysumac/miniforge3/envs/stagate/lib/python3.11/site-packages/anndata/_core/anndata.py:1105: FutureWarning: is_categorical_dtype is deprecated and will be removed in a future version. Use isinstance(dtype, CategoricalDtype) instead\n"
     ]
    },
    {
     "name": "stdout",
     "output_type": "stream",
     "text": [
      "------Calculating spatial graph...\n"
     ]
    },
    {
     "name": "stderr",
     "output_type": "stream",
     "text": [
      "/Users/jysumac/miniforge3/envs/stagate/lib/python3.11/site-packages/anndata/_core/anndata.py:1105: FutureWarning: is_categorical_dtype is deprecated and will be removed in a future version. Use isinstance(dtype, CategoricalDtype) instead\n"
     ]
    },
    {
     "name": "stdout",
     "output_type": "stream",
     "text": [
      "The graph contains 20370 edges, 3498 cells.\n",
      "5.8233 neighbors per cell on average.\n",
      "Size of Input:  (3498, 2000)\n"
     ]
    },
    {
     "name": "stderr",
     "output_type": "stream",
     "text": [
      "100%|███████████████████████████████████████| 1000/1000 [02:03<00:00,  8.12it/s]\n"
     ]
    },
    {
     "name": "stdout",
     "output_type": "stream",
     "text": [
      "WARNING: adata.X seems to be already log-transformed.\n"
     ]
    },
    {
     "name": "stderr",
     "output_type": "stream",
     "text": [
      "/Users/jysumac/miniforge3/envs/stagate/lib/python3.11/site-packages/anndata/_core/anndata.py:1105: FutureWarning: is_categorical_dtype is deprecated and will be removed in a future version. Use isinstance(dtype, CategoricalDtype) instead\n",
      "/Users/jysumac/miniforge3/envs/stagate/lib/python3.11/site-packages/scanpy/preprocessing/_highly_variable_genes.py:216: FutureWarning: The default of observed=False is deprecated and will be changed to True in a future version of pandas. Pass observed=False to retain current behavior or observed=True to adopt the future default and silence this warning.\n",
      "/Users/jysumac/miniforge3/envs/stagate/lib/python3.11/site-packages/anndata/_core/anndata.py:1105: FutureWarning: is_categorical_dtype is deprecated and will be removed in a future version. Use isinstance(dtype, CategoricalDtype) instead\n"
     ]
    },
    {
     "name": "stdout",
     "output_type": "stream",
     "text": [
      "------Calculating spatial graph...\n"
     ]
    },
    {
     "name": "stderr",
     "output_type": "stream",
     "text": [
      "/Users/jysumac/miniforge3/envs/stagate/lib/python3.11/site-packages/anndata/_core/anndata.py:1105: FutureWarning: is_categorical_dtype is deprecated and will be removed in a future version. Use isinstance(dtype, CategoricalDtype) instead\n"
     ]
    },
    {
     "name": "stdout",
     "output_type": "stream",
     "text": [
      "The graph contains 24052 edges, 4110 cells.\n",
      "5.8521 neighbors per cell on average.\n",
      "Size of Input:  (4110, 2000)\n"
     ]
    },
    {
     "name": "stderr",
     "output_type": "stream",
     "text": [
      "100%|███████████████████████████████████████| 1000/1000 [02:31<00:00,  6.60it/s]\n"
     ]
    },
    {
     "name": "stdout",
     "output_type": "stream",
     "text": [
      "WARNING: adata.X seems to be already log-transformed.\n"
     ]
    },
    {
     "name": "stderr",
     "output_type": "stream",
     "text": [
      "/Users/jysumac/miniforge3/envs/stagate/lib/python3.11/site-packages/anndata/_core/anndata.py:1105: FutureWarning: is_categorical_dtype is deprecated and will be removed in a future version. Use isinstance(dtype, CategoricalDtype) instead\n",
      "/Users/jysumac/miniforge3/envs/stagate/lib/python3.11/site-packages/scanpy/preprocessing/_highly_variable_genes.py:216: FutureWarning: The default of observed=False is deprecated and will be changed to True in a future version of pandas. Pass observed=False to retain current behavior or observed=True to adopt the future default and silence this warning.\n",
      "/Users/jysumac/miniforge3/envs/stagate/lib/python3.11/site-packages/anndata/_core/anndata.py:1105: FutureWarning: is_categorical_dtype is deprecated and will be removed in a future version. Use isinstance(dtype, CategoricalDtype) instead\n"
     ]
    },
    {
     "name": "stdout",
     "output_type": "stream",
     "text": [
      "------Calculating spatial graph...\n"
     ]
    },
    {
     "name": "stderr",
     "output_type": "stream",
     "text": [
      "/Users/jysumac/miniforge3/envs/stagate/lib/python3.11/site-packages/anndata/_core/anndata.py:1105: FutureWarning: is_categorical_dtype is deprecated and will be removed in a future version. Use isinstance(dtype, CategoricalDtype) instead\n"
     ]
    },
    {
     "name": "stdout",
     "output_type": "stream",
     "text": [
      "The graph contains 23382 edges, 4015 cells.\n",
      "5.8237 neighbors per cell on average.\n",
      "Size of Input:  (4015, 2000)\n"
     ]
    },
    {
     "name": "stderr",
     "output_type": "stream",
     "text": [
      "100%|███████████████████████████████████████| 1000/1000 [02:20<00:00,  7.13it/s]\n"
     ]
    },
    {
     "name": "stdout",
     "output_type": "stream",
     "text": [
      "WARNING: adata.X seems to be already log-transformed.\n"
     ]
    },
    {
     "name": "stderr",
     "output_type": "stream",
     "text": [
      "/Users/jysumac/miniforge3/envs/stagate/lib/python3.11/site-packages/anndata/_core/anndata.py:1105: FutureWarning: is_categorical_dtype is deprecated and will be removed in a future version. Use isinstance(dtype, CategoricalDtype) instead\n",
      "/Users/jysumac/miniforge3/envs/stagate/lib/python3.11/site-packages/scanpy/preprocessing/_highly_variable_genes.py:216: FutureWarning: The default of observed=False is deprecated and will be changed to True in a future version of pandas. Pass observed=False to retain current behavior or observed=True to adopt the future default and silence this warning.\n",
      "/Users/jysumac/miniforge3/envs/stagate/lib/python3.11/site-packages/anndata/_core/anndata.py:1105: FutureWarning: is_categorical_dtype is deprecated and will be removed in a future version. Use isinstance(dtype, CategoricalDtype) instead\n"
     ]
    },
    {
     "name": "stdout",
     "output_type": "stream",
     "text": [
      "------Calculating spatial graph...\n"
     ]
    },
    {
     "name": "stderr",
     "output_type": "stream",
     "text": [
      "/Users/jysumac/miniforge3/envs/stagate/lib/python3.11/site-packages/anndata/_core/anndata.py:1105: FutureWarning: is_categorical_dtype is deprecated and will be removed in a future version. Use isinstance(dtype, CategoricalDtype) instead\n"
     ]
    },
    {
     "name": "stdout",
     "output_type": "stream",
     "text": [
      "The graph contains 21124 edges, 3639 cells.\n",
      "5.8049 neighbors per cell on average.\n",
      "Size of Input:  (3639, 2000)\n"
     ]
    },
    {
     "name": "stderr",
     "output_type": "stream",
     "text": [
      "100%|███████████████████████████████████████| 1000/1000 [01:51<00:00,  8.95it/s]\n"
     ]
    },
    {
     "name": "stdout",
     "output_type": "stream",
     "text": [
      "WARNING: adata.X seems to be already log-transformed.\n"
     ]
    },
    {
     "name": "stderr",
     "output_type": "stream",
     "text": [
      "/Users/jysumac/miniforge3/envs/stagate/lib/python3.11/site-packages/anndata/_core/anndata.py:1105: FutureWarning: is_categorical_dtype is deprecated and will be removed in a future version. Use isinstance(dtype, CategoricalDtype) instead\n",
      "/Users/jysumac/miniforge3/envs/stagate/lib/python3.11/site-packages/scanpy/preprocessing/_highly_variable_genes.py:216: FutureWarning: The default of observed=False is deprecated and will be changed to True in a future version of pandas. Pass observed=False to retain current behavior or observed=True to adopt the future default and silence this warning.\n",
      "/Users/jysumac/miniforge3/envs/stagate/lib/python3.11/site-packages/anndata/_core/anndata.py:1105: FutureWarning: is_categorical_dtype is deprecated and will be removed in a future version. Use isinstance(dtype, CategoricalDtype) instead\n"
     ]
    },
    {
     "name": "stdout",
     "output_type": "stream",
     "text": [
      "------Calculating spatial graph...\n"
     ]
    },
    {
     "name": "stderr",
     "output_type": "stream",
     "text": [
      "/Users/jysumac/miniforge3/envs/stagate/lib/python3.11/site-packages/anndata/_core/anndata.py:1105: FutureWarning: is_categorical_dtype is deprecated and will be removed in a future version. Use isinstance(dtype, CategoricalDtype) instead\n"
     ]
    },
    {
     "name": "stdout",
     "output_type": "stream",
     "text": [
      "The graph contains 21258 edges, 3673 cells.\n",
      "5.7876 neighbors per cell on average.\n",
      "Size of Input:  (3673, 2000)\n"
     ]
    },
    {
     "name": "stderr",
     "output_type": "stream",
     "text": [
      "100%|███████████████████████████████████████| 1000/1000 [01:51<00:00,  8.94it/s]\n"
     ]
    },
    {
     "name": "stdout",
     "output_type": "stream",
     "text": [
      "WARNING: adata.X seems to be already log-transformed.\n"
     ]
    },
    {
     "name": "stderr",
     "output_type": "stream",
     "text": [
      "/Users/jysumac/miniforge3/envs/stagate/lib/python3.11/site-packages/anndata/_core/anndata.py:1105: FutureWarning: is_categorical_dtype is deprecated and will be removed in a future version. Use isinstance(dtype, CategoricalDtype) instead\n",
      "/Users/jysumac/miniforge3/envs/stagate/lib/python3.11/site-packages/scanpy/preprocessing/_highly_variable_genes.py:216: FutureWarning: The default of observed=False is deprecated and will be changed to True in a future version of pandas. Pass observed=False to retain current behavior or observed=True to adopt the future default and silence this warning.\n",
      "/Users/jysumac/miniforge3/envs/stagate/lib/python3.11/site-packages/anndata/_core/anndata.py:1105: FutureWarning: is_categorical_dtype is deprecated and will be removed in a future version. Use isinstance(dtype, CategoricalDtype) instead\n"
     ]
    },
    {
     "name": "stdout",
     "output_type": "stream",
     "text": [
      "------Calculating spatial graph...\n"
     ]
    },
    {
     "name": "stderr",
     "output_type": "stream",
     "text": [
      "/Users/jysumac/miniforge3/envs/stagate/lib/python3.11/site-packages/anndata/_core/anndata.py:1105: FutureWarning: is_categorical_dtype is deprecated and will be removed in a future version. Use isinstance(dtype, CategoricalDtype) instead\n"
     ]
    },
    {
     "name": "stdout",
     "output_type": "stream",
     "text": [
      "The graph contains 20762 edges, 3592 cells.\n",
      "5.7801 neighbors per cell on average.\n",
      "Size of Input:  (3592, 2000)\n"
     ]
    },
    {
     "name": "stderr",
     "output_type": "stream",
     "text": [
      "100%|███████████████████████████████████████| 1000/1000 [01:46<00:00,  9.38it/s]\n"
     ]
    },
    {
     "name": "stdout",
     "output_type": "stream",
     "text": [
      "WARNING: adata.X seems to be already log-transformed.\n"
     ]
    },
    {
     "name": "stderr",
     "output_type": "stream",
     "text": [
      "/Users/jysumac/miniforge3/envs/stagate/lib/python3.11/site-packages/anndata/_core/anndata.py:1105: FutureWarning: is_categorical_dtype is deprecated and will be removed in a future version. Use isinstance(dtype, CategoricalDtype) instead\n",
      "/Users/jysumac/miniforge3/envs/stagate/lib/python3.11/site-packages/scanpy/preprocessing/_highly_variable_genes.py:216: FutureWarning: The default of observed=False is deprecated and will be changed to True in a future version of pandas. Pass observed=False to retain current behavior or observed=True to adopt the future default and silence this warning.\n",
      "/Users/jysumac/miniforge3/envs/stagate/lib/python3.11/site-packages/anndata/_core/anndata.py:1105: FutureWarning: is_categorical_dtype is deprecated and will be removed in a future version. Use isinstance(dtype, CategoricalDtype) instead\n"
     ]
    },
    {
     "name": "stdout",
     "output_type": "stream",
     "text": [
      "------Calculating spatial graph...\n",
      "The graph contains 20052 edges, 3460 cells.\n",
      "5.7954 neighbors per cell on average.\n"
     ]
    },
    {
     "name": "stderr",
     "output_type": "stream",
     "text": [
      "/Users/jysumac/miniforge3/envs/stagate/lib/python3.11/site-packages/anndata/_core/anndata.py:1105: FutureWarning: is_categorical_dtype is deprecated and will be removed in a future version. Use isinstance(dtype, CategoricalDtype) instead\n"
     ]
    },
    {
     "name": "stdout",
     "output_type": "stream",
     "text": [
      "Size of Input:  (3460, 2000)\n"
     ]
    },
    {
     "name": "stderr",
     "output_type": "stream",
     "text": [
      "100%|███████████████████████████████████████| 1000/1000 [01:48<00:00,  9.22it/s]\n"
     ]
    }
   ],
   "source": [
    "sample_ids = [\n",
    "    '151507', '151508', '151509', '151510',\n",
    "    '151669', '151670', '151671', '151672',\n",
    "    '151673', '151674', '151675', '151676'\n",
    "]\n",
    "\n",
    "for s in sample_ids:\n",
    "    run_stagate(s)"
   ]
  },
  {
   "cell_type": "markdown",
   "id": "4a4fcb8e-84ee-4dcb-873b-96962a6606a6",
   "metadata": {},
   "source": [
    "### Single sample"
   ]
  },
  {
   "cell_type": "code",
   "execution_count": 6,
   "id": "a0952d29-2706-4807-80c7-123a630c0bab",
   "metadata": {},
   "outputs": [
    {
     "name": "stdout",
     "output_type": "stream",
     "text": [
      "Size of Input:  (3639, 2000)\n"
     ]
    },
    {
     "name": "stderr",
     "output_type": "stream",
     "text": [
      "100%|███████████████████████████████████████| 1000/1000 [04:36<00:00,  3.61it/s]\n"
     ]
    }
   ],
   "source": [
    "data = STAGATE.train_STAGATE(data)"
   ]
  },
  {
   "cell_type": "code",
   "execution_count": 22,
   "id": "52ee0dfd-d4af-4a74-b4d9-a956c49fb79e",
   "metadata": {},
   "outputs": [
    {
     "data": {
      "text/plain": [
       "AnnData object with n_obs × n_vars = 3639 × 33538\n",
       "    obs: 'in_tissue', 'array_row', 'array_col', 'Region', 'leiden', 'STAGATE'\n",
       "    var: 'gene_ids', 'feature_types', 'genome', 'highly_variable', 'means', 'dispersions', 'dispersions_norm'\n",
       "    uns: 'hvg', 'leiden', 'leiden_colors', 'log1p', 'moranI', 'neighbors', 'pca', 'spatial', 'spatial_neighbors', 'umap', 'Spatial_Net'\n",
       "    obsm: 'X_pca', 'X_umap', 'spatial', 'STAGATE'\n",
       "    varm: 'PCs'\n",
       "    layers: 'raw', 'log1p'\n",
       "    obsp: 'connectivities', 'distances', 'spatial_connectivities', 'spatial_distances'"
      ]
     },
     "execution_count": 22,
     "metadata": {},
     "output_type": "execute_result"
    }
   ],
   "source": [
    "data"
   ]
  },
  {
   "cell_type": "code",
   "execution_count": 8,
   "id": "55c4250e-24e8-424f-ba15-cd5c2e5179f4",
   "metadata": {},
   "outputs": [],
   "source": [
    "sc.pp.neighbors(data, use_rep='STAGATE')\n",
    "sc.tl.umap(data)"
   ]
  },
  {
   "cell_type": "code",
   "execution_count": 9,
   "id": "c1c4a356-2c1a-4bab-a787-b6cd5ad315f0",
   "metadata": {},
   "outputs": [],
   "source": [
    "sc.tl.leiden(data, key_added='STAGATE', resolution=0.5)"
   ]
  },
  {
   "cell_type": "code",
   "execution_count": 43,
   "id": "0312ecc5-0b92-44f9-86f3-4c6d9b600b01",
   "metadata": {
    "scrolled": true
   },
   "outputs": [
    {
     "data": {
      "image/png": "[encoded data removed]",
      "text/plain": [
       "<Figure size 762x300 with 2 Axes>"
      ]
     },
     "metadata": {},
     "output_type": "display_data"
    }
   ],
   "source": [
    "with plt.rc_context({\"figure.figsize\": (3, 3)}):\n",
    "    sc.pl.spatial(data, color=[\"mclust\", \"Region\"], title=['STAGATE', \"Region\"])"
   ]
  },
  {
   "cell_type": "markdown",
   "id": "a30e5c9b-306c-4517-a646-43e4272c67c7",
   "metadata": {},
   "source": [
    "## SpaceFlow"
   ]
  },
  {
   "cell_type": "code",
   "execution_count": 3,
   "id": "146ac10f-1b49-4dcf-8f68-79c00b3bd975",
   "metadata": {},
   "outputs": [],
   "source": [
    "from SpaceFlow import SpaceFlow\n",
    "\n",
    "def run_sf(sample_id):\n",
    "    data_dir = \"/Users/jysumac/Projects/Smoother_paper/data/dlpfc_sodb/\" \\\n",
    "                    f\"10X_Visium_maynard2021trans_{sample_id}_data.h5ad\"\n",
    "    res_dir = \"/Users/jysumac/Projects/Smoother_paper/results/dlpfc_dr_benchmark/SpaceFlow/\"\n",
    "    data = sc.read_h5ad(data_dir)\n",
    "    \n",
    "    # preprocessing\n",
    "    sc.pp.filter_genes(data, min_counts=3)\n",
    "    data.layers['raw'] = data.X.copy()\n",
    "    sc.pp.normalize_total(data, target_sum=1e4)\n",
    "    sc.pp.log1p(data)\n",
    "    data.layers['log1p'] = data.X.copy()\n",
    "    sc.pp.highly_variable_genes(\n",
    "        data, subset=True, n_top_genes=2000, layer=\"log1p\"\n",
    "    )\n",
    "\n",
    "    sf = SpaceFlow.SpaceFlow(\n",
    "        count_matrix=data.layers['raw'][:, data.var['highly_variable']], \n",
    "        spatial_locs=data.obsm['spatial'], \n",
    "        sample_names=data.obs_names, \n",
    "        gene_names=data.var_names[data.var['highly_variable']]\n",
    "    )\n",
    "\n",
    "    sf.preprocessing_data(n_top_genes=2000)\n",
    "    sf.train(\n",
    "        embedding_save_filepath=f\"{res_dir}/{sample_id}_SF.tsv\",\n",
    "        spatial_regularization_strength=0.1, \n",
    "        z_dim=30, lr=1e-3, epochs=1000, max_patience=50, min_stop=100, random_seed=42, \n",
    "        gpu=0, regularization_acceleration=True, edge_subset_sz=1000000\n",
    "    )"
   ]
  },
  {
   "cell_type": "markdown",
   "id": "40cc5822-3b98-46ad-a593-22994da70760",
   "metadata": {},
   "source": [
    "### All samples"
   ]
  },
  {
   "cell_type": "code",
   "execution_count": 4,
   "id": "c353b78b-1a8d-420f-9066-be3169515c2e",
   "metadata": {},
   "outputs": [
    {
     "name": "stdout",
     "output_type": "stream",
     "text": [
      "WARNING: adata.X seems to be already log-transformed.\n"
     ]
    },
    {
     "name": "stderr",
     "output_type": "stream",
     "text": [
      "/Users/jysumac/miniforge3/envs/spaceflow/lib/python3.11/site-packages/scanpy/preprocessing/_highly_variable_genes.py:220: FutureWarning: The default of observed=False is deprecated and will be changed to True in a future version of pandas. Pass observed=False to retain current behavior or observed=True to adopt the future default and silence this warning.\n",
      "/Users/jysumac/miniforge3/envs/spaceflow/lib/python3.11/site-packages/scanpy/preprocessing/_highly_variable_genes.py:252: FutureWarning: The default of observed=False is deprecated and will be changed to True in a future version of pandas. Pass observed=False to retain current behavior or observed=True to adopt the future default and silence this warning.\n"
     ]
    },
    {
     "name": "stdout",
     "output_type": "stream",
     "text": [
      "Epoch 2/1000, Loss: 1.7715833187103271\n",
      "Epoch 12/1000, Loss: 1.452147126197815\n",
      "Epoch 22/1000, Loss: 1.4185386896133423\n",
      "Epoch 32/1000, Loss: 1.3820738792419434\n",
      "Epoch 42/1000, Loss: 1.277362585067749\n",
      "Epoch 52/1000, Loss: 1.012333869934082\n",
      "Epoch 62/1000, Loss: 0.6529843807220459\n",
      "Epoch 72/1000, Loss: 0.39172670245170593\n",
      "Epoch 82/1000, Loss: 0.22978204488754272\n",
      "Epoch 92/1000, Loss: 0.17692133784294128\n",
      "Epoch 102/1000, Loss: 0.1310402750968933\n",
      "Epoch 112/1000, Loss: 0.10808029770851135\n",
      "Epoch 122/1000, Loss: 0.09790942072868347\n",
      "Epoch 132/1000, Loss: 0.09428286552429199\n",
      "Epoch 142/1000, Loss: 0.08040204644203186\n",
      "Epoch 152/1000, Loss: 0.08018264174461365\n",
      "Epoch 162/1000, Loss: 0.06750058382749557\n",
      "Epoch 172/1000, Loss: 0.06764069199562073\n",
      "Epoch 182/1000, Loss: 0.07311490923166275\n",
      "Epoch 192/1000, Loss: 0.06837836652994156\n",
      "Epoch 202/1000, Loss: 0.067458376288414\n",
      "Epoch 212/1000, Loss: 0.06074560433626175\n",
      "Epoch 222/1000, Loss: 0.05868478864431381\n",
      "Epoch 232/1000, Loss: 0.053867556154727936\n",
      "Epoch 242/1000, Loss: 0.05299096554517746\n",
      "Epoch 252/1000, Loss: 0.05775650963187218\n",
      "Epoch 262/1000, Loss: 0.04865362495183945\n",
      "Epoch 272/1000, Loss: 0.050569985061883926\n",
      "Epoch 282/1000, Loss: 0.057122647762298584\n",
      "Epoch 292/1000, Loss: 0.047168705612421036\n",
      "Epoch 302/1000, Loss: 0.05952361598610878\n",
      "Epoch 312/1000, Loss: 0.04828723147511482\n",
      "Epoch 322/1000, Loss: 0.04559677839279175\n",
      "Epoch 332/1000, Loss: 0.04947224259376526\n",
      "Epoch 342/1000, Loss: 0.04555673524737358\n",
      "Epoch 352/1000, Loss: 0.04584803059697151\n",
      "Epoch 362/1000, Loss: 0.05213458836078644\n",
      "Epoch 372/1000, Loss: 0.04500383138656616\n",
      "Epoch 382/1000, Loss: 0.047049228101968765\n",
      "Epoch 392/1000, Loss: 0.05300441011786461\n",
      "Epoch 402/1000, Loss: 0.04693406820297241\n",
      "Epoch 412/1000, Loss: 0.04142950475215912\n",
      "Epoch 422/1000, Loss: 0.03981146588921547\n",
      "Epoch 432/1000, Loss: 0.05750062316656113\n",
      "Epoch 442/1000, Loss: 0.04582197964191437\n",
      "Epoch 452/1000, Loss: 0.041198667138814926\n",
      "Epoch 462/1000, Loss: 0.04027959331870079\n",
      "Epoch 472/1000, Loss: 0.04256357625126839\n",
      "Epoch 482/1000, Loss: 0.03997541964054108\n",
      "Epoch 492/1000, Loss: 0.040070369839668274\n",
      "Epoch 502/1000, Loss: 0.04021807760000229\n",
      "Epoch 512/1000, Loss: 0.04069884493947029\n",
      "Epoch 522/1000, Loss: 0.046214938163757324\n",
      "Epoch 532/1000, Loss: 0.03891482949256897\n",
      "Epoch 542/1000, Loss: 0.041405126452445984\n",
      "Training complete!\n",
      "Embedding is saved at /Users/jysumac/Projects/Smoother_paper/results/dlpfc_dr_benchmark/SpaceFlow//151507_SF.tsv\n",
      "WARNING: adata.X seems to be already log-transformed.\n"
     ]
    },
    {
     "name": "stderr",
     "output_type": "stream",
     "text": [
      "/Users/jysumac/miniforge3/envs/spaceflow/lib/python3.11/site-packages/scanpy/preprocessing/_highly_variable_genes.py:220: FutureWarning: The default of observed=False is deprecated and will be changed to True in a future version of pandas. Pass observed=False to retain current behavior or observed=True to adopt the future default and silence this warning.\n",
      "/Users/jysumac/miniforge3/envs/spaceflow/lib/python3.11/site-packages/scanpy/preprocessing/_highly_variable_genes.py:252: FutureWarning: The default of observed=False is deprecated and will be changed to True in a future version of pandas. Pass observed=False to retain current behavior or observed=True to adopt the future default and silence this warning.\n"
     ]
    },
    {
     "name": "stdout",
     "output_type": "stream",
     "text": [
      "Epoch 2/1000, Loss: 1.5239754915237427\n",
      "Epoch 12/1000, Loss: 1.4490208625793457\n",
      "Epoch 22/1000, Loss: 1.4190669059753418\n",
      "Epoch 32/1000, Loss: 1.3712257146835327\n",
      "Epoch 42/1000, Loss: 1.242766261100769\n",
      "Epoch 52/1000, Loss: 0.9632858037948608\n",
      "Epoch 62/1000, Loss: 0.6560856103897095\n",
      "Epoch 72/1000, Loss: 0.39083340764045715\n",
      "Epoch 82/1000, Loss: 0.2483808994293213\n",
      "Epoch 92/1000, Loss: 0.17284797132015228\n",
      "Epoch 102/1000, Loss: 0.12278106063604355\n",
      "Epoch 112/1000, Loss: 0.11013735085725784\n",
      "Epoch 122/1000, Loss: 0.10117559134960175\n",
      "Epoch 132/1000, Loss: 0.0864637941122055\n",
      "Epoch 142/1000, Loss: 0.06876485794782639\n",
      "Epoch 152/1000, Loss: 0.08388109505176544\n",
      "Epoch 162/1000, Loss: 0.07305850088596344\n",
      "Epoch 172/1000, Loss: 0.058407384902238846\n",
      "Epoch 182/1000, Loss: 0.05910998582839966\n",
      "Epoch 192/1000, Loss: 0.05555226653814316\n",
      "Epoch 202/1000, Loss: 0.05593085289001465\n",
      "Epoch 212/1000, Loss: 0.05563277378678322\n",
      "Epoch 222/1000, Loss: 0.05745760351419449\n",
      "Epoch 232/1000, Loss: 0.04990842565894127\n",
      "Epoch 242/1000, Loss: 0.048372022807598114\n",
      "Epoch 252/1000, Loss: 0.0532909594476223\n",
      "Epoch 262/1000, Loss: 0.053161121904850006\n",
      "Epoch 272/1000, Loss: 0.050608716905117035\n",
      "Epoch 282/1000, Loss: 0.04678570479154587\n",
      "Epoch 292/1000, Loss: 0.050155747681856155\n",
      "Epoch 302/1000, Loss: 0.04929094761610031\n",
      "Epoch 312/1000, Loss: 0.04343106970191002\n",
      "Epoch 322/1000, Loss: 0.050241246819496155\n",
      "Epoch 332/1000, Loss: 0.04629059135913849\n",
      "Epoch 342/1000, Loss: 0.04213922098278999\n",
      "Epoch 352/1000, Loss: 0.045380402356386185\n",
      "Epoch 362/1000, Loss: 0.06272213160991669\n",
      "Epoch 372/1000, Loss: 0.04224889352917671\n",
      "Epoch 382/1000, Loss: 0.04986310377717018\n",
      "Epoch 392/1000, Loss: 0.047922730445861816\n",
      "Epoch 402/1000, Loss: 0.04365703836083412\n",
      "Epoch 412/1000, Loss: 0.041901811957359314\n",
      "Epoch 422/1000, Loss: 0.03847682103514671\n",
      "Epoch 432/1000, Loss: 0.0420771948993206\n",
      "Epoch 442/1000, Loss: 0.03941628709435463\n",
      "Epoch 452/1000, Loss: 0.03796597570180893\n",
      "Epoch 462/1000, Loss: 0.039475977420806885\n",
      "Epoch 472/1000, Loss: 0.04082633927464485\n",
      "Epoch 482/1000, Loss: 0.03905072435736656\n",
      "Epoch 492/1000, Loss: 0.03741823136806488\n",
      "Epoch 502/1000, Loss: 0.037206750363111496\n",
      "Epoch 512/1000, Loss: 0.04453849047422409\n",
      "Training complete!\n",
      "Embedding is saved at /Users/jysumac/Projects/Smoother_paper/results/dlpfc_dr_benchmark/SpaceFlow//151508_SF.tsv\n",
      "WARNING: adata.X seems to be already log-transformed.\n"
     ]
    },
    {
     "name": "stderr",
     "output_type": "stream",
     "text": [
      "/Users/jysumac/miniforge3/envs/spaceflow/lib/python3.11/site-packages/scanpy/preprocessing/_highly_variable_genes.py:220: FutureWarning: The default of observed=False is deprecated and will be changed to True in a future version of pandas. Pass observed=False to retain current behavior or observed=True to adopt the future default and silence this warning.\n",
      "/Users/jysumac/miniforge3/envs/spaceflow/lib/python3.11/site-packages/scanpy/preprocessing/_highly_variable_genes.py:252: FutureWarning: The default of observed=False is deprecated and will be changed to True in a future version of pandas. Pass observed=False to retain current behavior or observed=True to adopt the future default and silence this warning.\n"
     ]
    },
    {
     "name": "stdout",
     "output_type": "stream",
     "text": [
      "Epoch 2/1000, Loss: 1.6247353553771973\n",
      "Epoch 12/1000, Loss: 1.4602867364883423\n",
      "Epoch 22/1000, Loss: 1.4383447170257568\n",
      "Epoch 32/1000, Loss: 1.4206640720367432\n",
      "Epoch 42/1000, Loss: 1.3844889402389526\n",
      "Epoch 52/1000, Loss: 1.3000905513763428\n",
      "Epoch 62/1000, Loss: 1.117083191871643\n",
      "Epoch 72/1000, Loss: 0.7918084859848022\n",
      "Epoch 82/1000, Loss: 0.4778609871864319\n",
      "Epoch 92/1000, Loss: 0.29396817088127136\n",
      "Epoch 102/1000, Loss: 0.18300563097000122\n",
      "Epoch 112/1000, Loss: 0.1432783156633377\n",
      "Epoch 122/1000, Loss: 0.11311838030815125\n",
      "Epoch 132/1000, Loss: 0.0952538400888443\n",
      "Epoch 142/1000, Loss: 0.08980533480644226\n",
      "Epoch 152/1000, Loss: 0.0775809958577156\n",
      "Epoch 162/1000, Loss: 0.07813712954521179\n",
      "Epoch 172/1000, Loss: 0.06907893717288971\n",
      "Epoch 182/1000, Loss: 0.07943558692932129\n",
      "Epoch 192/1000, Loss: 0.06692768633365631\n",
      "Epoch 202/1000, Loss: 0.06390033662319183\n",
      "Epoch 212/1000, Loss: 0.05698022246360779\n",
      "Epoch 222/1000, Loss: 0.06499145179986954\n",
      "Epoch 232/1000, Loss: 0.05673936381936073\n",
      "Epoch 242/1000, Loss: 0.06245945394039154\n",
      "Epoch 252/1000, Loss: 0.05431951582431793\n",
      "Epoch 262/1000, Loss: 0.050944071263074875\n",
      "Epoch 272/1000, Loss: 0.05795403569936752\n",
      "Epoch 282/1000, Loss: 0.057998962700366974\n",
      "Epoch 292/1000, Loss: 0.0507461316883564\n",
      "Epoch 302/1000, Loss: 0.056171368807554245\n",
      "Epoch 312/1000, Loss: 0.05382128804922104\n",
      "Epoch 322/1000, Loss: 0.04999957233667374\n",
      "Epoch 332/1000, Loss: 0.05014483630657196\n",
      "Epoch 342/1000, Loss: 0.0508665069937706\n",
      "Epoch 352/1000, Loss: 0.05102510005235672\n",
      "Epoch 362/1000, Loss: 0.0491015687584877\n",
      "Epoch 372/1000, Loss: 0.043297164142131805\n",
      "Epoch 382/1000, Loss: 0.04705667495727539\n",
      "Epoch 392/1000, Loss: 0.043193984776735306\n",
      "Epoch 402/1000, Loss: 0.047769881784915924\n",
      "Epoch 412/1000, Loss: 0.04323553666472435\n",
      "Epoch 422/1000, Loss: 0.04138343781232834\n",
      "Epoch 432/1000, Loss: 0.046844884753227234\n",
      "Epoch 442/1000, Loss: 0.039603088051080704\n",
      "Epoch 452/1000, Loss: 0.04408487305045128\n",
      "Epoch 462/1000, Loss: 0.06196709722280502\n",
      "Epoch 472/1000, Loss: 2.9214670658111572\n",
      "Epoch 482/1000, Loss: 0.11951136589050293\n",
      "Epoch 492/1000, Loss: 0.17006607353687286\n",
      "Training complete!\n",
      "Embedding is saved at /Users/jysumac/Projects/Smoother_paper/results/dlpfc_dr_benchmark/SpaceFlow//151509_SF.tsv\n",
      "WARNING: adata.X seems to be already log-transformed.\n"
     ]
    },
    {
     "name": "stderr",
     "output_type": "stream",
     "text": [
      "/Users/jysumac/miniforge3/envs/spaceflow/lib/python3.11/site-packages/scanpy/preprocessing/_highly_variable_genes.py:220: FutureWarning: The default of observed=False is deprecated and will be changed to True in a future version of pandas. Pass observed=False to retain current behavior or observed=True to adopt the future default and silence this warning.\n",
      "/Users/jysumac/miniforge3/envs/spaceflow/lib/python3.11/site-packages/scanpy/preprocessing/_highly_variable_genes.py:252: FutureWarning: The default of observed=False is deprecated and will be changed to True in a future version of pandas. Pass observed=False to retain current behavior or observed=True to adopt the future default and silence this warning.\n"
     ]
    },
    {
     "name": "stdout",
     "output_type": "stream",
     "text": [
      "Epoch 2/1000, Loss: 2.123004674911499\n",
      "Epoch 12/1000, Loss: 1.4964509010314941\n",
      "Epoch 22/1000, Loss: 1.445395588874817\n",
      "Epoch 32/1000, Loss: 1.4376050233840942\n",
      "Epoch 42/1000, Loss: 1.4228957891464233\n",
      "Epoch 52/1000, Loss: 1.4062422513961792\n",
      "Epoch 62/1000, Loss: 1.3816717863082886\n",
      "Epoch 72/1000, Loss: 1.3320471048355103\n",
      "Epoch 82/1000, Loss: 1.245097279548645\n",
      "Epoch 92/1000, Loss: 1.0718374252319336\n",
      "Epoch 102/1000, Loss: 0.8171795606613159\n",
      "Epoch 112/1000, Loss: 0.549933671951294\n",
      "Epoch 122/1000, Loss: 0.3715071380138397\n",
      "Epoch 132/1000, Loss: 0.26045215129852295\n",
      "Epoch 142/1000, Loss: 0.1974102258682251\n",
      "Epoch 152/1000, Loss: 0.151846244931221\n",
      "Epoch 162/1000, Loss: 0.13205009698867798\n",
      "Epoch 172/1000, Loss: 0.11315621435642242\n",
      "Epoch 182/1000, Loss: 0.12050794064998627\n",
      "Epoch 192/1000, Loss: 0.0985221266746521\n",
      "Epoch 202/1000, Loss: 0.0965491309762001\n",
      "Epoch 212/1000, Loss: 0.08458468317985535\n",
      "Epoch 222/1000, Loss: 0.08236460387706757\n",
      "Epoch 232/1000, Loss: 0.07291403412818909\n",
      "Epoch 242/1000, Loss: 0.07677887380123138\n",
      "Epoch 252/1000, Loss: 0.07774265110492706\n",
      "Epoch 262/1000, Loss: 0.08064664900302887\n",
      "Epoch 272/1000, Loss: 0.06600832939147949\n",
      "Epoch 282/1000, Loss: 0.07221771031618118\n",
      "Epoch 292/1000, Loss: 0.06404733657836914\n",
      "Epoch 302/1000, Loss: 0.06257311999797821\n",
      "Epoch 312/1000, Loss: 0.07491457462310791\n",
      "Epoch 322/1000, Loss: 0.06213453412055969\n",
      "Epoch 332/1000, Loss: 0.06106514483690262\n",
      "Epoch 342/1000, Loss: 0.05853597819805145\n",
      "Epoch 352/1000, Loss: 0.05212824046611786\n",
      "Epoch 362/1000, Loss: 0.05887966603040695\n",
      "Epoch 372/1000, Loss: 0.05737932398915291\n",
      "Epoch 382/1000, Loss: 0.057633377611637115\n",
      "Epoch 392/1000, Loss: 0.053335148841142654\n",
      "Epoch 402/1000, Loss: 0.057924121618270874\n",
      "Epoch 412/1000, Loss: 0.054388850927352905\n",
      "Epoch 422/1000, Loss: 0.05372883379459381\n",
      "Epoch 432/1000, Loss: 0.05717020481824875\n",
      "Epoch 442/1000, Loss: 0.053551480174064636\n",
      "Epoch 452/1000, Loss: 0.05103323236107826\n",
      "Epoch 462/1000, Loss: 0.047200895845890045\n",
      "Epoch 472/1000, Loss: 0.05019492655992508\n",
      "Epoch 482/1000, Loss: 0.05054048076272011\n",
      "Epoch 492/1000, Loss: 0.050590597093105316\n",
      "Epoch 502/1000, Loss: 0.051959410309791565\n",
      "Epoch 512/1000, Loss: 0.052570901811122894\n",
      "Epoch 522/1000, Loss: 0.04482072964310646\n",
      "Epoch 532/1000, Loss: 0.04593266546726227\n",
      "Training complete!\n",
      "Embedding is saved at /Users/jysumac/Projects/Smoother_paper/results/dlpfc_dr_benchmark/SpaceFlow//151510_SF.tsv\n",
      "WARNING: adata.X seems to be already log-transformed.\n"
     ]
    },
    {
     "name": "stderr",
     "output_type": "stream",
     "text": [
      "/Users/jysumac/miniforge3/envs/spaceflow/lib/python3.11/site-packages/scanpy/preprocessing/_highly_variable_genes.py:220: FutureWarning: The default of observed=False is deprecated and will be changed to True in a future version of pandas. Pass observed=False to retain current behavior or observed=True to adopt the future default and silence this warning.\n",
      "/Users/jysumac/miniforge3/envs/spaceflow/lib/python3.11/site-packages/scanpy/preprocessing/_highly_variable_genes.py:252: FutureWarning: The default of observed=False is deprecated and will be changed to True in a future version of pandas. Pass observed=False to retain current behavior or observed=True to adopt the future default and silence this warning.\n"
     ]
    },
    {
     "name": "stdout",
     "output_type": "stream",
     "text": [
      "Epoch 2/1000, Loss: 1.937086582183838\n",
      "Epoch 12/1000, Loss: 1.464392066001892\n",
      "Epoch 22/1000, Loss: 1.451731562614441\n",
      "Epoch 32/1000, Loss: 1.4378920793533325\n",
      "Epoch 42/1000, Loss: 1.4210178852081299\n",
      "Epoch 52/1000, Loss: 1.3998541831970215\n",
      "Epoch 62/1000, Loss: 1.3520127534866333\n",
      "Epoch 72/1000, Loss: 1.2164912223815918\n",
      "Epoch 82/1000, Loss: 0.9536612033843994\n",
      "Epoch 92/1000, Loss: 0.6535890698432922\n",
      "Epoch 102/1000, Loss: 0.43622520565986633\n",
      "Epoch 112/1000, Loss: 0.33903637528419495\n",
      "Epoch 122/1000, Loss: 0.22484858334064484\n",
      "Epoch 132/1000, Loss: 0.19297373294830322\n",
      "Epoch 142/1000, Loss: 0.1838679015636444\n",
      "Epoch 152/1000, Loss: 0.14635053277015686\n",
      "Epoch 162/1000, Loss: 0.11316628754138947\n",
      "Epoch 172/1000, Loss: 0.13615305721759796\n",
      "Epoch 182/1000, Loss: 0.10149851441383362\n",
      "Epoch 192/1000, Loss: 0.11867518723011017\n",
      "Epoch 202/1000, Loss: 0.08662110567092896\n",
      "Epoch 212/1000, Loss: 0.08864902704954147\n",
      "Epoch 222/1000, Loss: 0.0811397135257721\n",
      "Epoch 232/1000, Loss: 0.08892853558063507\n",
      "Epoch 242/1000, Loss: 0.07800497114658356\n",
      "Epoch 252/1000, Loss: 0.08652690798044205\n",
      "Epoch 262/1000, Loss: 0.06977707147598267\n",
      "Epoch 272/1000, Loss: 0.0750868171453476\n",
      "Epoch 282/1000, Loss: 0.06735390424728394\n",
      "Epoch 292/1000, Loss: 0.07270767539739609\n",
      "Epoch 302/1000, Loss: 0.0645696222782135\n",
      "Epoch 312/1000, Loss: 0.0710459053516388\n",
      "Epoch 322/1000, Loss: 0.0622110553085804\n",
      "Epoch 332/1000, Loss: 0.0703933984041214\n",
      "Epoch 342/1000, Loss: 0.05874466523528099\n",
      "Epoch 352/1000, Loss: 0.06573452055454254\n",
      "Epoch 362/1000, Loss: 0.060585372149944305\n",
      "Epoch 372/1000, Loss: 0.05161813646554947\n",
      "Epoch 382/1000, Loss: 0.054365068674087524\n",
      "Epoch 392/1000, Loss: 0.06465284526348114\n",
      "Epoch 402/1000, Loss: 0.0566939041018486\n",
      "Epoch 412/1000, Loss: 0.06341440975666046\n",
      "Epoch 422/1000, Loss: 0.05235225334763527\n",
      "Epoch 432/1000, Loss: 0.04863962531089783\n",
      "Epoch 442/1000, Loss: 0.05839322507381439\n",
      "Training complete!\n",
      "Embedding is saved at /Users/jysumac/Projects/Smoother_paper/results/dlpfc_dr_benchmark/SpaceFlow//151669_SF.tsv\n",
      "WARNING: adata.X seems to be already log-transformed.\n"
     ]
    },
    {
     "name": "stderr",
     "output_type": "stream",
     "text": [
      "/Users/jysumac/miniforge3/envs/spaceflow/lib/python3.11/site-packages/scanpy/preprocessing/_highly_variable_genes.py:220: FutureWarning: The default of observed=False is deprecated and will be changed to True in a future version of pandas. Pass observed=False to retain current behavior or observed=True to adopt the future default and silence this warning.\n",
      "/Users/jysumac/miniforge3/envs/spaceflow/lib/python3.11/site-packages/scanpy/preprocessing/_highly_variable_genes.py:252: FutureWarning: The default of observed=False is deprecated and will be changed to True in a future version of pandas. Pass observed=False to retain current behavior or observed=True to adopt the future default and silence this warning.\n"
     ]
    },
    {
     "name": "stdout",
     "output_type": "stream",
     "text": [
      "Epoch 2/1000, Loss: 2.3402934074401855\n",
      "Epoch 12/1000, Loss: 1.5016058683395386\n",
      "Epoch 22/1000, Loss: 1.445305585861206\n",
      "Epoch 32/1000, Loss: 1.4310786724090576\n",
      "Epoch 42/1000, Loss: 1.407442569732666\n",
      "Epoch 52/1000, Loss: 1.3547266721725464\n",
      "Epoch 62/1000, Loss: 1.2293221950531006\n",
      "Epoch 72/1000, Loss: 1.0161000490188599\n",
      "Epoch 82/1000, Loss: 0.7248757481575012\n",
      "Epoch 92/1000, Loss: 0.4938211441040039\n",
      "Epoch 102/1000, Loss: 0.369708776473999\n",
      "Epoch 112/1000, Loss: 0.2719072103500366\n",
      "Epoch 122/1000, Loss: 0.2391556054353714\n",
      "Epoch 132/1000, Loss: 0.19419953227043152\n",
      "Epoch 142/1000, Loss: 0.17319908738136292\n",
      "Epoch 152/1000, Loss: 0.13199929893016815\n",
      "Epoch 162/1000, Loss: 0.14609156548976898\n",
      "Epoch 172/1000, Loss: 0.1376705914735794\n",
      "Epoch 182/1000, Loss: 0.11486108601093292\n",
      "Epoch 192/1000, Loss: 0.11276265978813171\n",
      "Epoch 202/1000, Loss: 0.10687883198261261\n",
      "Epoch 212/1000, Loss: 0.0982494056224823\n",
      "Epoch 222/1000, Loss: 0.08924566209316254\n",
      "Epoch 232/1000, Loss: 0.09679598361253738\n",
      "Epoch 242/1000, Loss: 0.08914941549301147\n",
      "Epoch 252/1000, Loss: 0.08429105579853058\n",
      "Epoch 262/1000, Loss: 0.10259754955768585\n",
      "Epoch 272/1000, Loss: 0.0803617462515831\n",
      "Epoch 282/1000, Loss: 0.09354995936155319\n",
      "Epoch 292/1000, Loss: 0.07835623621940613\n",
      "Epoch 302/1000, Loss: 0.07268498837947845\n",
      "Epoch 312/1000, Loss: 0.09445993602275848\n",
      "Epoch 322/1000, Loss: 0.08102676272392273\n",
      "Epoch 332/1000, Loss: 0.06625910848379135\n",
      "Epoch 342/1000, Loss: 0.074739471077919\n",
      "Epoch 352/1000, Loss: 0.06595892459154129\n",
      "Epoch 362/1000, Loss: 0.06366534531116486\n",
      "Epoch 372/1000, Loss: 0.06774777173995972\n",
      "Epoch 382/1000, Loss: 0.07187071442604065\n",
      "Epoch 392/1000, Loss: 0.06797678768634796\n",
      "Epoch 402/1000, Loss: 0.059963300824165344\n",
      "Epoch 412/1000, Loss: 0.0639742985367775\n",
      "Epoch 422/1000, Loss: 0.0691540464758873\n",
      "Epoch 432/1000, Loss: 0.0701068714261055\n",
      "Epoch 442/1000, Loss: 0.055951084941625595\n",
      "Epoch 452/1000, Loss: 0.060860030353069305\n",
      "Epoch 462/1000, Loss: 0.05684526637196541\n",
      "Training complete!\n",
      "Embedding is saved at /Users/jysumac/Projects/Smoother_paper/results/dlpfc_dr_benchmark/SpaceFlow//151670_SF.tsv\n",
      "WARNING: adata.X seems to be already log-transformed.\n"
     ]
    },
    {
     "name": "stderr",
     "output_type": "stream",
     "text": [
      "/Users/jysumac/miniforge3/envs/spaceflow/lib/python3.11/site-packages/scanpy/preprocessing/_highly_variable_genes.py:220: FutureWarning: The default of observed=False is deprecated and will be changed to True in a future version of pandas. Pass observed=False to retain current behavior or observed=True to adopt the future default and silence this warning.\n",
      "/Users/jysumac/miniforge3/envs/spaceflow/lib/python3.11/site-packages/scanpy/preprocessing/_highly_variable_genes.py:252: FutureWarning: The default of observed=False is deprecated and will be changed to True in a future version of pandas. Pass observed=False to retain current behavior or observed=True to adopt the future default and silence this warning.\n"
     ]
    },
    {
     "name": "stdout",
     "output_type": "stream",
     "text": [
      "Epoch 2/1000, Loss: 2.2078158855438232\n",
      "Epoch 12/1000, Loss: 1.4466577768325806\n",
      "Epoch 22/1000, Loss: 1.4542242288589478\n",
      "Epoch 32/1000, Loss: 1.4408318996429443\n",
      "Epoch 42/1000, Loss: 1.4304407835006714\n",
      "Epoch 52/1000, Loss: 1.4146246910095215\n",
      "Epoch 62/1000, Loss: 1.3811559677124023\n",
      "Epoch 72/1000, Loss: 1.3004448413848877\n",
      "Epoch 82/1000, Loss: 1.1657897233963013\n",
      "Epoch 92/1000, Loss: 0.9839195013046265\n",
      "Epoch 102/1000, Loss: 0.7977473139762878\n",
      "Epoch 112/1000, Loss: 0.6478927135467529\n",
      "Epoch 122/1000, Loss: 0.5174151659011841\n",
      "Epoch 132/1000, Loss: 0.42035597562789917\n",
      "Epoch 142/1000, Loss: 0.3210117220878601\n",
      "Epoch 152/1000, Loss: 0.32366710901260376\n",
      "Epoch 162/1000, Loss: 0.2567206919193268\n",
      "Epoch 172/1000, Loss: 0.2226628065109253\n",
      "Epoch 182/1000, Loss: 0.2287103235721588\n",
      "Epoch 192/1000, Loss: 0.19785882532596588\n",
      "Epoch 202/1000, Loss: 0.18571355938911438\n",
      "Epoch 212/1000, Loss: 0.1707080453634262\n",
      "Epoch 222/1000, Loss: 0.15338942408561707\n",
      "Epoch 232/1000, Loss: 0.15680839121341705\n",
      "Epoch 242/1000, Loss: 0.1441880762577057\n",
      "Epoch 252/1000, Loss: 0.12993237376213074\n",
      "Epoch 262/1000, Loss: 0.11441554129123688\n",
      "Epoch 272/1000, Loss: 0.10638752579689026\n",
      "Epoch 282/1000, Loss: 0.13902677595615387\n",
      "Epoch 292/1000, Loss: 0.13424110412597656\n",
      "Epoch 302/1000, Loss: 0.10323721915483475\n",
      "Epoch 312/1000, Loss: 0.11387620866298676\n",
      "Epoch 322/1000, Loss: 0.10551819205284119\n",
      "Epoch 332/1000, Loss: 0.10136561095714569\n",
      "Epoch 342/1000, Loss: 0.09089654684066772\n",
      "Epoch 352/1000, Loss: 0.08260304480791092\n",
      "Epoch 362/1000, Loss: 0.07556305825710297\n",
      "Epoch 372/1000, Loss: 0.08768650889396667\n",
      "Epoch 382/1000, Loss: 0.07452724874019623\n",
      "Epoch 392/1000, Loss: 0.1012822762131691\n",
      "Epoch 402/1000, Loss: 0.07837867736816406\n",
      "Epoch 412/1000, Loss: 0.06685716658830643\n",
      "Epoch 422/1000, Loss: 0.07992888242006302\n",
      "Epoch 432/1000, Loss: 0.07509344071149826\n",
      "Epoch 442/1000, Loss: 0.0740465447306633\n",
      "Epoch 452/1000, Loss: 0.070685014128685\n",
      "Epoch 462/1000, Loss: 0.06803833693265915\n",
      "Epoch 472/1000, Loss: 0.07159461826086044\n",
      "Epoch 482/1000, Loss: 0.06710892170667648\n",
      "Epoch 492/1000, Loss: 0.08078321814537048\n",
      "Epoch 502/1000, Loss: 0.07154864817857742\n",
      "Epoch 512/1000, Loss: 0.06023924797773361\n",
      "Epoch 522/1000, Loss: 0.056340839713811874\n",
      "Epoch 532/1000, Loss: 0.07235393673181534\n",
      "Epoch 542/1000, Loss: 0.05968085676431656\n",
      "Epoch 552/1000, Loss: 0.05811811983585358\n",
      "Epoch 562/1000, Loss: 0.05888428911566734\n",
      "Epoch 572/1000, Loss: 0.05568304285407066\n",
      "Training complete!\n",
      "Embedding is saved at /Users/jysumac/Projects/Smoother_paper/results/dlpfc_dr_benchmark/SpaceFlow//151671_SF.tsv\n",
      "WARNING: adata.X seems to be already log-transformed.\n"
     ]
    },
    {
     "name": "stderr",
     "output_type": "stream",
     "text": [
      "/Users/jysumac/miniforge3/envs/spaceflow/lib/python3.11/site-packages/scanpy/preprocessing/_highly_variable_genes.py:220: FutureWarning: The default of observed=False is deprecated and will be changed to True in a future version of pandas. Pass observed=False to retain current behavior or observed=True to adopt the future default and silence this warning.\n",
      "/Users/jysumac/miniforge3/envs/spaceflow/lib/python3.11/site-packages/scanpy/preprocessing/_highly_variable_genes.py:252: FutureWarning: The default of observed=False is deprecated and will be changed to True in a future version of pandas. Pass observed=False to retain current behavior or observed=True to adopt the future default and silence this warning.\n"
     ]
    },
    {
     "name": "stdout",
     "output_type": "stream",
     "text": [
      "Epoch 2/1000, Loss: 2.0795981884002686\n",
      "Epoch 12/1000, Loss: 1.468524694442749\n",
      "Epoch 22/1000, Loss: 1.4429574012756348\n",
      "Epoch 32/1000, Loss: 1.426553726196289\n",
      "Epoch 42/1000, Loss: 1.393405795097351\n",
      "Epoch 52/1000, Loss: 1.3230032920837402\n",
      "Epoch 62/1000, Loss: 1.151716709136963\n",
      "Epoch 72/1000, Loss: 0.8949852585792542\n",
      "Epoch 82/1000, Loss: 0.6307831406593323\n",
      "Epoch 92/1000, Loss: 0.4073927402496338\n",
      "Epoch 102/1000, Loss: 0.2532229721546173\n",
      "Epoch 112/1000, Loss: 0.16948804259300232\n",
      "Epoch 122/1000, Loss: 0.1174645870923996\n",
      "Epoch 132/1000, Loss: 0.11871236562728882\n",
      "Epoch 142/1000, Loss: 0.08437305688858032\n",
      "Epoch 152/1000, Loss: 0.07921986281871796\n",
      "Epoch 162/1000, Loss: 0.07315903902053833\n",
      "Epoch 172/1000, Loss: 0.07828354835510254\n",
      "Epoch 182/1000, Loss: 0.07049232721328735\n",
      "Epoch 192/1000, Loss: 0.06759121268987656\n",
      "Epoch 202/1000, Loss: 0.06573677808046341\n",
      "Epoch 212/1000, Loss: 0.06229483336210251\n",
      "Epoch 222/1000, Loss: 0.06256894767284393\n",
      "Epoch 232/1000, Loss: 0.06042874604463577\n",
      "Epoch 242/1000, Loss: 0.05422814562916756\n",
      "Epoch 252/1000, Loss: 0.05518493801355362\n",
      "Epoch 262/1000, Loss: 0.06774990260601044\n",
      "Epoch 272/1000, Loss: 0.05183377489447594\n",
      "Epoch 282/1000, Loss: 0.04960331320762634\n",
      "Epoch 292/1000, Loss: 0.05448968708515167\n",
      "Epoch 302/1000, Loss: 0.04803752154111862\n",
      "Epoch 312/1000, Loss: 0.04707718640565872\n",
      "Epoch 322/1000, Loss: 0.047854289412498474\n",
      "Epoch 332/1000, Loss: 0.04243135452270508\n",
      "Epoch 342/1000, Loss: 0.04345735162496567\n",
      "Epoch 352/1000, Loss: 0.044006459414958954\n",
      "Epoch 362/1000, Loss: 0.0737958550453186\n",
      "Epoch 372/1000, Loss: 0.04395497590303421\n",
      "Epoch 382/1000, Loss: 0.0467580184340477\n",
      "Epoch 392/1000, Loss: 0.0424821600317955\n",
      "Epoch 402/1000, Loss: 0.04495014250278473\n",
      "Epoch 412/1000, Loss: 0.04224637150764465\n",
      "Epoch 422/1000, Loss: 0.04554038494825363\n",
      "Epoch 432/1000, Loss: 0.047678593546152115\n",
      "Training complete!\n",
      "Embedding is saved at /Users/jysumac/Projects/Smoother_paper/results/dlpfc_dr_benchmark/SpaceFlow//151672_SF.tsv\n",
      "WARNING: adata.X seems to be already log-transformed.\n"
     ]
    },
    {
     "name": "stderr",
     "output_type": "stream",
     "text": [
      "/Users/jysumac/miniforge3/envs/spaceflow/lib/python3.11/site-packages/scanpy/preprocessing/_highly_variable_genes.py:220: FutureWarning: The default of observed=False is deprecated and will be changed to True in a future version of pandas. Pass observed=False to retain current behavior or observed=True to adopt the future default and silence this warning.\n",
      "/Users/jysumac/miniforge3/envs/spaceflow/lib/python3.11/site-packages/scanpy/preprocessing/_highly_variable_genes.py:252: FutureWarning: The default of observed=False is deprecated and will be changed to True in a future version of pandas. Pass observed=False to retain current behavior or observed=True to adopt the future default and silence this warning.\n"
     ]
    },
    {
     "name": "stdout",
     "output_type": "stream",
     "text": [
      "Epoch 2/1000, Loss: 1.8778444528579712\n",
      "Epoch 12/1000, Loss: 1.4498140811920166\n",
      "Epoch 22/1000, Loss: 1.4146782159805298\n",
      "Epoch 32/1000, Loss: 1.3443502187728882\n",
      "Epoch 42/1000, Loss: 1.1714112758636475\n",
      "Epoch 52/1000, Loss: 0.9019890427589417\n",
      "Epoch 62/1000, Loss: 0.6462585926055908\n",
      "Epoch 72/1000, Loss: 0.4407001733779907\n",
      "Epoch 82/1000, Loss: 0.3312920331954956\n",
      "Epoch 92/1000, Loss: 0.24291934072971344\n",
      "Epoch 102/1000, Loss: 0.17142526805400848\n",
      "Epoch 112/1000, Loss: 0.17585116624832153\n",
      "Epoch 122/1000, Loss: 0.15743474662303925\n",
      "Epoch 132/1000, Loss: 0.17818279564380646\n",
      "Epoch 142/1000, Loss: 0.16261978447437286\n",
      "Epoch 152/1000, Loss: 0.1294536292552948\n",
      "Epoch 162/1000, Loss: 0.1283448338508606\n",
      "Epoch 172/1000, Loss: 0.1060393899679184\n",
      "Epoch 182/1000, Loss: 0.12627150118350983\n",
      "Epoch 192/1000, Loss: 0.10367141664028168\n",
      "Epoch 202/1000, Loss: 0.10850800573825836\n",
      "Epoch 212/1000, Loss: 0.09791550785303116\n",
      "Epoch 222/1000, Loss: 0.07995538413524628\n",
      "Epoch 232/1000, Loss: 0.07652889937162399\n",
      "Epoch 242/1000, Loss: 0.06902536749839783\n",
      "Epoch 252/1000, Loss: 0.08554522693157196\n",
      "Epoch 262/1000, Loss: 0.07865370810031891\n",
      "Epoch 272/1000, Loss: 0.07510663568973541\n",
      "Epoch 282/1000, Loss: 0.0838320329785347\n",
      "Epoch 292/1000, Loss: 0.08897390961647034\n",
      "Epoch 302/1000, Loss: 0.07336001843214035\n",
      "Epoch 312/1000, Loss: 0.07100017368793488\n",
      "Epoch 322/1000, Loss: 0.07353673130273819\n",
      "Epoch 332/1000, Loss: 0.06773826479911804\n",
      "Epoch 342/1000, Loss: 0.07504598796367645\n",
      "Epoch 352/1000, Loss: 0.06622986495494843\n",
      "Epoch 362/1000, Loss: 0.05884157121181488\n",
      "Epoch 372/1000, Loss: 0.08054207265377045\n",
      "Epoch 382/1000, Loss: 0.06724415719509125\n",
      "Epoch 392/1000, Loss: 0.06434407085180283\n",
      "Epoch 402/1000, Loss: 0.07040995359420776\n",
      "Epoch 412/1000, Loss: 0.05662621185183525\n",
      "Epoch 422/1000, Loss: 0.051434822380542755\n",
      "Epoch 432/1000, Loss: 0.05873362720012665\n",
      "Epoch 442/1000, Loss: 0.055849283933639526\n",
      "Epoch 452/1000, Loss: 0.06341472268104553\n",
      "Epoch 462/1000, Loss: 0.06120070815086365\n",
      "Epoch 472/1000, Loss: 0.058331914246082306\n",
      "Epoch 482/1000, Loss: 0.05754454433917999\n",
      "Epoch 492/1000, Loss: 0.07364736497402191\n",
      "Epoch 502/1000, Loss: 0.07935166358947754\n",
      "Epoch 512/1000, Loss: 0.052449844777584076\n",
      "Epoch 522/1000, Loss: 0.04680168628692627\n",
      "Epoch 532/1000, Loss: 0.05711476132273674\n",
      "Epoch 542/1000, Loss: 0.04914700984954834\n",
      "Epoch 552/1000, Loss: 0.0553150549530983\n",
      "Epoch 562/1000, Loss: 0.05589558184146881\n",
      "Epoch 572/1000, Loss: 0.052106134593486786\n",
      "Epoch 582/1000, Loss: 0.04884965717792511\n",
      "Epoch 592/1000, Loss: 0.04253189265727997\n",
      "Epoch 602/1000, Loss: 0.04259005934000015\n",
      "Epoch 612/1000, Loss: 0.05008844658732414\n",
      "Epoch 622/1000, Loss: 0.054385628551244736\n",
      "Epoch 632/1000, Loss: 0.04543475806713104\n",
      "Training complete!\n",
      "Embedding is saved at /Users/jysumac/Projects/Smoother_paper/results/dlpfc_dr_benchmark/SpaceFlow//151673_SF.tsv\n",
      "WARNING: adata.X seems to be already log-transformed.\n"
     ]
    },
    {
     "name": "stderr",
     "output_type": "stream",
     "text": [
      "/Users/jysumac/miniforge3/envs/spaceflow/lib/python3.11/site-packages/scanpy/preprocessing/_highly_variable_genes.py:220: FutureWarning: The default of observed=False is deprecated and will be changed to True in a future version of pandas. Pass observed=False to retain current behavior or observed=True to adopt the future default and silence this warning.\n",
      "/Users/jysumac/miniforge3/envs/spaceflow/lib/python3.11/site-packages/scanpy/preprocessing/_highly_variable_genes.py:252: FutureWarning: The default of observed=False is deprecated and will be changed to True in a future version of pandas. Pass observed=False to retain current behavior or observed=True to adopt the future default and silence this warning.\n"
     ]
    },
    {
     "name": "stdout",
     "output_type": "stream",
     "text": [
      "Epoch 2/1000, Loss: 1.88808274269104\n",
      "Epoch 12/1000, Loss: 1.4660956859588623\n",
      "Epoch 22/1000, Loss: 1.4301097393035889\n",
      "Epoch 32/1000, Loss: 1.3694379329681396\n",
      "Epoch 42/1000, Loss: 1.2725536823272705\n",
      "Epoch 52/1000, Loss: 1.1097339391708374\n",
      "Epoch 62/1000, Loss: 0.8475713133811951\n",
      "Epoch 72/1000, Loss: 0.5589653253555298\n",
      "Epoch 82/1000, Loss: 0.40700218081474304\n",
      "Epoch 92/1000, Loss: 0.3641997277736664\n",
      "Epoch 102/1000, Loss: 0.2634202241897583\n",
      "Epoch 112/1000, Loss: 0.21399429440498352\n",
      "Epoch 122/1000, Loss: 0.22331687808036804\n",
      "Epoch 132/1000, Loss: 0.18345734477043152\n",
      "Epoch 142/1000, Loss: 0.1576979011297226\n",
      "Epoch 152/1000, Loss: 0.14460033178329468\n",
      "Epoch 162/1000, Loss: 0.13985958695411682\n",
      "Epoch 172/1000, Loss: 0.12109449505805969\n",
      "Epoch 182/1000, Loss: 0.1231086477637291\n",
      "Epoch 192/1000, Loss: 0.12443047761917114\n",
      "Epoch 202/1000, Loss: 0.10731244087219238\n",
      "Epoch 212/1000, Loss: 0.1184687614440918\n",
      "Epoch 222/1000, Loss: 0.11026473343372345\n",
      "Epoch 232/1000, Loss: 0.10539402067661285\n",
      "Epoch 242/1000, Loss: 0.09902983903884888\n",
      "Epoch 252/1000, Loss: 0.08284733444452286\n",
      "Epoch 262/1000, Loss: 0.09326159954071045\n",
      "Epoch 272/1000, Loss: 0.09515637159347534\n",
      "Epoch 282/1000, Loss: 0.08268813788890839\n",
      "Epoch 292/1000, Loss: 0.06640054285526276\n",
      "Epoch 302/1000, Loss: 0.0832258015871048\n",
      "Epoch 312/1000, Loss: 0.07996466755867004\n",
      "Epoch 322/1000, Loss: 0.07474508881568909\n",
      "Epoch 332/1000, Loss: 0.06538209319114685\n",
      "Epoch 342/1000, Loss: 0.0668468028306961\n",
      "Epoch 352/1000, Loss: 0.06355581432580948\n",
      "Epoch 362/1000, Loss: 0.06515344977378845\n",
      "Epoch 372/1000, Loss: 0.06893017888069153\n",
      "Epoch 382/1000, Loss: 0.06450442969799042\n",
      "Epoch 392/1000, Loss: 0.06607738137245178\n",
      "Epoch 402/1000, Loss: 0.06883261352777481\n",
      "Epoch 412/1000, Loss: 0.05880754441022873\n",
      "Epoch 422/1000, Loss: 0.07203036546707153\n",
      "Epoch 432/1000, Loss: 0.06419487297534943\n",
      "Epoch 442/1000, Loss: 0.06316782534122467\n",
      "Epoch 452/1000, Loss: 0.05301675945520401\n",
      "Epoch 462/1000, Loss: 0.05341140180826187\n",
      "Epoch 472/1000, Loss: 0.0633777379989624\n",
      "Epoch 482/1000, Loss: 0.04849923402070999\n",
      "Epoch 492/1000, Loss: 0.057805631309747696\n",
      "Epoch 502/1000, Loss: 0.05149916559457779\n",
      "Epoch 512/1000, Loss: 0.0530901737511158\n",
      "Epoch 522/1000, Loss: 0.05540649965405464\n",
      "Epoch 532/1000, Loss: 0.05012021213769913\n",
      "Epoch 542/1000, Loss: 0.04710981249809265\n",
      "Epoch 552/1000, Loss: 0.044778984040021896\n",
      "Epoch 562/1000, Loss: 0.048724446445703506\n",
      "Epoch 572/1000, Loss: 0.052242156118154526\n",
      "Epoch 582/1000, Loss: 0.0556076318025589\n",
      "Epoch 592/1000, Loss: 0.04387582093477249\n",
      "Epoch 602/1000, Loss: 0.04387886822223663\n",
      "Epoch 612/1000, Loss: 0.045315295457839966\n",
      "Epoch 622/1000, Loss: 0.04256666079163551\n",
      "Epoch 632/1000, Loss: 0.047402411699295044\n",
      "Epoch 642/1000, Loss: 0.04611150175333023\n",
      "Epoch 652/1000, Loss: 0.05128208175301552\n",
      "Epoch 662/1000, Loss: 0.05691608786582947\n",
      "Epoch 672/1000, Loss: 0.04348475858569145\n",
      "Epoch 682/1000, Loss: 0.04344884306192398\n",
      "Epoch 692/1000, Loss: 0.044334523379802704\n",
      "Epoch 702/1000, Loss: 0.04510732740163803\n",
      "Epoch 712/1000, Loss: 0.047097787261009216\n",
      "Epoch 722/1000, Loss: 0.04140840843319893\n",
      "Epoch 732/1000, Loss: 0.042183805257081985\n",
      "Epoch 742/1000, Loss: 0.0382428802549839\n",
      "Epoch 752/1000, Loss: 0.0473625585436821\n",
      "Epoch 762/1000, Loss: 0.04604512080550194\n",
      "Epoch 772/1000, Loss: 0.03858589008450508\n",
      "Epoch 782/1000, Loss: 0.03967299312353134\n",
      "Epoch 792/1000, Loss: 0.049122460186481476\n",
      "Epoch 802/1000, Loss: 0.04604224115610123\n",
      "Epoch 812/1000, Loss: 0.04287070035934448\n",
      "Epoch 822/1000, Loss: 0.0393495075404644\n",
      "Epoch 832/1000, Loss: 0.04209542274475098\n",
      "Epoch 842/1000, Loss: 0.042022496461868286\n",
      "Epoch 852/1000, Loss: 0.03602266684174538\n",
      "Epoch 862/1000, Loss: 0.044292110949754715\n",
      "Epoch 872/1000, Loss: 0.03645044565200806\n",
      "Epoch 882/1000, Loss: 0.03595149889588356\n",
      "Training complete!\n",
      "Embedding is saved at /Users/jysumac/Projects/Smoother_paper/results/dlpfc_dr_benchmark/SpaceFlow//151674_SF.tsv\n",
      "WARNING: adata.X seems to be already log-transformed.\n"
     ]
    },
    {
     "name": "stderr",
     "output_type": "stream",
     "text": [
      "/Users/jysumac/miniforge3/envs/spaceflow/lib/python3.11/site-packages/scanpy/preprocessing/_highly_variable_genes.py:220: FutureWarning: The default of observed=False is deprecated and will be changed to True in a future version of pandas. Pass observed=False to retain current behavior or observed=True to adopt the future default and silence this warning.\n",
      "/Users/jysumac/miniforge3/envs/spaceflow/lib/python3.11/site-packages/scanpy/preprocessing/_highly_variable_genes.py:252: FutureWarning: The default of observed=False is deprecated and will be changed to True in a future version of pandas. Pass observed=False to retain current behavior or observed=True to adopt the future default and silence this warning.\n"
     ]
    },
    {
     "name": "stdout",
     "output_type": "stream",
     "text": [
      "Epoch 2/1000, Loss: 1.919999599456787\n",
      "Epoch 12/1000, Loss: 1.4343879222869873\n",
      "Epoch 22/1000, Loss: 1.4184194803237915\n",
      "Epoch 32/1000, Loss: 1.3377649784088135\n",
      "Epoch 42/1000, Loss: 1.1592707633972168\n",
      "Epoch 52/1000, Loss: 0.8737303018569946\n",
      "Epoch 62/1000, Loss: 0.6205737590789795\n",
      "Epoch 72/1000, Loss: 0.4513896703720093\n",
      "Epoch 82/1000, Loss: 0.3399542570114136\n",
      "Epoch 92/1000, Loss: 0.2917030155658722\n",
      "Epoch 102/1000, Loss: 0.23762625455856323\n",
      "Epoch 112/1000, Loss: 0.19637608528137207\n",
      "Epoch 122/1000, Loss: 0.1680847853422165\n",
      "Epoch 132/1000, Loss: 0.131228968501091\n",
      "Epoch 142/1000, Loss: 0.13853323459625244\n",
      "Epoch 152/1000, Loss: 0.12415376305580139\n",
      "Epoch 162/1000, Loss: 0.11364085972309113\n",
      "Epoch 172/1000, Loss: 0.12916237115859985\n",
      "Epoch 182/1000, Loss: 0.106711246073246\n",
      "Epoch 192/1000, Loss: 0.08578892052173615\n",
      "Epoch 202/1000, Loss: 0.08804425597190857\n",
      "Epoch 212/1000, Loss: 0.09225010871887207\n",
      "Epoch 222/1000, Loss: 0.08354932069778442\n",
      "Epoch 232/1000, Loss: 0.07516074180603027\n",
      "Epoch 242/1000, Loss: 0.06873275339603424\n",
      "Epoch 252/1000, Loss: 0.07077603042125702\n",
      "Epoch 262/1000, Loss: 0.06517168134450912\n",
      "Epoch 272/1000, Loss: 0.06800874322652817\n",
      "Epoch 282/1000, Loss: 0.06449263542890549\n",
      "Epoch 292/1000, Loss: 0.062315747141838074\n",
      "Epoch 302/1000, Loss: 0.06504343450069427\n",
      "Epoch 312/1000, Loss: 0.06198684498667717\n",
      "Epoch 322/1000, Loss: 0.0823281779885292\n",
      "Epoch 332/1000, Loss: 0.06004274636507034\n",
      "Epoch 342/1000, Loss: 0.05623062700033188\n",
      "Epoch 352/1000, Loss: 0.06025572493672371\n",
      "Epoch 362/1000, Loss: 0.05781746655702591\n",
      "Epoch 372/1000, Loss: 0.05492294579744339\n",
      "Epoch 382/1000, Loss: 0.049061328172683716\n",
      "Epoch 392/1000, Loss: 0.05494000017642975\n",
      "Epoch 402/1000, Loss: 0.04747217893600464\n",
      "Epoch 412/1000, Loss: 0.052023064345121384\n",
      "Epoch 422/1000, Loss: 0.0467996746301651\n",
      "Epoch 432/1000, Loss: 0.05621819943189621\n",
      "Epoch 442/1000, Loss: 0.05128876492381096\n",
      "Epoch 452/1000, Loss: 0.047929223626852036\n",
      "Epoch 462/1000, Loss: 0.04430786147713661\n",
      "Epoch 472/1000, Loss: 0.05298411846160889\n",
      "Epoch 482/1000, Loss: 0.04246401786804199\n",
      "Epoch 492/1000, Loss: 0.04320833086967468\n",
      "Epoch 502/1000, Loss: 0.043585874140262604\n",
      "Epoch 512/1000, Loss: 0.04196624830365181\n",
      "Epoch 522/1000, Loss: 0.04476955533027649\n",
      "Epoch 532/1000, Loss: 0.048044100403785706\n",
      "Epoch 542/1000, Loss: 0.04048667103052139\n",
      "Epoch 552/1000, Loss: 0.0448145866394043\n",
      "Epoch 562/1000, Loss: 0.038758210837841034\n",
      "Epoch 572/1000, Loss: 0.04071473330259323\n",
      "Epoch 582/1000, Loss: 0.03989528864622116\n",
      "Epoch 592/1000, Loss: 0.04184278845787048\n",
      "Epoch 602/1000, Loss: 0.04420236498117447\n",
      "Epoch 612/1000, Loss: 0.036838605999946594\n",
      "Epoch 622/1000, Loss: 0.039702847599983215\n",
      "Epoch 632/1000, Loss: 0.04215472191572189\n",
      "Epoch 642/1000, Loss: 0.03762051463127136\n",
      "Epoch 652/1000, Loss: 0.035158876329660416\n",
      "Epoch 662/1000, Loss: 0.04497266560792923\n",
      "Epoch 672/1000, Loss: 0.03942485526204109\n",
      "Epoch 682/1000, Loss: 0.03708852827548981\n",
      "Epoch 692/1000, Loss: 0.03759168088436127\n",
      "Epoch 702/1000, Loss: 0.036585111171007156\n",
      "Training complete!\n",
      "Embedding is saved at /Users/jysumac/Projects/Smoother_paper/results/dlpfc_dr_benchmark/SpaceFlow//151675_SF.tsv\n",
      "WARNING: adata.X seems to be already log-transformed.\n"
     ]
    },
    {
     "name": "stderr",
     "output_type": "stream",
     "text": [
      "/Users/jysumac/miniforge3/envs/spaceflow/lib/python3.11/site-packages/scanpy/preprocessing/_highly_variable_genes.py:220: FutureWarning: The default of observed=False is deprecated and will be changed to True in a future version of pandas. Pass observed=False to retain current behavior or observed=True to adopt the future default and silence this warning.\n",
      "/Users/jysumac/miniforge3/envs/spaceflow/lib/python3.11/site-packages/scanpy/preprocessing/_highly_variable_genes.py:252: FutureWarning: The default of observed=False is deprecated and will be changed to True in a future version of pandas. Pass observed=False to retain current behavior or observed=True to adopt the future default and silence this warning.\n"
     ]
    },
    {
     "name": "stdout",
     "output_type": "stream",
     "text": [
      "Epoch 2/1000, Loss: 2.1587324142456055\n",
      "Epoch 12/1000, Loss: 1.4624686241149902\n",
      "Epoch 22/1000, Loss: 1.4348002672195435\n",
      "Epoch 32/1000, Loss: 1.417667269706726\n",
      "Epoch 42/1000, Loss: 1.3477839231491089\n",
      "Epoch 52/1000, Loss: 1.1372426748275757\n",
      "Epoch 62/1000, Loss: 0.8684519529342651\n",
      "Epoch 72/1000, Loss: 0.6640499830245972\n",
      "Epoch 82/1000, Loss: 0.5111116170883179\n",
      "Epoch 92/1000, Loss: 0.41769927740097046\n",
      "Epoch 102/1000, Loss: 0.3702600598335266\n",
      "Epoch 112/1000, Loss: 0.32832229137420654\n",
      "Epoch 122/1000, Loss: 0.3020796775817871\n",
      "Epoch 132/1000, Loss: 0.26519691944122314\n",
      "Epoch 142/1000, Loss: 0.2582240104675293\n",
      "Epoch 152/1000, Loss: 0.23137247562408447\n",
      "Epoch 162/1000, Loss: 0.24806120991706848\n",
      "Epoch 172/1000, Loss: 0.18527433276176453\n",
      "Epoch 182/1000, Loss: 0.17257250845432281\n",
      "Epoch 192/1000, Loss: 0.17003853619098663\n",
      "Epoch 202/1000, Loss: 0.15459522604942322\n",
      "Epoch 212/1000, Loss: 0.14627540111541748\n",
      "Epoch 222/1000, Loss: 0.16596215963363647\n",
      "Epoch 232/1000, Loss: 0.16067761182785034\n",
      "Epoch 242/1000, Loss: 0.14949475228786469\n",
      "Epoch 252/1000, Loss: 0.12598839402198792\n",
      "Epoch 262/1000, Loss: 0.12859028577804565\n",
      "Epoch 272/1000, Loss: 0.11154789477586746\n",
      "Epoch 282/1000, Loss: 0.10829590260982513\n",
      "Epoch 292/1000, Loss: 0.11233527958393097\n",
      "Epoch 302/1000, Loss: 0.10177668929100037\n",
      "Epoch 312/1000, Loss: 0.10058857500553131\n",
      "Epoch 322/1000, Loss: 0.08998848497867584\n",
      "Epoch 332/1000, Loss: 0.09652000665664673\n",
      "Epoch 342/1000, Loss: 0.09259441494941711\n",
      "Epoch 352/1000, Loss: 0.09556633234024048\n",
      "Epoch 362/1000, Loss: 0.09934303164482117\n",
      "Epoch 372/1000, Loss: 0.09216217696666718\n",
      "Epoch 382/1000, Loss: 0.1011238545179367\n",
      "Epoch 392/1000, Loss: 0.08057089149951935\n",
      "Epoch 402/1000, Loss: 0.0793217271566391\n",
      "Epoch 412/1000, Loss: 0.09223169088363647\n",
      "Epoch 422/1000, Loss: 0.0726938247680664\n",
      "Epoch 432/1000, Loss: 0.07406385242938995\n",
      "Epoch 442/1000, Loss: 0.08241330832242966\n",
      "Epoch 452/1000, Loss: 0.0698942169547081\n",
      "Epoch 462/1000, Loss: 0.06880989670753479\n",
      "Epoch 472/1000, Loss: 0.07173334062099457\n",
      "Epoch 482/1000, Loss: 0.07147209346294403\n",
      "Epoch 492/1000, Loss: 0.07208991050720215\n",
      "Epoch 502/1000, Loss: 0.06085383892059326\n",
      "Epoch 512/1000, Loss: 0.07403118908405304\n",
      "Epoch 522/1000, Loss: 0.06932611763477325\n",
      "Epoch 532/1000, Loss: 0.07125027477741241\n",
      "Epoch 542/1000, Loss: 0.06812269985675812\n",
      "Epoch 552/1000, Loss: 0.05736042186617851\n",
      "Epoch 562/1000, Loss: 0.06948914378881454\n",
      "Epoch 572/1000, Loss: 0.06049724668264389\n",
      "Epoch 582/1000, Loss: 0.05850420147180557\n",
      "Epoch 592/1000, Loss: 0.05481061339378357\n",
      "Epoch 602/1000, Loss: 0.08297900855541229\n",
      "Epoch 612/1000, Loss: 0.0527786947786808\n",
      "Epoch 622/1000, Loss: 0.05696363002061844\n",
      "Epoch 632/1000, Loss: 0.05312637984752655\n",
      "Epoch 642/1000, Loss: 0.04959546774625778\n",
      "Epoch 652/1000, Loss: 0.054482731968164444\n",
      "Epoch 662/1000, Loss: 0.05029746890068054\n",
      "Epoch 672/1000, Loss: 0.049152519553899765\n",
      "Epoch 682/1000, Loss: 0.05916514992713928\n",
      "Epoch 692/1000, Loss: 0.04506700485944748\n",
      "Epoch 702/1000, Loss: 0.04834999889135361\n",
      "Epoch 712/1000, Loss: 0.052094727754592896\n",
      "Epoch 722/1000, Loss: 0.06028351932764053\n",
      "Epoch 732/1000, Loss: 0.061264343559741974\n",
      "Epoch 742/1000, Loss: 0.04379810392856598\n",
      "Epoch 752/1000, Loss: 0.05572657659649849\n",
      "Training complete!\n",
      "Embedding is saved at /Users/jysumac/Projects/Smoother_paper/results/dlpfc_dr_benchmark/SpaceFlow//151676_SF.tsv\n"
     ]
    }
   ],
   "source": [
    "sample_ids = [\n",
    "    '151507', '151508', '151509', '151510',\n",
    "    '151669', '151670', '151671', '151672',\n",
    "    '151673', '151674', '151675', '151676'\n",
    "]\n",
    "\n",
    "for s in sample_ids:\n",
    "    run_sf(s)"
   ]
  },
  {
   "cell_type": "markdown",
   "id": "7b63b950-2f2b-440e-baeb-1e50f413510b",
   "metadata": {},
   "source": [
    "### Single sample"
   ]
  },
  {
   "cell_type": "code",
   "execution_count": null,
   "id": "e82fc858-f598-405b-94fb-db2535605914",
   "metadata": {},
   "outputs": [],
   "source": [
    "sf = SpaceFlow.SpaceFlow(\n",
    "    count_matrix=data.layers['raw'][:, data.var['highly_variable']], \n",
    "    spatial_locs=data.obsm['spatial'], \n",
    "    sample_names=data.obs_names, \n",
    "    gene_names=data.var_names[data.var['highly_variable']]\n",
    ")"
   ]
  },
  {
   "cell_type": "code",
   "execution_count": 6,
   "id": "a758e6ff-20f6-4f5d-a4bf-fce1160c37bd",
   "metadata": {},
   "outputs": [],
   "source": [
    "sf.preprocessing_data(n_top_genes=2000)"
   ]
  },
  {
   "cell_type": "code",
   "execution_count": 7,
   "id": "e6b42cee-712a-4014-8f9a-0a0dc9ab8d01",
   "metadata": {},
   "outputs": [
    {
     "name": "stdout",
     "output_type": "stream",
     "text": [
      "Epoch 2/1000, Loss: 1.9609780311584473\n",
      "Epoch 12/1000, Loss: 1.465325117111206\n",
      "Epoch 22/1000, Loss: 1.3650797605514526\n",
      "Epoch 32/1000, Loss: 1.1549931764602661\n",
      "Epoch 42/1000, Loss: 0.8530118465423584\n",
      "Epoch 52/1000, Loss: 0.6880756616592407\n",
      "Epoch 62/1000, Loss: 0.4796023368835449\n",
      "Epoch 72/1000, Loss: 0.3501858711242676\n",
      "Epoch 82/1000, Loss: 0.2991308569908142\n",
      "Epoch 92/1000, Loss: 0.2542029917240143\n",
      "Epoch 102/1000, Loss: 0.2531437277793884\n",
      "Epoch 112/1000, Loss: 0.19668105244636536\n",
      "Epoch 122/1000, Loss: 0.1804904043674469\n",
      "Epoch 132/1000, Loss: 0.1623860001564026\n",
      "Epoch 142/1000, Loss: 0.1359565556049347\n",
      "Epoch 152/1000, Loss: 0.15296657383441925\n",
      "Epoch 162/1000, Loss: 0.15870335698127747\n",
      "Epoch 172/1000, Loss: 0.14521771669387817\n",
      "Epoch 182/1000, Loss: 0.12205871939659119\n",
      "Epoch 192/1000, Loss: 0.11571556329727173\n",
      "Epoch 202/1000, Loss: 0.11800792068243027\n",
      "Epoch 212/1000, Loss: 0.10499162971973419\n",
      "Epoch 222/1000, Loss: 0.10214094817638397\n",
      "Epoch 232/1000, Loss: 0.09694376587867737\n",
      "Epoch 242/1000, Loss: 0.08517111092805862\n",
      "Epoch 252/1000, Loss: 0.08100013434886932\n",
      "Epoch 262/1000, Loss: 0.0922236517071724\n",
      "Epoch 272/1000, Loss: 0.07854512333869934\n",
      "Epoch 282/1000, Loss: 0.07668989896774292\n",
      "Epoch 292/1000, Loss: 0.09729965031147003\n",
      "Epoch 302/1000, Loss: 0.08012624830007553\n",
      "Epoch 312/1000, Loss: 0.08305603265762329\n",
      "Epoch 322/1000, Loss: 0.07091148942708969\n",
      "Epoch 332/1000, Loss: 0.06820419430732727\n",
      "Epoch 342/1000, Loss: 0.0650210753083229\n",
      "Epoch 352/1000, Loss: 0.06868907809257507\n",
      "Epoch 362/1000, Loss: 0.07168605923652649\n",
      "Epoch 372/1000, Loss: 0.0696960836648941\n",
      "Epoch 382/1000, Loss: 0.07428599894046783\n",
      "Epoch 392/1000, Loss: 0.062063880264759064\n",
      "Epoch 402/1000, Loss: 0.058123864233493805\n",
      "Epoch 412/1000, Loss: 0.058435700833797455\n",
      "Epoch 422/1000, Loss: 0.05447837710380554\n",
      "Epoch 432/1000, Loss: 0.0554945133626461\n",
      "Epoch 442/1000, Loss: 0.05782925337553024\n",
      "Epoch 452/1000, Loss: 0.0659445971250534\n",
      "Epoch 462/1000, Loss: 0.06566376984119415\n",
      "Epoch 472/1000, Loss: 0.05560019612312317\n",
      "Epoch 482/1000, Loss: 0.06289981305599213\n",
      "Epoch 492/1000, Loss: 0.06223393604159355\n",
      "Epoch 502/1000, Loss: 0.06535522639751434\n",
      "Epoch 512/1000, Loss: 0.06028836593031883\n",
      "Epoch 522/1000, Loss: 0.04867205396294594\n",
      "Training complete!\n",
      "Embedding is saved at ./embedding.tsv\n"
     ]
    },
    {
     "data": {
      "text/plain": [
       "array([[ 0.40622318,  0.759007  , -0.1551915 , ..., -0.23528509,\n",
       "        -0.7436271 , -0.31265238],\n",
       "       [ 0.20965548,  0.8709272 , -0.01599246, ..., -0.13048938,\n",
       "        -0.59620917, -0.28974512],\n",
       "       [-0.93475866, -0.61404014, -0.10620563, ..., -0.33813062,\n",
       "        -1.3262435 ,  4.265068  ],\n",
       "       ...,\n",
       "       [-0.6532748 , -0.24693206, -0.314526  , ..., -0.092858  ,\n",
       "        -1.1127105 ,  4.2974    ],\n",
       "       [-0.53117186, -0.28447324, -0.11420275, ...,  0.38446853,\n",
       "        -1.0040687 ,  4.0732846 ],\n",
       "       [-0.13778467,  0.28483298, -0.24053994, ..., -0.33145246,\n",
       "        -0.6418879 , -0.50159574]], dtype=float32)"
      ]
     },
     "execution_count": 7,
     "metadata": {},
     "output_type": "execute_result"
    }
   ],
   "source": [
    "sf.train(\n",
    "    spatial_regularization_strength=0.1, \n",
    "    z_dim=50, lr=1e-3, epochs=1000, max_patience=50, min_stop=100, random_seed=42, \n",
    "    gpu=0, regularization_acceleration=True, edge_subset_sz=1000000\n",
    ")"
   ]
  },
  {
   "cell_type": "code",
   "execution_count": 9,
   "id": "20e88a2f-4eb7-4d9b-895c-1206cedb54be",
   "metadata": {},
   "outputs": [
    {
     "data": {
      "text/plain": [
       "(3639, 50)"
      ]
     },
     "execution_count": 9,
     "metadata": {},
     "output_type": "execute_result"
    }
   ],
   "source": [
    "sf.embedding.shape"
   ]
  },
  {
   "cell_type": "code",
   "execution_count": null,
   "id": "ca709681-5fa1-42f3-90b9-ed5b17b5805f",
   "metadata": {},
   "outputs": [],
   "source": []
  }
 ],
 "metadata": {
  "kernelspec": {
   "display_name": "spaceflow",
   "language": "python",
   "name": "spaceflow"
  },
  "language_info": {
   "codemirror_mode": {
    "name": "ipython",
    "version": 3
   },
   "file_extension": ".py",
   "mimetype": "text/x-python",
   "name": "python",
   "nbconvert_exporter": "python",
   "pygments_lexer": "ipython3",
   "version": "3.11.6"
  }
 },
 "nbformat": 4,
 "nbformat_minor": 5
}
