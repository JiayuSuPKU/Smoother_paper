{
 "cells": [
  {
   "cell_type": "markdown",
   "id": "9155710e-d03d-42c0-b32e-67aaf8b46604",
   "metadata": {},
   "source": [
    "# Deconvolute spatial CUT&TAG data (Fig 3h-k)"
   ]
  },
  {
   "cell_type": "code",
   "execution_count": 1,
   "id": "59cbfd0b-2e84-4453-a84a-af480edca2c5",
   "metadata": {},
   "outputs": [],
   "source": [
    "from os import makedirs, mkdir, system\n",
    "import anndata as ad\n",
    "import matplotlib.pyplot as plt\n",
    "import numpy as np\n",
    "import pandas as pd\n",
    "import scanpy as sc\n",
    "import scipy as sp\n",
    "import torch\n",
    "from sys import argv\n",
    "import seaborn as sns\n",
    "from skbio.stats.composition import clr, ilr\n",
    "import smoother\n",
    "from smoother import SpatialWeightMatrix, SpatialLoss\n",
    "from smoother.models.deconv import LinearRegression, NNLS, NuSVR, DWLS, LogNormReg\n",
    "from smoother.visualization import cluster_features\n",
    "from matplotlib.colors import to_rgb, to_rgba"
   ]
  },
  {
   "cell_type": "markdown",
   "id": "845bd634-06c7-417b-a60e-ec4112b6e5d9",
   "metadata": {},
   "source": [
    "## Run NNLS deconvolution"
   ]
  },
  {
   "cell_type": "code",
   "execution_count": 2,
   "id": "88058985-da6b-4ad6-b788-d0d2f190a85b",
   "metadata": {},
   "outputs": [],
   "source": [
    "def plot_col_mean(sp_score, coords):\n",
    "    col_mean = [sp_score.mean(0)[coords.imagecol==col].mean() for col in coords.imagecol.unique()]\n",
    "    sns.lineplot(x=range(len(col_mean)), y=col_mean)\n",
    "    if sum(np.absolute(col_mean - np.mean(col_mean)) > 3*np.std(col_mean))>0:\n",
    "        idx = coords.imagecol.unique()[np.absolute(col_mean - np.mean(col_mean)) > 3*np.std(col_mean)]\n",
    "        print(\"Remove Column: {}\".format(idx))\n",
    "        return np.array(idx)\n",
    "    else:\n",
    "        return np.array([])\n",
    "    \n",
    "def plot_row_mean(sp_score, coords):\n",
    "    row_mean = [sp_score.mean(0)[coords.imagerow==row].mean() for row in coords.imagerow.unique()]\n",
    "    sns.lineplot(x=range(len(row_mean)), y=row_mean)\n",
    "    if sum(np.absolute(row_mean - np.mean(row_mean)) > 3*np.std(row_mean))>0:\n",
    "        idx = coords.imagerow.unique()[np.absolute(row_mean - np.mean(row_mean)) > 3*np.std(row_mean)]\n",
    "        print(\"Remove Row: {}\".format(idx)) \n",
    "        return np.array(idx)\n",
    "    else:\n",
    "        return np.array([])\n",
    "\n",
    "class RunDeconvNNLS():\n",
    "    def __init__(\n",
    "        self, \n",
    "        sample_name, num_genes,\n",
    "        data_dir = '/Users/jysumac/Projects/Smoother_paper/data/cutntag_processed/', \n",
    "        out_dir = '/Users/jysumac/Projects/Smoother_paper/results/embryo_cutntag/'\n",
    "    ):\n",
    "        self.data_dir = data_dir\n",
    "        self.output_dir = out_dir\n",
    "        self.sample_name = sample_name\n",
    "        self.num_genes = num_genes\n",
    "        self.coords, self.sp_score, self.ref_exp, self.ct_names = self.load_data()\n",
    "\n",
    "        self.model_names, self.p_inf_list = self.run_deconv()\n",
    "        self.save_deconv_results()\n",
    "\n",
    "    def load_data(self):\n",
    "\n",
    "        # spatial coordinates, num_spot x 2\n",
    "        coords = pd.read_csv(f\"{self.data_dir}/{self.sample_name}.coord.csv\", header=0, index_col=0)\n",
    "\n",
    "        # spatial gene activity scores (num_gene x num_spot)\n",
    "        sp_score = pd.read_csv(f\"{self.data_dir}/{self.sample_name}.var_gene_score.csv\", header=0, index_col=0)\n",
    "        \n",
    "        print(sp_score.std(1))\n",
    "\n",
    "        # single-cell derived reference count matrix, num_gene x num_celltype\n",
    "        ref_exp = pd.read_csv(self.data_dir + \"ref.all_genes.bycluster.csv\", header=0, index_col=0)\n",
    "\n",
    "        ct_names = np.array(ref_exp.columns)\n",
    "\n",
    "\n",
    "        # keep only shared genes\n",
    "        gene_names = sp_score.index.intersection(ref_exp.index)\n",
    "        sp_score = sp_score.loc[gene_names]\n",
    "        ref_exp = ref_exp.loc[gene_names,ct_names]\n",
    "\n",
    "        print(f\"Number of spots: {sp_score.shape[1]}\")\n",
    "        print(f\"Number of genes: {len(gene_names)}\")\n",
    "        print(f\"Number of celltypes: {len(ct_names)}\")\n",
    "\n",
    "        col_to_remove = plot_col_mean(sp_score, coords)\n",
    "        row_to_remove = plot_row_mean(sp_score, coords)\n",
    "\n",
    "        # filter out abnormal spots\n",
    "        keep_spots = ~(coords.imagerow.isin(row_to_remove))|(coords.imagecol.isin(col_to_remove))\n",
    "        sp_score = sp_score.loc[:, keep_spots]\n",
    "        coords = coords.loc[keep_spots,:]\n",
    "        keep_spots.to_csv(\n",
    "            f\"{self.data_dir}/{self.sample_name}.spotqc.csv\", header=False\n",
    "        )\n",
    "\n",
    "        print(f\"Number of spots after QC: {sp_score.shape[1]}\")\n",
    "\n",
    "        return coords, sp_score, ref_exp, ct_names\n",
    "\n",
    "    def run_deconv(self):\n",
    "        # convert data into torch tensor\n",
    "        x = torch.tensor(self.ref_exp.values).float()\n",
    "        y = torch.tensor(self.sp_score.values).float()\n",
    "        # calculate spatial weight matrix\n",
    "        weights = SpatialWeightMatrix()\n",
    "        weights.calc_weights_knn(self.coords, k=4)\n",
    "        weights.scale_by_expr(y)\n",
    "\n",
    "        # prepare spatial loss\n",
    "        spatial_loss = SpatialLoss('icar', weights, rho=0.99)\n",
    "\n",
    "\n",
    "        # ### Run deconvolution\n",
    "\n",
    "        # #### NNLS\n",
    "        torch.manual_seed(20220814)\n",
    "\n",
    "        deconv_configs = {'lr':3e-3, 'tol':1e-6, 'max_epochs':-1, 'verbose':False}\n",
    "        l_sp_list = [0, 1, 3, 10]\n",
    "        deconv_models = []\n",
    "        model_names = [f'nnls_sp{str(l_sp)}' for l_sp in l_sp_list]\n",
    "\n",
    "        # add NNLS models\n",
    "        for l_sp in l_sp_list:\n",
    "            model = NNLS()\n",
    "            model.deconv(x, y, spatial_loss=spatial_loss,\n",
    "                        lambda_spatial_loss=l_sp, **deconv_configs)\n",
    "            deconv_models.append(model)\n",
    "            \n",
    "        # extract estimated celltype abundances \n",
    "        p_inf_list = [m.get_props().numpy() for m in deconv_models]\n",
    "\n",
    "        return model_names, p_inf_list\n",
    "\n",
    "    def save_deconv_results(self):\n",
    "        res_dir = self.output_dir + '/nnls/'\n",
    "        makedirs(res_dir, exist_ok=True)\n",
    "        \n",
    "        for name, p_inf in zip(self.model_names, self.p_inf_list):\n",
    "            # save results\n",
    "            np.savetxt(f\"{res_dir}/{self.sample_name}_{name}.txt\", p_inf)"
   ]
  },
  {
   "cell_type": "code",
   "execution_count": 3,
   "id": "90ad48a4-998c-4b3b-973f-11d490bb4264",
   "metadata": {},
   "outputs": [
    {
     "name": "stdout",
     "output_type": "stream",
     "text": [
      "Mir124a-2        0.713334\n",
      "Mir9-3           0.688249\n",
      "C130071C03Rik    0.656610\n",
      "Mir124-2hg       0.627228\n",
      "Mir3078          0.612087\n",
      "                   ...   \n",
      "Nynrin           0.220535\n",
      "Lsm7             0.220498\n",
      "Fibin            0.220372\n",
      "Oip5             0.220199\n",
      "Stradb           0.219881\n",
      "Length: 500, dtype: float64\n",
      "Number of spots: 2122\n",
      "Number of genes: 430\n",
      "Number of celltypes: 37\n",
      "Remove Row: [1454 1476]\n",
      "Number of spots after QC: 2041\n",
      "Number of spots: 2041. Average number of neighbors per spot:  3.83.\n",
      "Number of spots: 2041. Average number of neighbors per spot:  3.83.\n",
      "=== Time  22.43s. Total epoch 5393. Final loss: (total) 0.171. (spatial) 0.000.\n",
      "=== Time  25.94s. Total epoch 5272. Final loss: (total) 0.172. (spatial) 0.001.\n",
      "=== Time  26.19s. Total epoch 5343. Final loss: (total) 0.173. (spatial) 0.002.\n",
      "=== Time  24.64s. Total epoch 5404. Final loss: (total) 0.174. (spatial) 0.003.\n"
     ]
    },
    {
     "data": {
      "image/png": "[encoded data removed]",
      "text/plain": [
       "<Figure size 640x480 with 1 Axes>"
      ]
     },
     "metadata": {},
     "output_type": "display_data"
    }
   ],
   "source": [
    "H3K4me3_50_top500 = RunDeconvNNLS(sample_name = 'H3K4me3.50um', num_genes=500)"
   ]
  },
  {
   "cell_type": "markdown",
   "id": "5375e196-9567-412e-980b-07e6fe7a9175",
   "metadata": {},
   "source": [
    "## Visualization (see fig_3h-k_generate_figures.ipynb)"
   ]
  }
 ],
 "metadata": {
  "jupytext": {
   "cell_metadata_filter": "-all",
   "formats": "ipynb"
  },
  "kernelspec": {
   "display_name": "smoother",
   "language": "python",
   "name": "smoother"
  },
  "language_info": {
   "codemirror_mode": {
    "name": "ipython",
    "version": 3
   },
   "file_extension": ".py",
   "mimetype": "text/x-python",
   "name": "python",
   "nbconvert_exporter": "python",
   "pygments_lexer": "ipython3",
   "version": "3.10.12"
  }
 },
 "nbformat": 4,
 "nbformat_minor": 5
}
