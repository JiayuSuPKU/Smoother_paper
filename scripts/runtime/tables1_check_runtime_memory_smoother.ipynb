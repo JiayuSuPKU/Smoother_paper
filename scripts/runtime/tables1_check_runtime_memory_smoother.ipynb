{
 "cells": [
  {
   "cell_type": "markdown",
   "id": "f2e437be-1cf6-45f8-9ee6-c0ee0238485b",
   "metadata": {},
   "source": [
    "# Benchmark the runtime of Smoother models on different datasets"
   ]
  },
  {
   "cell_type": "code",
   "execution_count": 1,
   "id": "bda6ee91-0efc-4110-93a5-6334638b19df",
   "metadata": {},
   "outputs": [],
   "source": [
    "import time\n",
    "import torch\n",
    "import numpy as np\n",
    "import pandas as pd\n",
    "import scipy\n",
    "\n",
    "from smoother import SpatialWeightMatrix, SpatialLoss\n",
    "from smoother.models.impute import ImputeTorch, ImputeConvex\n",
    "from smoother.models.deconv import NNLS, DWLS\n",
    "from smoother.models.reduction import SpatialVAE\n",
    "from smoother.simulation.utils import grouped_obs_mean\n",
    "\n",
    "import scanpy as sc\n",
    "\n",
    "%load_ext memory_profiler"
   ]
  },
  {
   "cell_type": "code",
   "execution_count": 2,
   "id": "73f630bc-1530-4d1d-9896-258f28c66c6f",
   "metadata": {},
   "outputs": [],
   "source": [
    "def sp_loss_construction(coords, y_expr):\n",
    "    weights = SpatialWeightMatrix()\n",
    "    weights.calc_weights_knn(coords, k=6)\n",
    "    weights.scale_by_expr(y_expr)\n",
    "\n",
    "    # convert spatial weight into loss\n",
    "    spatial_loss = SpatialLoss('icar', weights, rho=0.99, standardize_cov=False)\n",
    "\n",
    "    return spatial_loss\n",
    "\n",
    "def sp_loss_execution_ten_epoch(sp_loss):\n",
    "    x = torch.randn(sp_loss.inv_cov.shape[1], 1)\n",
    "    for _ in range(10):\n",
    "        sp_loss(x)"
   ]
  },
  {
   "cell_type": "code",
   "execution_count": 3,
   "id": "ce87e1b0-5d4a-43fb-9e97-d928b8fe16c4",
   "metadata": {},
   "outputs": [],
   "source": [
    "from memory_profiler import memory_usage"
   ]
  },
  {
   "cell_type": "markdown",
   "id": "0efcf7ea-06a6-4882-9b3e-a7fde670e920",
   "metadata": {},
   "source": [
    "## DLPFC"
   ]
  },
  {
   "cell_type": "markdown",
   "id": "a38dd25e-47c3-456e-ba6d-a7a5f711b38a",
   "metadata": {},
   "source": [
    "### Load data and preprocessing"
   ]
  },
  {
   "cell_type": "code",
   "execution_count": 4,
   "id": "ea317aa5-bac1-429a-8425-b8d9ee226575",
   "metadata": {},
   "outputs": [
    {
     "name": "stdout",
     "output_type": "stream",
     "text": [
      "WARNING: adata.X seems to be already log-transformed.\n"
     ]
    },
    {
     "name": "stderr",
     "output_type": "stream",
     "text": [
      "/Users/jysumac/miniforge3/envs/stagate/lib/python3.11/site-packages/scanpy/preprocessing/_highly_variable_genes.py:216: FutureWarning: The default of observed=False is deprecated and will be changed to True in a future version of pandas. Pass observed=False to retain current behavior or observed=True to adopt the future default and silence this warning.\n",
      "/Users/jysumac/miniforge3/envs/stagate/lib/python3.11/site-packages/anndata/_core/anndata.py:1105: FutureWarning: is_categorical_dtype is deprecated and will be removed in a future version. Use isinstance(dtype, CategoricalDtype) instead\n"
     ]
    }
   ],
   "source": [
    "data_dir = \"/Users/jysumac/Projects/Smoother_paper/data/sodb_samples/visium_normal/\" + \\\n",
    "    \"10X_Visium_maynard2021trans_151673_data.h5ad\"\n",
    "\n",
    "data = sc.read_h5ad(data_dir)\n",
    "data.layers['raw'] = data.X.copy()\n",
    "coords = data.obsm['spatial']\n",
    "\n",
    "sc.pp.normalize_total(data, target_sum=1e4)\n",
    "sc.pp.log1p(data)\n",
    "data.layers['log1p'] = data.X.copy()\n",
    "sc.pp.highly_variable_genes(data, n_top_genes=2000, subset=True)\n",
    "\n",
    "y = data.layers['log1p'][:, data.var['highly_variable']].toarray()\n",
    "y = torch.tensor(y).T # n_genes x n_spots"
   ]
  },
  {
   "cell_type": "code",
   "execution_count": 5,
   "id": "27fbc0bc-5b6c-4c98-a9ae-71e069359476",
   "metadata": {},
   "outputs": [
    {
     "data": {
      "text/plain": [
       "(AnnData object with n_obs × n_vars = 3639 × 2000\n",
       "     obs: 'in_tissue', 'array_row', 'array_col', 'Region', 'leiden'\n",
       "     var: 'gene_ids', 'feature_types', 'genome', 'highly_variable', 'means', 'dispersions', 'dispersions_norm'\n",
       "     uns: 'hvg', 'leiden', 'leiden_colors', 'log1p', 'moranI', 'neighbors', 'pca', 'spatial', 'spatial_neighbors', 'umap'\n",
       "     obsm: 'X_pca', 'X_umap', 'spatial'\n",
       "     varm: 'PCs'\n",
       "     layers: 'raw', 'log1p'\n",
       "     obsp: 'connectivities', 'distances', 'spatial_connectivities', 'spatial_distances',\n",
       " torch.Size([2000, 3639]))"
      ]
     },
     "execution_count": 5,
     "metadata": {},
     "output_type": "execute_result"
    }
   ],
   "source": [
    "data, y.shape"
   ]
  },
  {
   "cell_type": "markdown",
   "id": "daba868e-7682-4a0b-b055-7dcbb56ce80c",
   "metadata": {},
   "source": [
    "### Spatial loss"
   ]
  },
  {
   "cell_type": "code",
   "execution_count": 6,
   "id": "fdab18c0-7f5a-4f67-90ea-c43868e07304",
   "metadata": {},
   "outputs": [
    {
     "name": "stdout",
     "output_type": "stream",
     "text": [
      "Number of spots: 3639. Average number of neighbors per spot:  5.85.\n",
      "Number of spots: 3639. Average number of neighbors per spot:  5.86.\n",
      "Execution time: 0.1545250415802002 seconds\n",
      "Number of spots: 3639. Average number of neighbors per spot:  5.85.\n",
      "Number of spots: 3639. Average number of neighbors per spot:  5.86.\n",
      "peak memory: 1016.70 MiB, increment: 0.20 MiB\n"
     ]
    }
   ],
   "source": [
    "torch.manual_seed(100)\n",
    "start_time = time.time()\n",
    "sp_loss = sp_loss_construction(coords, y)\n",
    "end_time = time.time()\n",
    "print(f\"Execution time: {end_time - start_time} seconds\")\n",
    "%memit sp_loss_construction(coords, y)"
   ]
  },
  {
   "cell_type": "code",
   "execution_count": 7,
   "id": "595dcdf0-f019-411e-8a7a-dba0377d9369",
   "metadata": {},
   "outputs": [
    {
     "name": "stdout",
     "output_type": "stream",
     "text": [
      "Execution time: 0.0011655092239379883 seconds\n",
      "peak memory: 1016.88 MiB, increment: 0.00 MiB\n"
     ]
    }
   ],
   "source": [
    "torch.manual_seed(100)\n",
    "start_time = time.time()\n",
    "sp_loss_execution_ten_epoch(sp_loss)\n",
    "end_time = time.time()\n",
    "print(f\"Execution time: {(end_time - start_time)/10} seconds\")\n",
    "%memit sp_loss_execution_ten_epoch(sp_loss)"
   ]
  },
  {
   "cell_type": "markdown",
   "id": "beead86d-dbcc-4b1c-929b-57a2ce84cec1",
   "metadata": {},
   "source": [
    "### Imputation"
   ]
  },
  {
   "cell_type": "code",
   "execution_count": 8,
   "id": "0224eda7-beba-43d3-8c49-a34aa357024b",
   "metadata": {},
   "outputs": [
    {
     "name": "stdout",
     "output_type": "stream",
     "text": [
      "=== Time  0.06s. Loss: (total)  0.006, (recon)  0.005, (spatial)  0.001\n",
      "Execution time: 0.0745999813079834 seconds\n",
      "=== Time  0.04s. Loss: (total)  0.006, (recon)  0.005, (spatial)  0.001\n",
      "peak memory: 1038.72 MiB, increment: 11.25 MiB\n"
     ]
    }
   ],
   "source": [
    "sp_loss.standardize_cov = True\n",
    "y_obs = y.clone().T[:,:1]\n",
    "start_time = time.time()\n",
    "m = ImputeConvex(y_obs, sp_loss, fixed_obs = False, nonneg=False, lambda_spatial_loss = 1)\n",
    "y_imp = m.get_results()\n",
    "end_time = time.time()\n",
    "print(f\"Execution time: {end_time - start_time} seconds\")\n",
    "\n",
    "%memit ImputeConvex(y_obs, sp_loss, fixed_obs = False, nonneg=False, lambda_spatial_loss = 1)"
   ]
  },
  {
   "cell_type": "markdown",
   "id": "16bd7833-45b1-460c-a31e-4fb75c1224a6",
   "metadata": {},
   "source": [
    "### Deconvolution"
   ]
  },
  {
   "cell_type": "markdown",
   "id": "effcbb1a-0df6-4f7e-a415-41db1e5efe85",
   "metadata": {},
   "source": [
    "#### Prepare inputs"
   ]
  },
  {
   "cell_type": "code",
   "execution_count": 9,
   "id": "f3c81ed9-045d-42fd-9e0b-bb8500410318",
   "metadata": {},
   "outputs": [
    {
     "name": "stderr",
     "output_type": "stream",
     "text": [
      "/Users/jysumac/miniforge3/envs/stagate/lib/python3.11/site-packages/numpy/core/fromnumeric.py:84: FutureWarning: The behavior of DataFrame.sum with axis=None is deprecated, in a future version this will reduce over both axes and return a scalar. To retain the old behavior, pass axis=0 (or do not pass axis)\n",
      "/var/folders/_f/m4v2g8c54gdfks59bp2f2cm80000gn/T/ipykernel_32912/985343648.py:7: FutureWarning: The default of observed=False is deprecated and will be changed to True in a future version of pandas. Pass observed=False to retain current behavior or observed=True to adopt the future default and silence this warning.\n"
     ]
    }
   ],
   "source": [
    "# select marker genes\n",
    "sc.tl.rank_genes_groups(data, 'Region', method='wilcoxon')\n",
    "markers_df = sc.get.rank_genes_groups_df(\n",
    "    data, group = None, pval_cutoff = 0.01, log2fc_min = 1)\n",
    "markers_nm50 = markers_df.sort_values(\n",
    "    ['group', 'logfoldchanges'], ascending=False\n",
    ").groupby('group').head(50)\n",
    "gene_selected = markers_nm50['names'].unique()"
   ]
  },
  {
   "cell_type": "code",
   "execution_count": 10,
   "id": "97c3b74b-c5aa-41fa-aadd-cd27a26c247f",
   "metadata": {},
   "outputs": [
    {
     "name": "stdout",
     "output_type": "stream",
     "text": [
      "torch.Size([83, 7]) torch.Size([83, 3639])\n"
     ]
    },
    {
     "name": "stderr",
     "output_type": "stream",
     "text": [
      "/Users/jysumac/Projects/Smoother/smoother/simulation/utils.py:187: FutureWarning: The default of observed=False is deprecated and will be changed to True in a future version of pandas. Pass observed=False to retain current behavior or observed=True to adopt the future default and silence this warning.\n",
      "/Users/jysumac/miniforge3/envs/stagate/lib/python3.11/site-packages/anndata/_core/anndata.py:1105: FutureWarning: is_categorical_dtype is deprecated and will be removed in a future version. Use isinstance(dtype, CategoricalDtype) instead\n"
     ]
    }
   ],
   "source": [
    "# reference expression per region\n",
    "ref_exp = grouped_obs_mean(data, group_key='Region', layer = 'raw')\n",
    "ref_exp = np.log1p(ref_exp.loc[gene_selected, :])\n",
    "ref_exp = torch.tensor(ref_exp.to_numpy()).float()\n",
    "\n",
    "gene_idx = [np.where(data.var_names == g)[0][0] for g in gene_selected]\n",
    "\n",
    "# spatial counts for deconv\n",
    "y = torch.tensor(data.layers['log1p'][:, gene_idx].toarray().T).float()\n",
    "\n",
    "print(ref_exp.shape, y.shape)"
   ]
  },
  {
   "cell_type": "markdown",
   "id": "39470fd9-4785-492c-99fc-dc275f634acb",
   "metadata": {},
   "source": [
    "#### Run deconvolution"
   ]
  },
  {
   "cell_type": "code",
   "execution_count": 11,
   "id": "62bae5d4-426e-430d-9a2f-8f7a07c1618e",
   "metadata": {},
   "outputs": [
    {
     "name": "stdout",
     "output_type": "stream",
     "text": [
      "=== Time  0.47s. Total epoch 150. Final loss: (total) 0.320. (spatial) 0.008.\n",
      "peak memory: 1193.88 MiB, increment: 6.28 MiB\n"
     ]
    }
   ],
   "source": [
    "# deconvolution with NNLS\n",
    "def _deconv():\n",
    "    model = NNLS()\n",
    "    model.deconv(\n",
    "        ref_exp, y, spatial_loss=sp_loss, lambda_spatial_loss=1, \n",
    "        lr = 0.1, max_epochs = -1, verbose = False\n",
    "    )\n",
    "\n",
    "%memit _deconv()"
   ]
  },
  {
   "cell_type": "code",
   "execution_count": 12,
   "id": "fd2eb5c9-4e37-448c-a607-4b048b7a011b",
   "metadata": {},
   "outputs": [
    {
     "name": "stdout",
     "output_type": "stream",
     "text": [
      "=== Time  0.61s. Total epoch 147. Final loss: (total) 1.565. (spatial) 0.018.\n",
      "peak memory: 1195.59 MiB, increment: 1.72 MiB\n"
     ]
    }
   ],
   "source": [
    "# deconvolution with DWLS\n",
    "def _deconv():\n",
    "    model = DWLS()\n",
    "    model.deconv(\n",
    "        ref_exp, y, spatial_loss=sp_loss, lambda_spatial_loss=1, \n",
    "        lr = 0.1, max_epochs = -1, verbose = False\n",
    "    )\n",
    "\n",
    "%memit _deconv()"
   ]
  },
  {
   "cell_type": "markdown",
   "id": "38981caf-b110-41b8-adf6-134aa7032a8a",
   "metadata": {},
   "source": [
    "### Dimension reduction"
   ]
  },
  {
   "cell_type": "code",
   "execution_count": 13,
   "id": "2481d15d-6215-4ff8-82d9-9afc2da00359",
   "metadata": {},
   "outputs": [
    {
     "name": "stderr",
     "output_type": "stream",
     "text": [
      "GPU available: True (mps), used: False\n",
      "TPU available: False, using: 0 TPU cores\n",
      "IPU available: False, using: 0 IPUs\n",
      "HPU available: False, using: 0 HPUs\n",
      "/Users/jysumac/miniforge3/envs/stagate/lib/python3.11/site-packages/lightning/pytorch/trainer/setup.py:201: UserWarning: MPS available but not used. Set `accelerator` and `devices` using `Trainer(accelerator='mps', devices=1)`.\n",
      "/Users/jysumac/miniforge3/envs/stagate/lib/python3.11/site-packages/lightning/pytorch/loops/fit_loop.py:280: PossibleUserWarning: The number of training batches (1) is smaller than the logging interval Trainer(log_every_n_steps=10). Set a lower value for log_every_n_steps if you want to see logs for the training epoch.\n"
     ]
    },
    {
     "name": "stdout",
     "output_type": "stream",
     "text": [
      "Epoch 400/400: 100%|█| 400/400 [01:55<00:00,  3.42it/s, v_num=1, train_loss_step"
     ]
    },
    {
     "name": "stderr",
     "output_type": "stream",
     "text": [
      "`Trainer.fit` stopped: `max_epochs=400` reached.\n"
     ]
    },
    {
     "name": "stdout",
     "output_type": "stream",
     "text": [
      "Epoch 400/400: 100%|█| 400/400 [01:55<00:00,  3.47it/s, v_num=1, train_loss_step\n"
     ]
    }
   ],
   "source": [
    "SpatialVAE.setup_anndata(data, layer=\"raw\")\n",
    "m = SpatialVAE(st_adata=data, spatial_loss=sp_loss)\n",
    "m.train(max_epochs = 400, lr = 0.01, accelerator='cpu')"
   ]
  },
  {
   "cell_type": "markdown",
   "id": "47bf8706-2008-467b-aa87-683bd2046118",
   "metadata": {},
   "source": [
    "## CRC Stereo-seq"
   ]
  },
  {
   "cell_type": "markdown",
   "id": "f8c34b2c-fa4f-43cf-a2e5-42cba6d198e5",
   "metadata": {},
   "source": [
    "### Load data and preprocessing"
   ]
  },
  {
   "cell_type": "code",
   "execution_count": 14,
   "id": "4c9af6bd-b802-4ab2-a114-290a04802906",
   "metadata": {},
   "outputs": [
    {
     "name": "stderr",
     "output_type": "stream",
     "text": [
      "/Users/jysumac/miniforge3/envs/stagate/lib/python3.11/site-packages/scanpy/preprocessing/_highly_variable_genes.py:216: FutureWarning: The default of observed=False is deprecated and will be changed to True in a future version of pandas. Pass observed=False to retain current behavior or observed=True to adopt the future default and silence this warning.\n",
      "/Users/jysumac/miniforge3/envs/stagate/lib/python3.11/site-packages/anndata/_core/anndata.py:1105: FutureWarning: is_categorical_dtype is deprecated and will be removed in a future version. Use isinstance(dtype, CategoricalDtype) instead\n"
     ]
    }
   ],
   "source": [
    "data_dir = \"/Users/jysumac/Projects/Smoother_paper/data/crc_stereo/\" + \\\n",
    "    \"P19_T.h5ad\"\n",
    "\n",
    "data = sc.read_h5ad(data_dir)\n",
    "data.layers['raw'] = data.X.copy()\n",
    "coords = data.obs[['x', 'y']]\n",
    "\n",
    "sc.pp.normalize_total(data, target_sum=1e4)\n",
    "sc.pp.log1p(data)\n",
    "data.layers['log1p'] = data.X.copy()\n",
    "sc.pp.highly_variable_genes(data, n_top_genes=2000, subset=True)\n",
    "\n",
    "y = data.layers['log1p'][:, data.var['highly_variable']].toarray()\n",
    "y = torch.tensor(y).T # n_genes x n_spots"
   ]
  },
  {
   "cell_type": "code",
   "execution_count": 15,
   "id": "7f77b4ac-a52d-45f9-a9ca-cb3bf865fc1f",
   "metadata": {},
   "outputs": [
    {
     "data": {
      "text/plain": [
       "(AnnData object with n_obs × n_vars = 18125 × 2000\n",
       "     obs: 'orig.ident', 'nCount_RNA', 'nFeature_RNA', 'bayes_clusters', 'x', 'y'\n",
       "     var: 'features', 'highly_variable', 'means', 'dispersions', 'dispersions_norm'\n",
       "     uns: 'log1p', 'hvg'\n",
       "     layers: 'raw', 'log1p',\n",
       " torch.Size([2000, 18125]))"
      ]
     },
     "execution_count": 15,
     "metadata": {},
     "output_type": "execute_result"
    }
   ],
   "source": [
    "data, y.shape"
   ]
  },
  {
   "cell_type": "markdown",
   "id": "5c0e6e61-23f1-4db0-a6a5-662e4f326df3",
   "metadata": {},
   "source": [
    "### Spatial loss"
   ]
  },
  {
   "cell_type": "code",
   "execution_count": 16,
   "id": "ecce7341-4b78-45b5-81eb-f2c2019abd89",
   "metadata": {},
   "outputs": [
    {
     "name": "stdout",
     "output_type": "stream",
     "text": [
      "Number of spots: 18125. Average number of neighbors per spot:  4.94.\n",
      "Number of spots: 18125. Average number of neighbors per spot:  4.94.\n",
      "Execution time: 0.8040728569030762 seconds\n",
      "Number of spots: 18125. Average number of neighbors per spot:  4.94.\n",
      "Number of spots: 18125. Average number of neighbors per spot:  4.94.\n",
      "peak memory: 2838.34 MiB, increment: 278.12 MiB\n"
     ]
    }
   ],
   "source": [
    "torch.manual_seed(100)\n",
    "start_time = time.time()\n",
    "sp_loss = sp_loss_construction(coords, y)\n",
    "end_time = time.time()\n",
    "print(f\"Execution time: {end_time - start_time} seconds\")\n",
    "%memit sp_loss_construction(coords, y)"
   ]
  },
  {
   "cell_type": "code",
   "execution_count": 17,
   "id": "a41e29ba-0aff-4066-bc3d-7f13e76604d6",
   "metadata": {},
   "outputs": [
    {
     "name": "stdout",
     "output_type": "stream",
     "text": [
      "Execution time: 0.0012638092041015625 seconds\n",
      "peak memory: 2577.91 MiB, increment: 0.00 MiB\n"
     ]
    }
   ],
   "source": [
    "torch.manual_seed(100)\n",
    "start_time = time.time()\n",
    "sp_loss_execution_ten_epoch(sp_loss)\n",
    "end_time = time.time()\n",
    "print(f\"Execution time: {(end_time - start_time)/10} seconds\")\n",
    "%memit sp_loss_execution_ten_epoch(sp_loss)"
   ]
  },
  {
   "cell_type": "markdown",
   "id": "26035a97-a40c-4f38-8210-24cd700e4b66",
   "metadata": {},
   "source": [
    "### Imputation"
   ]
  },
  {
   "cell_type": "code",
   "execution_count": 18,
   "id": "947ef5e9-4239-4d0a-8f6f-399c29384fcd",
   "metadata": {},
   "outputs": [
    {
     "name": "stdout",
     "output_type": "stream",
     "text": [
      "=== Time  0.18s. Loss: (total)  0.196, (recon)  0.123, (spatial)  0.073\n",
      "Execution time: 0.1871318817138672 seconds\n",
      "=== Time  0.15s. Loss: (total)  0.196, (recon)  0.123, (spatial)  0.073\n",
      "peak memory: 2920.62 MiB, increment: 57.16 MiB\n"
     ]
    }
   ],
   "source": [
    "sp_loss.standardize_cov = True\n",
    "y_obs = y.clone().T[:,:1]\n",
    "start_time = time.time()\n",
    "m = ImputeConvex(y_obs, sp_loss, fixed_obs = False, nonneg=False, lambda_spatial_loss = 1)\n",
    "y_imp = m.get_results()\n",
    "end_time = time.time()\n",
    "print(f\"Execution time: {end_time - start_time} seconds\")\n",
    "\n",
    "%memit ImputeConvex(y_obs, sp_loss, fixed_obs = False, nonneg=False, lambda_spatial_loss = 1)"
   ]
  },
  {
   "cell_type": "markdown",
   "id": "60bc393c-0e87-47f6-8ff2-a64dd6d64706",
   "metadata": {},
   "source": [
    "### Deconvolution"
   ]
  },
  {
   "cell_type": "markdown",
   "id": "1f351b1b-43c8-4eab-a645-aca7f2af10db",
   "metadata": {},
   "source": [
    "#### Prepare inputs"
   ]
  },
  {
   "cell_type": "code",
   "execution_count": 19,
   "id": "9eb4c60d-2c43-4a1a-8327-3452328f4dd4",
   "metadata": {},
   "outputs": [
    {
     "name": "stderr",
     "output_type": "stream",
     "text": [
      "/Users/jysumac/miniforge3/envs/stagate/lib/python3.11/site-packages/numpy/core/fromnumeric.py:84: FutureWarning: The behavior of DataFrame.sum with axis=None is deprecated, in a future version this will reduce over both axes and return a scalar. To retain the old behavior, pass axis=0 (or do not pass axis)\n"
     ]
    }
   ],
   "source": [
    "# select marker genes\n",
    "data.obs['cluster'] = pd.Categorical(data.obs['bayes_clusters'])\n",
    "sc.tl.rank_genes_groups(\n",
    "    data, 'cluster', method='wilcoxon', use_raw = False, layer = 'log1p'\n",
    ")\n",
    "markers_df = sc.get.rank_genes_groups_df(\n",
    "    data, group = None, pval_cutoff = 0.01, log2fc_min = 1\n",
    ")\n",
    "gene_selected = markers_df['names'].unique()"
   ]
  },
  {
   "cell_type": "code",
   "execution_count": 20,
   "id": "2c6a1a3b-1ef9-45a8-a05a-5ff21635747a",
   "metadata": {},
   "outputs": [
    {
     "name": "stdout",
     "output_type": "stream",
     "text": [
      "torch.Size([90, 12]) torch.Size([90, 18125])\n"
     ]
    },
    {
     "name": "stderr",
     "output_type": "stream",
     "text": [
      "/Users/jysumac/Projects/Smoother/smoother/simulation/utils.py:187: FutureWarning: The default of observed=False is deprecated and will be changed to True in a future version of pandas. Pass observed=False to retain current behavior or observed=True to adopt the future default and silence this warning.\n",
      "/Users/jysumac/miniforge3/envs/stagate/lib/python3.11/site-packages/anndata/_core/anndata.py:1105: FutureWarning: is_categorical_dtype is deprecated and will be removed in a future version. Use isinstance(dtype, CategoricalDtype) instead\n"
     ]
    }
   ],
   "source": [
    "# reference expression per region\n",
    "ref_exp = grouped_obs_mean(data, group_key='cluster', layer = 'raw')\n",
    "ref_exp = np.log1p(ref_exp.loc[gene_selected, :])\n",
    "ref_exp = torch.tensor(ref_exp.to_numpy()).float()\n",
    "\n",
    "gene_idx = [np.where(data.var_names == g)[0][0] for g in gene_selected]\n",
    "\n",
    "# spatial counts for deconv\n",
    "y = torch.tensor(data.layers['log1p'][:, gene_idx].toarray().T).float()\n",
    "\n",
    "print(ref_exp.shape, y.shape)"
   ]
  },
  {
   "cell_type": "markdown",
   "id": "7351cadd-8c1c-4933-846a-4b03e6879cd7",
   "metadata": {},
   "source": [
    "#### Run deconvolution"
   ]
  },
  {
   "cell_type": "code",
   "execution_count": 21,
   "id": "bdaf11cb-e90e-4f42-850b-730496546933",
   "metadata": {},
   "outputs": [
    {
     "name": "stdout",
     "output_type": "stream",
     "text": [
      "=== Time  8.64s. Total epoch 586. Final loss: (total) 0.485. (spatial) 0.007.\n",
      "peak memory: 2392.78 MiB, increment: 37.70 MiB\n"
     ]
    }
   ],
   "source": [
    "# deconvolution with NNLS\n",
    "def _deconv():\n",
    "    model = NNLS()\n",
    "    model.deconv(\n",
    "        ref_exp, y, spatial_loss=sp_loss, lambda_spatial_loss=1, \n",
    "        lr = 0.1, max_epochs = -1, verbose = False\n",
    "    )\n",
    "\n",
    "%memit _deconv()"
   ]
  },
  {
   "cell_type": "code",
   "execution_count": 22,
   "id": "e53682ba-8380-4ed0-ab5c-8e22ba683eac",
   "metadata": {},
   "outputs": [
    {
     "name": "stdout",
     "output_type": "stream",
     "text": [
      "=== Time  12.59s. Total epoch 638. Final loss: (total) 2.052. (spatial) 0.015.\n",
      "peak memory: 2399.69 MiB, increment: 6.91 MiB\n"
     ]
    }
   ],
   "source": [
    "# deconvolution with DWLS\n",
    "def _deconv():\n",
    "    model = DWLS()\n",
    "    model.deconv(\n",
    "        ref_exp, y, spatial_loss=sp_loss, lambda_spatial_loss=1, \n",
    "        lr = 0.1, max_epochs = -1, verbose = False\n",
    "    )\n",
    "\n",
    "%memit _deconv()"
   ]
  },
  {
   "cell_type": "markdown",
   "id": "fb648db5-02e9-4670-a3aa-348863d90ac3",
   "metadata": {},
   "source": [
    "### Dimension reduction"
   ]
  },
  {
   "cell_type": "code",
   "execution_count": 23,
   "id": "7cf31250-ed01-4387-a7cc-a884dffce405",
   "metadata": {},
   "outputs": [
    {
     "name": "stderr",
     "output_type": "stream",
     "text": [
      "GPU available: True (mps), used: False\n",
      "TPU available: False, using: 0 TPU cores\n",
      "IPU available: False, using: 0 IPUs\n",
      "HPU available: False, using: 0 HPUs\n",
      "/Users/jysumac/miniforge3/envs/stagate/lib/python3.11/site-packages/lightning/pytorch/trainer/setup.py:201: UserWarning: MPS available but not used. Set `accelerator` and `devices` using `Trainer(accelerator='mps', devices=1)`.\n",
      "/Users/jysumac/miniforge3/envs/stagate/lib/python3.11/site-packages/lightning/pytorch/loops/fit_loop.py:280: PossibleUserWarning: The number of training batches (1) is smaller than the logging interval Trainer(log_every_n_steps=10). Set a lower value for log_every_n_steps if you want to see logs for the training epoch.\n"
     ]
    },
    {
     "name": "stdout",
     "output_type": "stream",
     "text": [
      "Epoch 400/400: 100%|█| 400/400 [10:32<00:00,  1.61s/it, v_num=1, train_loss_step"
     ]
    },
    {
     "name": "stderr",
     "output_type": "stream",
     "text": [
      "`Trainer.fit` stopped: `max_epochs=400` reached.\n"
     ]
    },
    {
     "name": "stdout",
     "output_type": "stream",
     "text": [
      "Epoch 400/400: 100%|█| 400/400 [10:32<00:00,  1.58s/it, v_num=1, train_loss_step\n"
     ]
    }
   ],
   "source": [
    "SpatialVAE.setup_anndata(data, layer=\"raw\")\n",
    "m = SpatialVAE(st_adata=data, spatial_loss=sp_loss)\n",
    "m.train(max_epochs = 400, lr = 0.01, accelerator='cpu')"
   ]
  },
  {
   "cell_type": "markdown",
   "id": "7da9ef3f-85ae-4ef0-99e5-a57d56d07dad",
   "metadata": {},
   "source": [
    "## Prostate Slide-seqV2"
   ]
  },
  {
   "cell_type": "markdown",
   "id": "dd887b4c-490a-43c9-a488-cc3d39f72377",
   "metadata": {},
   "source": [
    "### Load data and preprocessing"
   ]
  },
  {
   "cell_type": "code",
   "execution_count": 24,
   "id": "362692ee-5a91-40c8-b7f8-9dd214125ed1",
   "metadata": {},
   "outputs": [
    {
     "name": "stderr",
     "output_type": "stream",
     "text": [
      "/Users/jysumac/miniforge3/envs/stagate/lib/python3.11/site-packages/scanpy/preprocessing/_highly_variable_genes.py:216: FutureWarning: The default of observed=False is deprecated and will be changed to True in a future version of pandas. Pass observed=False to retain current behavior or observed=True to adopt the future default and silence this warning.\n",
      "/Users/jysumac/miniforge3/envs/stagate/lib/python3.11/site-packages/anndata/_core/anndata.py:1105: FutureWarning: is_categorical_dtype is deprecated and will be removed in a future version. Use isinstance(dtype, CategoricalDtype) instead\n"
     ]
    }
   ],
   "source": [
    "data_dir = \"/Users/jysumac/Projects/Smoother_paper/data/prostate_ref_mapping/\" + \\\n",
    "    \"ST_HP1.h5ad\"\n",
    "\n",
    "data = sc.read_h5ad(data_dir)\n",
    "data.layers['raw'] = data.X.copy()\n",
    "coords = data.obs[['xcoord', 'ycoord']]\n",
    "\n",
    "sc.pp.normalize_total(data, target_sum=1e4)\n",
    "sc.pp.log1p(data)\n",
    "data.layers['log1p'] = data.X.copy()\n",
    "sc.pp.highly_variable_genes(data, n_top_genes=2000, subset=True)\n",
    "\n",
    "y = data.layers['log1p'][:, data.var['highly_variable']].toarray()\n",
    "y = torch.tensor(y).T # n_genes x n_spots"
   ]
  },
  {
   "cell_type": "code",
   "execution_count": 25,
   "id": "9ec4ce8f-f360-43aa-92c5-880a6705667b",
   "metadata": {},
   "outputs": [
    {
     "data": {
      "text/plain": [
       "(AnnData object with n_obs × n_vars = 29278 × 2000\n",
       "     obs: 'orig.ident', 'nCount_RNA', 'nFeature_RNA', 'cell1', 'cell2', 'xcoord', 'ycoord', 'batch'\n",
       "     var: 'features', 'highly_variable', 'means', 'dispersions', 'dispersions_norm'\n",
       "     uns: 'log1p', 'hvg'\n",
       "     layers: 'raw', 'log1p',\n",
       " torch.Size([2000, 29278]))"
      ]
     },
     "execution_count": 25,
     "metadata": {},
     "output_type": "execute_result"
    }
   ],
   "source": [
    "data, y.shape"
   ]
  },
  {
   "cell_type": "code",
   "execution_count": 26,
   "id": "c88cf637-464e-481a-ba7d-bfe4e4c5a22d",
   "metadata": {},
   "outputs": [
    {
     "data": {
      "text/plain": [
       "array(['Epithelial', 'Fibroblasts', 'Pericytes', 'Endothelial',\n",
       "       'Macrophage', 'mDC', 'plasma cells', 'Tcell', 'Mast cells', 'PDC',\n",
       "       'B cells', 'Monocytes'], dtype=object)"
      ]
     },
     "execution_count": 26,
     "metadata": {},
     "output_type": "execute_result"
    }
   ],
   "source": [
    "data.obs['cell1'].unique()"
   ]
  },
  {
   "cell_type": "markdown",
   "id": "c43a618a-7bb7-4128-9c20-5709706ce5f9",
   "metadata": {},
   "source": [
    "### Spatial loss"
   ]
  },
  {
   "cell_type": "code",
   "execution_count": 27,
   "id": "cd58bdca-33a6-45b0-8669-ea2bac2df767",
   "metadata": {},
   "outputs": [
    {
     "name": "stdout",
     "output_type": "stream",
     "text": [
      "Number of spots: 29278. Average number of neighbors per spot:  5.13.\n",
      "Number of spots: 29278. Average number of neighbors per spot:  5.14.\n",
      "Execution time: 1.3070640563964844 seconds\n",
      "Number of spots: 29278. Average number of neighbors per spot:  5.13.\n",
      "Number of spots: 29278. Average number of neighbors per spot:  5.14.\n",
      "peak memory: 3902.94 MiB, increment: 784.94 MiB\n"
     ]
    }
   ],
   "source": [
    "torch.manual_seed(100)\n",
    "start_time = time.time()\n",
    "sp_loss = sp_loss_construction(coords, y)\n",
    "end_time = time.time()\n",
    "print(f\"Execution time: {end_time - start_time} seconds\")\n",
    "%memit sp_loss_construction(coords, y)"
   ]
  },
  {
   "cell_type": "code",
   "execution_count": 28,
   "id": "ec007f2f-8ac1-4947-b019-9a97b2e3f56c",
   "metadata": {},
   "outputs": [
    {
     "name": "stdout",
     "output_type": "stream",
     "text": [
      "Execution time: 0.004995584487915039 seconds\n",
      "peak memory: 3136.48 MiB, increment: 0.00 MiB\n"
     ]
    }
   ],
   "source": [
    "torch.manual_seed(100)\n",
    "start_time = time.time()\n",
    "sp_loss_execution_ten_epoch(sp_loss)\n",
    "end_time = time.time()\n",
    "print(f\"Execution time: {(end_time - start_time)/10} seconds\")\n",
    "%memit sp_loss_execution_ten_epoch(sp_loss)"
   ]
  },
  {
   "cell_type": "markdown",
   "id": "ac0b2330-52a6-4b71-9cc3-7006d1912417",
   "metadata": {},
   "source": [
    "### Imputation"
   ]
  },
  {
   "cell_type": "code",
   "execution_count": 29,
   "id": "123be3f2-8e2a-4e03-aeeb-1e95161c55bc",
   "metadata": {},
   "outputs": [
    {
     "name": "stdout",
     "output_type": "stream",
     "text": [
      "=== Time  0.24s. Loss: (total)  0.907, (recon)  0.537, (spatial)  0.369\n",
      "Execution time: 0.25188302993774414 seconds\n",
      "=== Time  0.22s. Loss: (total)  0.907, (recon)  0.537, (spatial)  0.369\n",
      "peak memory: 3478.31 MiB, increment: 92.14 MiB\n"
     ]
    }
   ],
   "source": [
    "sp_loss.standardize_cov = True\n",
    "y_obs = y.clone().T[:,:1]\n",
    "start_time = time.time()\n",
    "m = ImputeConvex(y_obs, sp_loss, fixed_obs = False, nonneg=False, lambda_spatial_loss = 1)\n",
    "y_imp = m.get_results()\n",
    "end_time = time.time()\n",
    "print(f\"Execution time: {end_time - start_time} seconds\")\n",
    "\n",
    "%memit ImputeConvex(y_obs, sp_loss, fixed_obs = False, nonneg=False, lambda_spatial_loss = 1)"
   ]
  },
  {
   "cell_type": "markdown",
   "id": "54086041-eadc-4f2a-9d11-d17320bcb1e1",
   "metadata": {},
   "source": [
    "### Deconvolution"
   ]
  },
  {
   "cell_type": "markdown",
   "id": "db05dfa0-3665-4f40-9232-f190b08e2e73",
   "metadata": {},
   "source": [
    "#### Prepare inputs"
   ]
  },
  {
   "cell_type": "code",
   "execution_count": 30,
   "id": "a6e70f99-3a28-4839-9008-328e0304377b",
   "metadata": {},
   "outputs": [
    {
     "name": "stderr",
     "output_type": "stream",
     "text": [
      "/Users/jysumac/miniforge3/envs/stagate/lib/python3.11/site-packages/numpy/core/fromnumeric.py:84: FutureWarning: The behavior of DataFrame.sum with axis=None is deprecated, in a future version this will reduce over both axes and return a scalar. To retain the old behavior, pass axis=0 (or do not pass axis)\n"
     ]
    }
   ],
   "source": [
    "# select marker genes\n",
    "data.obs['cluster'] = pd.Categorical(data.obs['cell1'])\n",
    "sc.tl.rank_genes_groups(\n",
    "    data, 'cluster', method='wilcoxon', use_raw = False, layer = 'log1p'\n",
    ")\n",
    "markers_df = sc.get.rank_genes_groups_df(\n",
    "    data, group = None, pval_cutoff = 0.01, log2fc_min = 1\n",
    ")\n",
    "gene_selected = markers_df['names'].unique()"
   ]
  },
  {
   "cell_type": "code",
   "execution_count": 31,
   "id": "17bbd076-3551-4331-b291-70ad335fe87c",
   "metadata": {},
   "outputs": [
    {
     "name": "stdout",
     "output_type": "stream",
     "text": [
      "torch.Size([145, 12]) torch.Size([145, 29278])\n"
     ]
    },
    {
     "name": "stderr",
     "output_type": "stream",
     "text": [
      "/Users/jysumac/Projects/Smoother/smoother/simulation/utils.py:187: FutureWarning: The default of observed=False is deprecated and will be changed to True in a future version of pandas. Pass observed=False to retain current behavior or observed=True to adopt the future default and silence this warning.\n",
      "/Users/jysumac/miniforge3/envs/stagate/lib/python3.11/site-packages/anndata/_core/anndata.py:1105: FutureWarning: is_categorical_dtype is deprecated and will be removed in a future version. Use isinstance(dtype, CategoricalDtype) instead\n"
     ]
    }
   ],
   "source": [
    "# reference expression per region\n",
    "ref_exp = grouped_obs_mean(data, group_key='cluster', layer = 'raw')\n",
    "ref_exp = np.log1p(ref_exp.loc[gene_selected, :])\n",
    "ref_exp = torch.tensor(ref_exp.to_numpy()).float()\n",
    "\n",
    "gene_idx = [np.where(data.var_names == g)[0][0] for g in gene_selected]\n",
    "\n",
    "# spatial counts for deconv\n",
    "y = torch.tensor(data.layers['log1p'][:, gene_idx].toarray().T).float()\n",
    "\n",
    "print(ref_exp.shape, y.shape)"
   ]
  },
  {
   "cell_type": "markdown",
   "id": "19833256-aaca-4741-afcb-67b5ed27d435",
   "metadata": {},
   "source": [
    "#### Run deconvolution"
   ]
  },
  {
   "cell_type": "code",
   "execution_count": 32,
   "id": "ec77e054-debf-428e-8f88-2f9b4f68121a",
   "metadata": {},
   "outputs": [
    {
     "name": "stdout",
     "output_type": "stream",
     "text": [
      "=== Time  11.12s. Total epoch 348. Final loss: (total) 0.683. (spatial) 0.015.\n",
      "peak memory: 3080.80 MiB, increment: 6.70 MiB\n"
     ]
    }
   ],
   "source": [
    "# deconvolution with NNLS\n",
    "def _deconv():\n",
    "    model = NNLS()\n",
    "    model.deconv(\n",
    "        ref_exp, y, spatial_loss=sp_loss, lambda_spatial_loss=1, \n",
    "        lr = 0.1, max_epochs = -1, verbose = False\n",
    "    )\n",
    "\n",
    "%memit _deconv()"
   ]
  },
  {
   "cell_type": "code",
   "execution_count": 33,
   "id": "0a639ede-c616-4f32-a36e-8f24cc0f160a",
   "metadata": {},
   "outputs": [
    {
     "name": "stdout",
     "output_type": "stream",
     "text": [
      "=== Time  15.50s. Total epoch 315. Final loss: (total) 1.823. (spatial) 0.022.\n",
      "peak memory: 3035.33 MiB, increment: 16.20 MiB\n"
     ]
    }
   ],
   "source": [
    "# deconvolution with DWLS\n",
    "def _deconv():\n",
    "    model = DWLS()\n",
    "    model.deconv(\n",
    "        ref_exp, y, spatial_loss=sp_loss, lambda_spatial_loss=1, \n",
    "        lr = 0.1, max_epochs = -1, verbose = False\n",
    "    )\n",
    "\n",
    "%memit _deconv()"
   ]
  },
  {
   "cell_type": "markdown",
   "id": "07204bc4-56c7-4722-b34f-f3ab84d97003",
   "metadata": {},
   "source": [
    "### Dimension reduction"
   ]
  },
  {
   "cell_type": "code",
   "execution_count": 34,
   "id": "9ef24911-dd99-4562-a8f1-69a432b7f4d6",
   "metadata": {},
   "outputs": [
    {
     "name": "stderr",
     "output_type": "stream",
     "text": [
      "GPU available: True (mps), used: False\n",
      "TPU available: False, using: 0 TPU cores\n",
      "IPU available: False, using: 0 IPUs\n",
      "HPU available: False, using: 0 HPUs\n",
      "/Users/jysumac/miniforge3/envs/stagate/lib/python3.11/site-packages/lightning/pytorch/trainer/setup.py:201: UserWarning: MPS available but not used. Set `accelerator` and `devices` using `Trainer(accelerator='mps', devices=1)`.\n",
      "/Users/jysumac/miniforge3/envs/stagate/lib/python3.11/site-packages/lightning/pytorch/loops/fit_loop.py:280: PossibleUserWarning: The number of training batches (1) is smaller than the logging interval Trainer(log_every_n_steps=10). Set a lower value for log_every_n_steps if you want to see logs for the training epoch.\n"
     ]
    },
    {
     "name": "stdout",
     "output_type": "stream",
     "text": [
      "Epoch 400/400: 100%|█| 400/400 [15:33<00:00,  2.33s/it, v_num=1, train_loss_step"
     ]
    },
    {
     "name": "stderr",
     "output_type": "stream",
     "text": [
      "`Trainer.fit` stopped: `max_epochs=400` reached.\n"
     ]
    },
    {
     "name": "stdout",
     "output_type": "stream",
     "text": [
      "Epoch 400/400: 100%|█| 400/400 [15:33<00:00,  2.33s/it, v_num=1, train_loss_step\n"
     ]
    }
   ],
   "source": [
    "SpatialVAE.setup_anndata(data, layer=\"raw\")\n",
    "m = SpatialVAE(st_adata=data, spatial_loss=sp_loss)\n",
    "m.train(max_epochs = 400, lr = 0.01, accelerator='cpu')"
   ]
  },
  {
   "cell_type": "code",
   "execution_count": null,
   "id": "d807639d-4698-44dd-8b86-52f1ee17f674",
   "metadata": {},
   "outputs": [],
   "source": []
  }
 ],
 "metadata": {
  "kernelspec": {
   "display_name": "stagate",
   "language": "python",
   "name": "stagate"
  },
  "language_info": {
   "codemirror_mode": {
    "name": "ipython",
    "version": 3
   },
   "file_extension": ".py",
   "mimetype": "text/x-python",
   "name": "python",
   "nbconvert_exporter": "python",
   "pygments_lexer": "ipython3",
   "version": "3.11.4"
  }
 },
 "nbformat": 4,
 "nbformat_minor": 5
}
